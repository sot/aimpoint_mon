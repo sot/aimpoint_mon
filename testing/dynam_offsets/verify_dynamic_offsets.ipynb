{
 "cells": [
  {
   "cell_type": "markdown",
   "metadata": {},
   "source": [
    "## Check the test dynamic_offset.txt files for self-consistency\n",
    "\n",
    "The expectation is that `calc_aca_from_targ(target, y_off, z_off, SI_ALIGN)` should be the same as the `aca` coordinate.  Here `y_off` is the sum of the two offsets `target_offset_y + aca_offset_y`.\n",
    "\n",
    "Instead there is a residual which looks like the CHARACTERISTICS offset (around -3, +11 arcsec)."
   ]
  },
  {
   "cell_type": "code",
   "execution_count": 1,
   "metadata": {
    "collapsed": true
   },
   "outputs": [],
   "source": [
    "from __future__ import division, print_function\n",
    "from astropy.table import Table\n",
    "import numpy as np\n",
    "from Quaternion import Quat\n",
    "import chandra_aca\n",
    "from chandra_aca import calc_aca_from_targ\n",
    "import parse_cm"
   ]
  },
  {
   "cell_type": "code",
   "execution_count": 2,
   "metadata": {
    "collapsed": false
   },
   "outputs": [
    {
     "data": {
      "text/plain": [
       "array([[  9.99999906e-01,  -3.37419984e-04,  -2.73439987e-04],\n",
       "       [  3.37419984e-04,   9.99999943e-01,  -4.61320600e-08],\n",
       "       [  2.73439987e-04,  -4.61320600e-08,   9.99999963e-01]])"
      ]
     },
     "execution_count": 2,
     "metadata": {},
     "output_type": "execute_result"
    }
   ],
   "source": [
    "# SI_ALIGN from Matlab code\n",
    "SI_ALIGN = chandra_aca.ODB_SI_ALIGN\n",
    "SI_ALIGN"
   ]
  },
  {
   "cell_type": "code",
   "execution_count": 3,
   "metadata": {
    "collapsed": false
   },
   "outputs": [],
   "source": [
    "def print_dq(q1, q2):\n",
    "    \"\"\"\n",
    "    Print the difference between two quaternions\n",
    "    \"\"\"\n",
    "    dq = q1.inv() * q2\n",
    "    dr, dp, dy, _ = np.degrees(dq.q) * 2 * 3600\n",
    "    print('droll={:6.2f}, dpitch={:6.2f}, dyaw={:6.2f} arcsec'.format(dr, dp, dy))"
   ]
  },
  {
   "cell_type": "code",
   "execution_count": 4,
   "metadata": {
    "collapsed": true
   },
   "outputs": [],
   "source": [
    "def check_obs(obs):\n",
    "    \"\"\"\n",
    "    Check `obs` (which is a row out of the dynamic offsets table) for consistency\n",
    "    between target and aca coordinates given the target and aca offsets and the\n",
    "    SI_ALIGN alignment matrix\n",
    "    \"\"\"\n",
    "    y_off = (obs['target_offset_y'] + obs['aca_offset_y']) / 3600\n",
    "    z_off = (obs['target_offset_z'] + obs['aca_offset_z']) / 3600\n",
    "    \n",
    "    q_targ = Quat([obs['target_ra'], obs['target_dec'], obs['target_roll']])\n",
    "    q_aca = Quat([obs['aca_ra'], obs['aca_dec'], obs['aca_roll']])\n",
    "    \n",
    "    q_aca_out = calc_aca_from_targ(q_targ, y_off, z_off, SI_ALIGN)\n",
    "    print('Obsid={} detector={} '.format(obs['obsid'], obs['detector']), end='')\n",
    "    print_dq(q_aca, q_aca_out)"
   ]
  },
  {
   "cell_type": "code",
   "execution_count": 5,
   "metadata": {
    "collapsed": false
   },
   "outputs": [],
   "source": [
    "dat = Table.read('MAY0916/MAY0916_sample_aimpoint_adjustment_file.txt', format='ascii')"
   ]
  },
  {
   "cell_type": "code",
   "execution_count": 6,
   "metadata": {
    "collapsed": false
   },
   "outputs": [
    {
     "data": {
      "text/html": [
       "&lt;Table masked=False length=3&gt;\n",
       "<table id=\"table140574040876304\">\n",
       "<thead><tr><th>obsid</th><th>detector</th><th>chipx</th><th>chipy</th><th>chip_id</th><th>target_offset_y</th><th>target_offset_z</th><th>target_ra</th><th>target_dec</th><th>target_roll</th><th>aca_offset_y</th><th>aca_offset_z</th><th>aca_ra</th><th>aca_dec</th><th>aca_roll</th><th>mean_date</th><th>mean_t_ccd</th></tr></thead>\n",
       "<thead><tr><th>int64</th><th>string48</th><th>float64</th><th>float64</th><th>int64</th><th>float64</th><th>float64</th><th>float64</th><th>float64</th><th>float64</th><th>float64</th><th>float64</th><th>float64</th><th>float64</th><th>float64</th><th>string168</th><th>float64</th></tr></thead>\n",
       "<tr><td>18225</td><td>ACIS-S</td><td>200.7</td><td>467.9</td><td>7</td><td>-90.0</td><td>-18.0</td><td>227.366667</td><td>7.555556</td><td>179.999539</td><td>27.6</td><td>13.13</td><td>227.372188</td><td>7.570852</td><td>179.999271</td><td>2016:131:11:37:27.816</td><td>-15.81</td></tr>\n",
       "<tr><td>17146</td><td>ACIS-I</td><td>930.2</td><td>1009.6</td><td>3</td><td>-18.0</td><td>-18.0</td><td>299.698333</td><td>40.893111</td><td>114.998359</td><td>27.41</td><td>9.12</td><td>299.728928</td><td>40.876608</td><td>114.979974</td><td>2016:131:23:55:27.816</td><td>-16.41</td></tr>\n",
       "<tr><td>18310</td><td>ACIS-I</td><td>970.0</td><td>980.0</td><td>3</td><td>-18.0</td><td>-18.0</td><td>265.21363</td><td>-28.29669</td><td>81.021791</td><td>10.81</td><td>-11.4</td><td>265.219367</td><td>-28.317856</td><td>81.024325</td><td>2016:132:04:17:51.816</td><td>-15.9</td></tr>\n",
       "</table>"
      ],
      "text/plain": [
       "<Table masked=False length=3>\n",
       "obsid detector  chipx   chipy  ...  aca_roll        mean_date       mean_t_ccd\n",
       "int64 string48 float64 float64 ...  float64         string168        float64  \n",
       "----- -------- ------- ------- ... ---------- --------------------- ----------\n",
       "18225   ACIS-S   200.7   467.9 ... 179.999271 2016:131:11:37:27.816     -15.81\n",
       "17146   ACIS-I   930.2  1009.6 ... 114.979974 2016:131:23:55:27.816     -16.41\n",
       "18310   ACIS-I   970.0   980.0 ...  81.024325 2016:132:04:17:51.816      -15.9"
      ]
     },
     "execution_count": 6,
     "metadata": {},
     "output_type": "execute_result"
    }
   ],
   "source": [
    "dat[:3]"
   ]
  },
  {
   "cell_type": "code",
   "execution_count": 7,
   "metadata": {
    "collapsed": false
   },
   "outputs": [
    {
     "name": "stdout",
     "output_type": "stream",
     "text": [
      "Obsid=18225 detector=ACIS-S droll= -1.66, dpitch= -3.53, dyaw= 12.50 arcsec\n",
      "Obsid=17146 detector=ACIS-I droll= -5.90, dpitch= -2.86, dyaw= 10.02 arcsec\n",
      "Obsid=18310 detector=ACIS-I droll=  0.67, dpitch= -2.85, dyaw= 10.02 arcsec\n",
      "Obsid=18311 detector=ACIS-I droll=  0.68, dpitch= -2.85, dyaw= 10.01 arcsec\n",
      "Obsid=18312 detector=ACIS-I droll=  0.71, dpitch= -2.86, dyaw= 10.02 arcsec\n",
      "Obsid=18313 detector=ACIS-I droll=  0.69, dpitch= -2.86, dyaw= 10.02 arcsec\n",
      "Obsid=18314 detector=ACIS-I droll=  0.70, dpitch= -2.85, dyaw= 10.02 arcsec\n",
      "Obsid=18315 detector=ACIS-I droll=  0.71, dpitch= -2.85, dyaw= 10.02 arcsec\n",
      "Obsid=18316 detector=ACIS-I droll=  0.73, dpitch= -2.85, dyaw= 10.02 arcsec\n",
      "Obsid=18317 detector=ACIS-I droll=  0.74, dpitch= -2.85, dyaw= 10.02 arcsec\n",
      "Obsid=18318 detector=ACIS-I droll=  0.72, dpitch= -2.86, dyaw= 10.02 arcsec\n",
      "Obsid=18319 detector=ACIS-I droll=  0.74, dpitch= -2.85, dyaw= 10.02 arcsec\n",
      "Obsid=18320 detector=ACIS-I droll=  0.67, dpitch= -2.85, dyaw= 10.02 arcsec\n",
      "Obsid=18108 detector=ACIS-S droll= -2.62, dpitch= -3.54, dyaw= 12.50 arcsec\n",
      "Obsid=18846 detector=ACIS-I droll= -5.90, dpitch= -2.86, dyaw= 10.02 arcsec\n",
      "Obsid=18848 detector=ACIS-S droll= -1.66, dpitch= -3.54, dyaw= 12.50 arcsec\n",
      "Obsid=17469 detector=ACIS-S droll= -0.25, dpitch= -3.54, dyaw= 12.51 arcsec\n",
      "Obsid=17106 detector=ACIS-I droll= -9.74, dpitch= -2.85, dyaw= 10.02 arcsec\n",
      "Obsid=17761 detector=ACIS-S droll= -0.97, dpitch= -3.54, dyaw= 12.51 arcsec\n",
      "Obsid=18481 detector=ACIS-I droll= -6.80, dpitch= -2.86, dyaw= 10.02 arcsec\n",
      "Obsid=16971 detector=ACIS-S droll= -1.54, dpitch= -3.54, dyaw= 12.50 arcsec\n",
      "Obsid=17212 detector=ACIS-I droll= 13.18, dpitch= -2.85, dyaw= 10.02 arcsec\n",
      "Obsid=18141 detector=ACIS-S droll= -3.07, dpitch= -3.54, dyaw= 12.50 arcsec\n",
      "Obsid=18480 detector=ACIS-I droll= -6.70, dpitch= -2.85, dyaw= 10.02 arcsec\n",
      "Obsid=18845 detector=ACIS-S droll= -1.54, dpitch= -3.54, dyaw= 12.50 arcsec\n",
      "Obsid=18847 detector=ACIS-I droll= 13.18, dpitch= -2.86, dyaw= 10.02 arcsec\n",
      "Obsid=17085 detector=ACIS-S droll=-16.50, dpitch= -3.54, dyaw= 12.50 arcsec\n"
     ]
    }
   ],
   "source": [
    "# Check each observation\n",
    "for obs in dat:\n",
    "    check_obs(obs)"
   ]
  },
  {
   "cell_type": "code",
   "execution_count": 8,
   "metadata": {
    "collapsed": true
   },
   "outputs": [],
   "source": [
    "dat = Table.read('JUN2016/JUN2016B_dynamical_offsets.txt', format='ascii')"
   ]
  },
  {
   "cell_type": "code",
   "execution_count": 9,
   "metadata": {
    "collapsed": false
   },
   "outputs": [
    {
     "name": "stdout",
     "output_type": "stream",
     "text": [
      "Obsid=17749 detector=ACIS-S droll= -6.55, dpitch= -3.33, dyaw= 11.96 arcsec\n",
      "Obsid=18032 detector=ACIS-S droll=-45.87, dpitch= -3.35, dyaw= 11.94 arcsec\n",
      "Obsid=18054 detector=ACIS-I droll= 15.65, dpitch= -2.64, dyaw=  9.47 arcsec\n",
      "Obsid=17870 detector=ACIS-S droll=-12.47, dpitch= -3.33, dyaw= 11.95 arcsec\n",
      "Obsid=17790 detector=ACIS-S droll= -8.30, dpitch= -3.33, dyaw= 11.96 arcsec\n",
      "Obsid=18289 detector=ACIS-I droll= 17.38, dpitch= -2.65, dyaw=  9.48 arcsec\n",
      "Obsid=17510 detector=ACIS-I droll= -8.38, dpitch= -2.65, dyaw=  9.46 arcsec\n"
     ]
    }
   ],
   "source": [
    "for obs in dat:\n",
    "    check_obs(obs)"
   ]
  },
  {
   "cell_type": "markdown",
   "metadata": {},
   "source": [
    "## Validate calc_aca_from_targ() using JUN0115 obsid 17058.\n",
    "\n",
    "Validate the Ska function to transform from target coordinates to ACA pointing assuming an SI_ALIGN matrix and Y/Z offsets.\n",
    "\n",
    "From the OR and maneuver summary file\n",
    "```\n",
    "OBS,\n",
    " ID=17058,TARGET=(215.015417,-49.595083,{PKS B1416-493}),\n",
    " DURATION=(64000.000000),PRIORITY=5,SI=ACIS-I,GRATING=NONE,SI_MODE=TE_00458,\n",
    " ROLL=(305.0),\n",
    " ACA_MODE=DEFAULT,TARGET_OFFSET=(-0.009167,0.001667),\n",
    " DITHER=(ON,0.002222,0.360000,0.000000,0.002222,0.509100,0.000000),\n",
    " SEGMENT=(1,58800.000000),PRECEDING=(P8504),MIN_ACQ=1,MIN_GUIDE=1\n",
    " \n",
    " \n",
    "   FINAL ID:    1705800\n",
    "                       FINAL ATTITUDE\n",
    "      STOP TIME (GMT):   2015:154:22:57:25.930\n",
    "             RA (deg):    214.98451436\n",
    "            DEC (deg):    -49.59669395\n",
    "           ROLL (deg):    304.97646792\n",
    "        Dev. from\n",
    "      Opt. Roll (deg):     -4.70028676\n",
    "      Sun Angle (deg):    140.49525748\n",
    "           Quaternion:      0.228750858213    0.511758087381   -0.709666300958    0.426790869340\n",
    "\n",
    "```"
   ]
  },
  {
   "cell_type": "code",
   "execution_count": 10,
   "metadata": {
    "collapsed": true
   },
   "outputs": [],
   "source": [
    "q_aca = Quat([0.228750858213,    0.511758087381,   -0.709666300958,    0.426790869340])\n",
    "q_targ = Quat([215.015417,-49.595083, q_aca.roll])  # approximation, but OK here\n",
    "y_off, z_off = -0.009167,0.001667"
   ]
  },
  {
   "cell_type": "code",
   "execution_count": 11,
   "metadata": {
    "collapsed": false
   },
   "outputs": [],
   "source": [
    "q_aca_out = calc_aca_from_targ(q_targ, y_off, z_off, SI_ALIGN)"
   ]
  },
  {
   "cell_type": "code",
   "execution_count": 12,
   "metadata": {
    "collapsed": false
   },
   "outputs": [
    {
     "name": "stdout",
     "output_type": "stream",
     "text": [
      "droll=-84.72, dpitch= -0.02, dyaw= -0.03 arcsec\n"
     ]
    }
   ],
   "source": [
    "print_dq(q_aca, q_aca_out)"
   ]
  },
  {
   "cell_type": "markdown",
   "metadata": {},
   "source": [
    "#### Conclusion:  calc_aca_from_targ is working correctly"
   ]
  },
  {
   "cell_type": "code",
   "execution_count": null,
   "metadata": {
    "collapsed": true
   },
   "outputs": [],
   "source": []
  }
 ],
 "metadata": {
  "kernelspec": {
   "display_name": "Python 2",
   "language": "python",
   "name": "python2"
  },
  "language_info": {
   "codemirror_mode": {
    "name": "ipython",
    "version": 2
   },
   "file_extension": ".py",
   "mimetype": "text/x-python",
   "name": "python",
   "nbconvert_exporter": "python",
   "pygments_lexer": "ipython2",
   "version": "2.7.9"
  }
 },
 "nbformat": 4,
 "nbformat_minor": 0
}
