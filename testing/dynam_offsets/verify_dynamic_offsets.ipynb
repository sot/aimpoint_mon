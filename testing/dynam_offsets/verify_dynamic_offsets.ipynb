{
 "cells": [
  {
   "cell_type": "markdown",
   "metadata": {},
   "source": [
    "## Check the test dynamic_offset.txt files for self-consistency\n",
    "\n",
    "The expectation is that `calc_aca_from_targ(target, y_off, z_off, SI_ALIGN)` should be the same as the `aca` coordinate.  Here `y_off` is the sum of the two offsets `target_offset_y + aca_offset_y`.\n",
    "\n",
    "Instead there is a residual which looks like the CHARACTERISTICS offset (around -3, +11 arcsec).\n",
    "\n",
    "A critical routine in this process is [calc_aca_from_targ](http://cxc.cfa.harvard.edu/mta/ASPECT/tool_doc/chandra_aca/_modules/chandra_aca/transform.html#calc_aca_from_targ), which is validated in the second section of this notebook."
   ]
  },
  {
   "cell_type": "code",
   "execution_count": 1,
   "metadata": {
    "collapsed": true
   },
   "outputs": [],
   "source": [
    "from __future__ import division, print_function\n",
    "import glob\n",
    "import shelve\n",
    "from astropy.table import Table\n",
    "import numpy as np\n",
    "from Quaternion import Quat\n",
    "import chandra_aca\n",
    "from chandra_aca import calc_aca_from_targ, calc_targ_from_aca\n",
    "import parse_cm\n",
    "from Ska.engarchive import fetch_sci\n",
    "from Chandra.Time import DateTime\n",
    "import Ska.Shell\n",
    "import functools\n",
    "import mica.archive.obspar\n",
    "import Ska.arc5gl\n",
    "import os\n",
    "import parse_cm.maneuver\n",
    "\n",
    "%matplotlib inline"
   ]
  },
  {
   "cell_type": "code",
   "execution_count": 2,
   "metadata": {
    "collapsed": false
   },
   "outputs": [
    {
     "data": {
      "text/plain": [
       "array([[  9.99999906e-01,  -3.37419984e-04,  -2.73439987e-04],\n",
       "       [  3.37419984e-04,   9.99999943e-01,  -4.61320600e-08],\n",
       "       [  2.73439987e-04,  -4.61320600e-08,   9.99999963e-01]])"
      ]
     },
     "execution_count": 2,
     "metadata": {},
     "output_type": "execute_result"
    }
   ],
   "source": [
    "# SI_ALIGN from Matlab code\n",
    "SI_ALIGN = chandra_aca.ODB_SI_ALIGN\n",
    "SI_ALIGN"
   ]
  },
  {
   "cell_type": "code",
   "execution_count": 3,
   "metadata": {
    "collapsed": false
   },
   "outputs": [],
   "source": [
    "def print_dq(q1, q2):\n",
    "    \"\"\"\n",
    "    Print the difference between two quaternions\n",
    "    \"\"\"\n",
    "    dq = q1.inv() * q2\n",
    "    dr, dp, dy, _ = np.degrees(dq.q) * 2 * 3600\n",
    "    print('droll={:6.2f}, dpitch={:6.2f}, dyaw={:6.2f} arcsec'.format(dr, dp, dy))"
   ]
  },
  {
   "cell_type": "code",
   "execution_count": 4,
   "metadata": {
    "collapsed": true
   },
   "outputs": [],
   "source": [
    "def check_obs(obs):\n",
    "    \"\"\"\n",
    "    Check `obs` (which is a row out of the dynamic offsets table) for consistency\n",
    "    between target and aca coordinates given the target and aca offsets and the\n",
    "    SI_ALIGN alignment matrix\n",
    "    \"\"\"\n",
    "    y_off = (obs['target_offset_y'] + obs['aca_offset_y']) / 3600\n",
    "    z_off = (obs['target_offset_z'] + obs['aca_offset_z']) / 3600\n",
    "    \n",
    "    q_targ = Quat([obs['target_ra'], obs['target_dec'], obs['target_roll']])\n",
    "    q_aca = Quat([obs['aca_ra'], obs['aca_dec'], obs['aca_roll']])\n",
    "    \n",
    "    q_aca_out = calc_aca_from_targ(q_targ, y_off, z_off, SI_ALIGN)\n",
    "    print('Obsid={} detector={:6s} '.format(obs['obsid'], obs['detector']), end='')\n",
    "    print_dq(q_aca, q_aca_out)"
   ]
  },
  {
   "cell_type": "code",
   "execution_count": 5,
   "metadata": {
    "collapsed": true
   },
   "outputs": [],
   "source": [
    "def check_obs_vs_manvr(obs, manvr):\n",
    "    \"\"\"\n",
    "    Check against attitude from actual flight products (from maneuver summary file)\n",
    "    \"\"\"\n",
    "    mf = manvr['final']\n",
    "    q_flight = Quat([mf['q1'], mf['q2'], mf['q3'], mf['q4']])\n",
    "    q_aca = Quat([obs['aca_ra'], obs['aca_dec'], obs['aca_roll']])\n",
    "    print('Obsid={} detector={:6s} chipx={:8.2f} chipy={:8.2f} '\n",
    "          .format(obs['obsid'], obs['detector'], obs['chipx'], obs['chipy']), end='')\n",
    "    print_dq(q_aca, q_flight)"
   ]
  },
  {
   "cell_type": "code",
   "execution_count": 6,
   "metadata": {
    "collapsed": false
   },
   "outputs": [],
   "source": [
    "dat = Table.read('MAR0516O/MAR0516O_aimpoint_adjustment.txt', format='ascii')"
   ]
  },
  {
   "cell_type": "code",
   "execution_count": 7,
   "metadata": {
    "collapsed": false
   },
   "outputs": [
    {
     "data": {
      "text/html": [
       "&lt;Table masked=False length=20&gt;\n",
       "<table id=\"table139979792954640\">\n",
       "<thead><tr><th>obsid</th><th>detector</th><th>chipx</th><th>chipy</th><th>chip_id</th><th>target_offset_y</th><th>target_offset_z</th><th>target_ra</th><th>target_dec</th><th>target_roll</th><th>aca_offset_y</th><th>aca_offset_z</th><th>aca_ra</th><th>aca_dec</th><th>aca_roll</th><th>mean_date</th><th>mean_t_ccd</th></tr></thead>\n",
       "<thead><tr><th>int64</th><th>string48</th><th>float64</th><th>float64</th><th>int64</th><th>float64</th><th>float64</th><th>float64</th><th>float64</th><th>float64</th><th>float64</th><th>float64</th><th>float64</th><th>float64</th><th>float64</th><th>string168</th><th>float64</th></tr></thead>\n",
       "<tr><td>18272</td><td>ACIS-I</td><td>930.2</td><td>1009.6</td><td>3</td><td>-18.0</td><td>-18.0</td><td>194.649583</td><td>28.074806</td><td>135.000219</td><td>13.31</td><td>3.48</td><td>194.672889</td><td>28.070562</td><td>134.989033</td><td>2016:068:03:12:27.816</td><td>-15.48</td></tr>\n",
       "<tr><td>18790</td><td>ACIS-S</td><td>210.0</td><td>520.0</td><td>7</td><td>0.0</td><td>-18.0</td><td>111.463705</td><td>-7.735581</td><td>280.000024</td><td>9.91</td><td>-16.7</td><td>111.454022</td><td>-7.715341</td><td>279.9987</td><td>2016:068:10:43:27.816</td><td>-15.39</td></tr>\n",
       "<tr><td>18791</td><td>ACIS-I</td><td>930.2</td><td>1009.6</td><td>3</td><td>-18.0</td><td>-18.0</td><td>194.649583</td><td>28.074806</td><td>135.000219</td><td>11.03</td><td>2.37</td><td>194.672136</td><td>28.07079</td><td>134.989387</td><td>2016:068:20:14:43.816</td><td>-14.9</td></tr>\n",
       "<tr><td>18800</td><td>ACIS-S</td><td>210.0</td><td>520.0</td><td>7</td><td>0.0</td><td>-18.0</td><td>111.463705</td><td>-7.735581</td><td>280.000024</td><td>7.84</td><td>-17.71</td><td>111.454402</td><td>-7.715858</td><td>279.998751</td><td>2016:069:05:45:59.816</td><td>-14.87</td></tr>\n",
       "<tr><td>18792</td><td>ACIS-I</td><td>930.2</td><td>1009.6</td><td>3</td><td>-18.0</td><td>-18.0</td><td>194.649583</td><td>28.074806</td><td>135.000219</td><td>9.34</td><td>1.55</td><td>194.671575</td><td>28.07096</td><td>134.989651</td><td>2016:069:13:25:11.816</td><td>-14.47</td></tr>\n",
       "<tr><td>18469</td><td>ACIS-I</td><td>930.2</td><td>1009.6</td><td>3</td><td>-60.0</td><td>-18.0</td><td>202.907917</td><td>-17.611944</td><td>58.755253</td><td>13.49</td><td>3.59</td><td>202.915071</td><td>-17.623011</td><td>58.757361</td><td>2016:070:07:52:11.816</td><td>-15.51</td></tr>\n",
       "<tr><td>18194</td><td>ACIS-S</td><td>200.7</td><td>476.9</td><td>7</td><td>0.0</td><td>-18.0</td><td>209.010833</td><td>18.371611</td><td>103.000066</td><td>15.25</td><td>4.87</td><td>209.028546</td><td>18.351803</td><td>102.994421</td><td>2016:070:11:11:43.816</td><td>-15.58</td></tr>\n",
       "<tr><td>18801</td><td>ACIS-S</td><td>205.0</td><td>480.0</td><td>7</td><td>0.0</td><td>-18.0</td><td>257.274167</td><td>23.224389</td><td>88.000033</td><td>11.97</td><td>2.77</td><td>257.28566</td><td>23.201836</td><td>87.995471</td><td>2016:070:17:09:47.816</td><td>-15.3</td></tr>\n",
       "<tr><td>18793</td><td>ACIS-I</td><td>930.2</td><td>1009.6</td><td>3</td><td>-18.0</td><td>-18.0</td><td>194.649583</td><td>28.074806</td><td>135.000219</td><td>8.79</td><td>1.27</td><td>194.671389</td><td>28.071015</td><td>134.989738</td><td>2016:071:06:11:31.816</td><td>-14.33</td></tr>\n",
       "<tr><td>17213</td><td>ACIS-I</td><td>932.0</td><td>1009.0</td><td>3</td><td>-18.0</td><td>-18.0</td><td>350.615417</td><td>48.751667</td><td>1.678158</td><td>10.08</td><td>1.18</td><td>350.590672</td><td>48.740281</td><td>1.697314</td><td>2016:071:18:45:55.816</td><td>-14.73</td></tr>\n",
       "<tr><td>18417</td><td>ACIS-I</td><td>930.2</td><td>1009.6</td><td>3</td><td>-36.0</td><td>30.0</td><td>16.01</td><td>-72.032028</td><td>205.324042</td><td>9.76</td><td>1.75</td><td>16.010038</td><td>-72.005036</td><td>205.325314</td><td>2016:072:02:52:27.816</td><td>-14.58</td></tr>\n",
       "<tr><td>17721</td><td>ACIS-S</td><td>200.7</td><td>476.9</td><td>7</td><td>0.0</td><td>-18.0</td><td>84.686667</td><td>-2.600028</td><td>273.052708</td><td>12.54</td><td>3.54</td><td>84.673923</td><td>-2.578346</td><td>273.052128</td><td>2016:072:22:03:11.816</td><td>-14.89</td></tr>\n",
       "<tr><td>16747</td><td>ACIS-S</td><td>205.0</td><td>480.0</td><td>7</td><td>0.0</td><td>-18.0</td><td>257.274167</td><td>23.224389</td><td>88.000033</td><td>9.79</td><td>1.7</td><td>257.28536</td><td>23.202453</td><td>87.995589</td><td>2016:073:02:52:55.816</td><td>-14.74</td></tr>\n",
       "<tr><td>18628</td><td>ACIS-I</td><td>930.2</td><td>1009.6</td><td>3</td><td>-18.0</td><td>-18.0</td><td>122.58375</td><td>18.253722</td><td>259.040088</td><td>7.89</td><td>0.84</td><td>122.575789</td><td>18.271521</td><td>259.042583</td><td>2016:073:08:12:43.816</td><td>-14.11</td></tr>\n",
       "<tr><td>18761</td><td>ACIS-I</td><td>930.2</td><td>1009.6</td><td>3</td><td>-18.0</td><td>-18.0</td><td>194.649583</td><td>28.074806</td><td>135.000219</td><td>6.85</td><td>0.33</td><td>194.670749</td><td>28.07121</td><td>134.99004</td><td>2016:073:17:00:15.816</td><td>-13.83</td></tr>\n",
       "<tr><td>17323</td><td>HRC-S</td><td>2050.0</td><td>9023.0</td><td>2</td><td>0.0</td><td>0.0</td><td>199.090417</td><td>29.098306</td><td>133.536757</td><td>9.27</td><td>0.93</td><td>199.120899</td><td>29.093391</td><td>133.521934</td><td>2016:074:02:36:59.816</td><td>-14.37</td></tr>\n",
       "<tr><td>18420</td><td>ACIS-S</td><td>200.7</td><td>476.9</td><td>7</td><td>-222.57</td><td>0.0</td><td>16.01</td><td>-72.032028</td><td>202.933454</td><td>11.61</td><td>3.09</td><td>15.870561</td><td>-72.032337</td><td>202.80208</td><td>2016:074:09:32:27.816</td><td>-14.66</td></tr>\n",
       "<tr><td>18794</td><td>ACIS-I</td><td>930.2</td><td>1009.6</td><td>3</td><td>-18.0</td><td>-18.0</td><td>194.649583</td><td>28.074806</td><td>135.000219</td><td>9.41</td><td>1.57</td><td>194.671596</td><td>28.070952</td><td>134.989641</td><td>2016:074:18:44:35.816</td><td>-14.48</td></tr>\n",
       "<tr><td>18418</td><td>ACIS-S</td><td>200.7</td><td>476.9</td><td>7</td><td>48.0</td><td>0.0</td><td>16.01</td><td>-72.032028</td><td>201.641088</td><td>15.14</td><td>4.81</td><td>16.099273</td><td>-72.00287</td><td>201.727293</td><td>2016:075:15:03:39.816</td><td>-15.56</td></tr>\n",
       "<tr><td>17722</td><td>ACIS-S</td><td>200.7</td><td>476.9</td><td>7</td><td>0.0</td><td>-18.0</td><td>84.686667</td><td>-2.600028</td><td>271.834161</td><td>14.4</td><td>4.45</td><td>84.67412</td><td>-2.577573</td><td>271.833591</td><td>2016:075:18:12:15.816</td><td>-15.37</td></tr>\n",
       "</table>"
      ],
      "text/plain": [
       "<Table masked=False length=20>\n",
       "obsid detector  chipx   chipy  ...  aca_roll        mean_date       mean_t_ccd\n",
       "int64 string48 float64 float64 ...  float64         string168        float64  \n",
       "----- -------- ------- ------- ... ---------- --------------------- ----------\n",
       "18272   ACIS-I   930.2  1009.6 ... 134.989033 2016:068:03:12:27.816     -15.48\n",
       "18790   ACIS-S   210.0   520.0 ...   279.9987 2016:068:10:43:27.816     -15.39\n",
       "18791   ACIS-I   930.2  1009.6 ... 134.989387 2016:068:20:14:43.816      -14.9\n",
       "18800   ACIS-S   210.0   520.0 ... 279.998751 2016:069:05:45:59.816     -14.87\n",
       "18792   ACIS-I   930.2  1009.6 ... 134.989651 2016:069:13:25:11.816     -14.47\n",
       "18469   ACIS-I   930.2  1009.6 ...  58.757361 2016:070:07:52:11.816     -15.51\n",
       "18194   ACIS-S   200.7   476.9 ... 102.994421 2016:070:11:11:43.816     -15.58\n",
       "18801   ACIS-S   205.0   480.0 ...  87.995471 2016:070:17:09:47.816      -15.3\n",
       "18793   ACIS-I   930.2  1009.6 ... 134.989738 2016:071:06:11:31.816     -14.33\n",
       "17213   ACIS-I   932.0  1009.0 ...   1.697314 2016:071:18:45:55.816     -14.73\n",
       "18417   ACIS-I   930.2  1009.6 ... 205.325314 2016:072:02:52:27.816     -14.58\n",
       "17721   ACIS-S   200.7   476.9 ... 273.052128 2016:072:22:03:11.816     -14.89\n",
       "16747   ACIS-S   205.0   480.0 ...  87.995589 2016:073:02:52:55.816     -14.74\n",
       "18628   ACIS-I   930.2  1009.6 ... 259.042583 2016:073:08:12:43.816     -14.11\n",
       "18761   ACIS-I   930.2  1009.6 ...  134.99004 2016:073:17:00:15.816     -13.83\n",
       "17323    HRC-S  2050.0  9023.0 ... 133.521934 2016:074:02:36:59.816     -14.37\n",
       "18420   ACIS-S   200.7   476.9 ...  202.80208 2016:074:09:32:27.816     -14.66\n",
       "18794   ACIS-I   930.2  1009.6 ... 134.989641 2016:074:18:44:35.816     -14.48\n",
       "18418   ACIS-S   200.7   476.9 ... 201.727293 2016:075:15:03:39.816     -15.56\n",
       "17722   ACIS-S   200.7   476.9 ... 271.833591 2016:075:18:12:15.816     -15.37"
      ]
     },
     "execution_count": 7,
     "metadata": {},
     "output_type": "execute_result"
    }
   ],
   "source": [
    "dat[10:30]"
   ]
  },
  {
   "cell_type": "code",
   "execution_count": 8,
   "metadata": {
    "collapsed": false
   },
   "outputs": [
    {
     "name": "stdout",
     "output_type": "stream",
     "text": [
      "Obsid=18168 detector=ACIS-S droll= -1.32, dpitch=  0.33, dyaw= -1.76 arcsec\n",
      "Obsid=18091 detector=ACIS-S droll= -1.60, dpitch=  0.34, dyaw= -1.76 arcsec\n",
      "Obsid=18157 detector=ACIS-S droll= -0.18, dpitch=  0.34, dyaw= -1.75 arcsec\n",
      "Obsid=18725 detector=ACIS-S droll=  0.86, dpitch=  0.34, dyaw= -1.76 arcsec\n",
      "Obsid=18276 detector=ACIS-I droll=  0.69, dpitch=  0.34, dyaw= -1.76 arcsec\n",
      "Obsid=18201 detector=ACIS-S droll=  0.80, dpitch=  0.33, dyaw= -1.75 arcsec\n",
      "Obsid=18803 detector=ACIS-S droll=  0.04, dpitch=  0.33, dyaw= -1.75 arcsec\n",
      "Obsid=17720 detector=ACIS-S droll=  0.02, dpitch=  0.34, dyaw= -1.75 arcsec\n",
      "Obsid=18304 detector=HRC-I  droll= -0.00, dpitch= -0.01, dyaw=  0.00 arcsec\n",
      "Obsid=18212 detector=ACIS-S droll=  1.04, dpitch=  0.34, dyaw= -1.75 arcsec\n",
      "Obsid=18272 detector=ACIS-I droll=  0.79, dpitch=  0.33, dyaw= -1.76 arcsec\n",
      "Obsid=18790 detector=ACIS-S droll=  0.09, dpitch=  0.34, dyaw= -1.75 arcsec\n",
      "Obsid=18791 detector=ACIS-I droll=  0.79, dpitch=  0.33, dyaw= -1.75 arcsec\n",
      "Obsid=18800 detector=ACIS-S droll=  0.09, dpitch=  0.34, dyaw= -1.75 arcsec\n",
      "Obsid=18792 detector=ACIS-I droll=  0.79, dpitch=  0.34, dyaw= -1.75 arcsec\n",
      "Obsid=18469 detector=ACIS-I droll=  0.20, dpitch=  0.34, dyaw= -1.76 arcsec\n",
      "Obsid=18194 detector=ACIS-S droll=  0.24, dpitch=  0.34, dyaw= -1.75 arcsec\n",
      "Obsid=18801 detector=ACIS-S droll=  0.12, dpitch=  0.33, dyaw= -1.76 arcsec\n",
      "Obsid=18793 detector=ACIS-I droll=  0.79, dpitch=  0.34, dyaw= -1.76 arcsec\n",
      "Obsid=17213 detector=ACIS-I droll= -1.99, dpitch=  0.34, dyaw= -1.76 arcsec\n",
      "Obsid=18417 detector=ACIS-I droll= -4.46, dpitch=  0.34, dyaw= -1.76 arcsec\n",
      "Obsid=17721 detector=ACIS-S droll=  0.02, dpitch=  0.33, dyaw= -1.75 arcsec\n",
      "Obsid=16747 detector=ACIS-S droll=  0.12, dpitch=  0.33, dyaw= -1.76 arcsec\n",
      "Obsid=18628 detector=ACIS-I droll=  0.00, dpitch=  0.34, dyaw= -1.75 arcsec\n",
      "Obsid=18761 detector=ACIS-I droll=  0.79, dpitch=  0.34, dyaw= -1.76 arcsec\n",
      "Obsid=17323 detector=HRC-S  droll=  0.00, dpitch= -0.00, dyaw=  0.00 arcsec\n",
      "Obsid=18420 detector=ACIS-S droll= -4.58, dpitch=  0.34, dyaw= -1.75 arcsec\n",
      "Obsid=18794 detector=ACIS-I droll=  0.79, dpitch=  0.33, dyaw= -1.76 arcsec\n",
      "Obsid=18418 detector=ACIS-S droll= -4.65, dpitch=  0.33, dyaw= -1.76 arcsec\n",
      "Obsid=17722 detector=ACIS-S droll=  0.02, dpitch=  0.34, dyaw= -1.76 arcsec\n",
      "Obsid=18275 detector=ACIS-I droll=  0.89, dpitch=  0.34, dyaw= -1.76 arcsec\n",
      "Obsid=18619 detector=ACIS-S droll= -4.94, dpitch=  0.34, dyaw= -1.76 arcsec\n",
      "Obsid=18795 detector=ACIS-I droll=  0.89, dpitch=  0.34, dyaw= -1.76 arcsec\n",
      "Obsid=18144 detector=ACIS-S droll=  1.72, dpitch=  0.34, dyaw= -1.75 arcsec\n",
      "Obsid=18796 detector=ACIS-I droll=  0.89, dpitch=  0.33, dyaw= -1.75 arcsec\n",
      "Obsid=18145 detector=ACIS-S droll=  1.72, dpitch=  0.33, dyaw= -1.75 arcsec\n",
      "Obsid=18797 detector=ACIS-I droll=  0.89, dpitch=  0.33, dyaw= -1.76 arcsec\n",
      "Obsid=18798 detector=ACIS-I droll=  0.89, dpitch=  0.34, dyaw= -1.75 arcsec\n",
      "Obsid=18799 detector=ACIS-S droll=  1.72, dpitch=  0.34, dyaw= -1.76 arcsec\n"
     ]
    }
   ],
   "source": [
    "# Check each observation\n",
    "for obs in dat:\n",
    "    check_obs(obs)"
   ]
  },
  {
   "cell_type": "code",
   "execution_count": null,
   "metadata": {
    "collapsed": true
   },
   "outputs": [],
   "source": []
  },
  {
   "cell_type": "code",
   "execution_count": 9,
   "metadata": {
    "collapsed": false
   },
   "outputs": [],
   "source": [
    "mm = parse_cm.maneuver.read_maneuver_summary('MAR0516O/mm065_0409.sum', structured=True)\n",
    "mm = {m['final']['id']: m for m in mm}  # Turn into a dict"
   ]
  },
  {
   "cell_type": "code",
   "execution_count": 10,
   "metadata": {
    "collapsed": false,
    "scrolled": true
   },
   "outputs": [
    {
     "name": "stdout",
     "output_type": "stream",
     "text": [
      "Obsid=18168 detector=ACIS-S chipx=  200.70 chipy=  476.90 droll= -0.00, dpitch=  0.76, dyaw= -3.34 arcsec\n",
      "Obsid=18091 detector=ACIS-S chipx=  200.70 chipy=  476.90 droll= -0.01, dpitch=  1.21, dyaw= -4.25 arcsec\n",
      "Obsid=18157 detector=ACIS-S chipx=  200.70 chipy=  476.90 droll=  0.01, dpitch=  1.79, dyaw= -5.43 arcsec\n",
      "Obsid=18725 detector=ACIS-S chipx=  210.00 chipy=  520.00 droll= -0.01, dpitch= 23.40, dyaw=-10.85 arcsec\n",
      "Obsid=18276 detector=ACIS-I chipx=  930.20 chipy= 1009.60 droll= -0.00, dpitch=  0.64, dyaw= -1.10 arcsec\n",
      "Obsid=18201 detector=ACIS-S chipx=  200.70 chipy=  476.90 droll= -0.01, dpitch= -1.21, dyaw=  0.70 arcsec\n",
      "Obsid=18803 detector=ACIS-S chipx=  200.70 chipy=  476.90 droll= -0.00, dpitch= -1.32, dyaw=  0.94 arcsec\n",
      "Obsid=17720 detector=ACIS-S chipx=  200.70 chipy=  476.90 droll=  0.00, dpitch= -2.23, dyaw=  2.80 arcsec\n",
      "Obsid=18304 detector=HRC-I  chipx= 7591.00 chipy= 7936.10 droll=  0.01, dpitch= -2.41, dyaw= 17.61 arcsec\n",
      "Obsid=18212 detector=ACIS-S chipx=  200.70 chipy=  476.90 droll= -0.01, dpitch= -1.49, dyaw=  1.28 arcsec\n",
      "Obsid=18272 detector=ACIS-I chipx=  930.20 chipy= 1009.60 droll= -0.01, dpitch= -0.80, dyaw=  1.85 arcsec\n",
      "Obsid=18790 detector=ACIS-S chipx=  210.00 chipy=  520.00 droll= -0.01, dpitch= 20.07, dyaw= -4.03 arcsec\n",
      "Obsid=18791 detector=ACIS-I chipx=  930.20 chipy= 1009.60 droll= -0.01, dpitch=  0.31, dyaw= -0.42 arcsec\n",
      "Obsid=18800 detector=ACIS-S chipx=  210.00 chipy=  520.00 droll= -0.01, dpitch= 21.08, dyaw= -6.10 arcsec\n",
      "Obsid=18792 detector=ACIS-I chipx=  930.20 chipy= 1009.60 droll= -0.01, dpitch=  1.14, dyaw= -2.11 arcsec\n",
      "Obsid=18469 detector=ACIS-I chipx=  930.20 chipy= 1009.60 droll=  0.01, dpitch= -0.90, dyaw=  2.04 arcsec\n",
      "Obsid=18194 detector=ACIS-S chipx=  200.70 chipy=  476.90 droll= -0.00, dpitch= -1.50, dyaw=  1.31 arcsec\n",
      "Obsid=18801 detector=ACIS-S chipx=  205.00 chipy=  480.00 droll=  0.00, dpitch=  0.59, dyaw= -1.97 arcsec\n",
      "Obsid=18793 detector=ACIS-I chipx=  930.20 chipy= 1009.60 droll= -0.01, dpitch=  1.41, dyaw= -2.67 arcsec\n",
      "Obsid=17213 detector=ACIS-I chipx=  932.00 chipy= 1009.00 droll=  0.00, dpitch=  1.51, dyaw= -1.37 arcsec\n",
      "Obsid=18417 detector=ACIS-I chipx=  930.20 chipy= 1009.60 droll=  0.00, dpitch=  0.93, dyaw= -1.69 arcsec\n",
      "Obsid=17721 detector=ACIS-S chipx=  200.70 chipy=  476.90 droll= -0.00, dpitch= -0.18, dyaw= -1.40 arcsec\n",
      "Obsid=16747 detector=ACIS-S chipx=  205.00 chipy=  480.00 droll=  0.00, dpitch=  1.66, dyaw= -4.16 arcsec\n",
      "Obsid=18628 detector=ACIS-I chipx=  930.20 chipy= 1009.60 droll=  0.00, dpitch=  1.85, dyaw= -3.56 arcsec\n",
      "Obsid=18761 detector=ACIS-I chipx=  930.20 chipy= 1009.60 droll= -0.01, dpitch=  2.36, dyaw= -4.61 arcsec\n",
      "Obsid=17323 detector=HRC-S  chipx= 2050.00 chipy= 9023.00 droll=  0.00, dpitch= -0.93, dyaw=  9.27 arcsec\n",
      "Obsid=18420 detector=ACIS-S chipx=  200.70 chipy=  476.90 droll=  0.00, dpitch=  0.28, dyaw= -2.33 arcsec\n",
      "Obsid=18794 detector=ACIS-I chipx=  930.20 chipy= 1009.60 droll= -0.01, dpitch=  1.11, dyaw= -2.05 arcsec\n",
      "Obsid=18418 detector=ACIS-S chipx=  200.70 chipy=  476.90 droll=  0.01, dpitch= -1.45, dyaw=  1.20 arcsec\n",
      "Obsid=17722 detector=ACIS-S chipx=  200.70 chipy=  476.90 droll= -0.00, dpitch= -1.08, dyaw=  0.46 arcsec\n",
      "Obsid=18275 detector=ACIS-I chipx=  930.20 chipy= 1009.60 droll= -0.01, dpitch=  0.15, dyaw= -0.07 arcsec\n",
      "Obsid=18619 detector=ACIS-S chipx=  200.70 chipy=  476.90 droll=  0.00, dpitch= -0.55, dyaw= -0.63 arcsec\n",
      "Obsid=18795 detector=ACIS-I chipx=  930.20 chipy= 1009.60 droll= -0.01, dpitch=  1.00, dyaw= -1.83 arcsec\n",
      "Obsid=18144 detector=ACIS-S chipx=  200.70 chipy=  476.90 droll= -0.00, dpitch= -0.92, dyaw=  0.13 arcsec\n",
      "Obsid=18796 detector=ACIS-I chipx=  930.20 chipy= 1009.60 droll= -0.01, dpitch=  2.11, dyaw= -4.09 arcsec\n",
      "Obsid=18145 detector=ACIS-S chipx=  200.70 chipy=  476.90 droll= -0.00, dpitch=  1.16, dyaw= -4.13 arcsec\n",
      "Obsid=18797 detector=ACIS-I chipx=  930.20 chipy= 1009.60 droll= -0.01, dpitch=  2.21, dyaw= -4.29 arcsec\n",
      "Obsid=18798 detector=ACIS-I chipx=  930.20 chipy= 1009.60 droll= -0.00, dpitch=  0.34, dyaw= -0.46 arcsec\n",
      "Obsid=18799 detector=ACIS-S chipx=  200.70 chipy=  476.90 droll= -0.00, dpitch= -0.17, dyaw= -1.40 arcsec\n"
     ]
    }
   ],
   "source": [
    "for obs in dat:\n",
    "    check_obs_vs_manvr(obs, mm[obs['obsid'] * 100])"
   ]
  },
  {
   "cell_type": "markdown",
   "metadata": {},
   "source": [
    "### Use dmcoords to relate detector, dy, dz to chipx, chipy\n",
    "\n",
    "This will be an approximation that applies over small displacements (of order 100 pixels)."
   ]
  },
  {
   "cell_type": "code",
   "execution_count": 15,
   "metadata": {
    "collapsed": true
   },
   "outputs": [],
   "source": [
    "ciaoenv = Ska.Shell.getenv('source /soft/ciao/bin/ciao.sh')\n",
    "ciaorun = functools.partial(Ska.Shell.bash, env=ciaoenv)"
   ]
  },
  {
   "cell_type": "code",
   "execution_count": 14,
   "metadata": {
    "collapsed": true
   },
   "outputs": [],
   "source": [
    "dmcoords_cmd = ['dmcoords', 'none',\n",
    "                'asolfile=none',\n",
    "                'detector=\"{detector}\"',\n",
    "                'fpsys=\"{fpsys}\"',\n",
    "                'opt=cel',\n",
    "                'ra={ra_targ}', \n",
    "                'dec={dec_targ}',\n",
    "                'celfmt=deg', \n",
    "                'ra_nom={ra_nom}',\n",
    "                'dec_nom={dec_nom}',\n",
    "                'roll_nom={roll_nom}',  \n",
    "                'ra_asp=\")ra_nom\"',\n",
    "                'dec_asp=\")dec_nom\"',\n",
    "                'roll_asp=\")roll_nom\"',      \n",
    "                'sim=\"{sim_x} 0 {sim_z}\"',\n",
    "                'displace=\"0 {dy} {dz} 0 0 0\"',       \n",
    "                'verbose=0']\n",
    "dmcoords_cmd = ' '.join(dmcoords_cmd)"
   ]
  },
  {
   "cell_type": "code",
   "execution_count": 16,
   "metadata": {
    "collapsed": true
   },
   "outputs": [],
   "source": [
    "def dmcoords_chipx_chipy(keys, verbose=False):\n",
    "    \"\"\"\n",
    "    Get the dmcoords-computed chipx and chipy for given detector and\n",
    "    aspect solution DY and DZ values.  NOTE: the ``dy`` and ``dz`` inputs\n",
    "    to dmcoords are flipped in sign from the ASOL values.  Generally the\n",
    "    ASOL DY/DZ are positive and dmcoord input values are negative.  This\n",
    "    sign flip is handled *here*, so input to this is ASOL DY/DZ.\n",
    "    \n",
    "    :param keys: dict of event file keywords\n",
    "    \"\"\"\n",
    "    # See the absolute_pointing_uncertainty notebook in this repo for the\n",
    "    # detailed derivation of this -15.5, 6.0 arcsec offset factor.  See the\n",
    "    # cell below for the summary version.\n",
    "    ciaorun('punlearn dmcoords')\n",
    "    fpsys_map = {'HRC-I': 'HI1',\n",
    "                'HRC-S': 'HS2',\n",
    "                'ACIS': 'ACIS'}\n",
    "    keys = {key.lower(): val for key, val in keys.items()}\n",
    "    det = keys['detnam']\n",
    "    keys['detector'] = (det if det.startswith('HRC') else 'ACIS')\n",
    "    keys['dy'] = -keys['dy_avg']\n",
    "    keys['dz'] = -keys['dz_avg']\n",
    "    keys['fpsys'] = fpsys_map[keys['detector']]\n",
    "    \n",
    "    cmd = dmcoords_cmd.format(**keys)\n",
    "    ciaorun(cmd)\n",
    "    \n",
    "    if verbose:\n",
    "        print(cmd)\n",
    "    return [float(x) for x in ciaorun('pget dmcoords chipx chipy chip_id')]"
   ]
  },
  {
   "cell_type": "code",
   "execution_count": 17,
   "metadata": {
    "collapsed": false
   },
   "outputs": [],
   "source": [
    "def get_evt_meta(obsid, detector):\n",
    "    evts = shelve.open('event_meta.shelf')\n",
    "    sobsid = str(obsid)\n",
    "    if sobsid not in evts:\n",
    "        det = 'hrc' if detector.startswith('HRC') else 'acis'\n",
    "        arc5gl = Ska.arc5gl.Arc5gl()\n",
    "        arc5gl.sendline('obsid={}'.format(obsid))\n",
    "        arc5gl.sendline('get {}2'.format(det) + '{evt2}')\n",
    "        del arc5gl\n",
    "\n",
    "        files = glob.glob('{}f{}*_evt2.fits.gz'.format(det, obsid))\n",
    "        if len(files) != 1:\n",
    "            raise ValueError('Wrong number of files {}'.format(files))\n",
    "        evt2 = Table.read(files[0])\n",
    "        os.unlink(files[0])\n",
    "\n",
    "        evts[sobsid] = {k.lower(): v for k, v in evt2.meta.items()}\n",
    "\n",
    "    out = evts[sobsid]\n",
    "    evts.close()\n",
    "    \n",
    "    return out"
   ]
  },
  {
   "cell_type": "code",
   "execution_count": 18,
   "metadata": {
    "collapsed": false
   },
   "outputs": [],
   "source": [
    "def check_predicted_chipxy(obs):\n",
    "    obsid = obs['obsid']\n",
    "    detector = obs['detector']\n",
    "    try:\n",
    "        evt = get_evt_meta(obsid, detector)\n",
    "    except ValueError as err:\n",
    "        print('Obsid={} detector={}: fail {}'.format(obsid, detector, err))\n",
    "        return\n",
    "    f_chipx, f_chipy, f_chip_id = dmcoords_chipx_chipy(evt)\n",
    "    \n",
    "    q_nom_flight = Quat([evt['ra_nom'], evt['dec_nom'], evt['roll_nom']])\n",
    "    q_aca = Quat([obs['aca_ra'], obs['aca_dec'], obs['aca_roll']])\n",
    "    mf = mm[obsid * 100]['final']\n",
    "    q_flight = Quat([mf['q1'], mf['q2'], mf['q3'], mf['q4']])\n",
    "    dq = q_flight.dq(q_aca)\n",
    "    q_nom_test = q_nom_flight * dq\n",
    "    evt_test = dict(evt)\n",
    "    evt_test['ra_nom'] = q_nom_test.ra\n",
    "    evt_test['dec_nom'] = q_nom_test.dec\n",
    "    evt_test['roll_nom'] = q_nom_test.roll\n",
    "    \n",
    "    scale = 0.13175 if detector.startswith('HRC') else 0.492\n",
    "    aim_chipx = obs['chipx']\n",
    "    aim_chipy = obs['chipy']\n",
    "    if detector == 'ACIS-S':  # SIGNS?\n",
    "        aim_chipx += -obs['target_offset_y'] / scale  # SIGN??\n",
    "        aim_chipy += -obs['target_offset_z'] / scale  # \n",
    "    elif detector == 'ACIS-I':\n",
    "        aim_chipx += -obs['target_offset_z'] / scale\n",
    "        aim_chipy += +obs['target_offset_y'] / scale\n",
    "\n",
    "    chipx, chipy, chip_id = dmcoords_chipx_chipy(evt_test)\n",
    "    print('{} {:6s} sim_z={:6.1f} aimpoint:{:6.1f},{:6.1f} test:{:6.1f},{:6.1f} '\n",
    "          'flight:{:6.1f},{:6.1f} delta: {:.1f} arcsec'\n",
    "         .format(obsid, detector, evt['sim_z'], aim_chipx, aim_chipy, chipx, chipy, f_chipx, f_chipy,\n",
    "                np.hypot(aim_chipx - chipx, aim_chipy - chipy) * scale))"
   ]
  },
  {
   "cell_type": "code",
   "execution_count": 19,
   "metadata": {
    "collapsed": false,
    "scrolled": true
   },
   "outputs": [
    {
     "name": "stdout",
     "output_type": "stream",
     "text": [
      "18168 ACIS-S sim_z=-190.1 aimpoint: 200.7, 513.5 test: 174.2, 499.7 flight: 167.4, 498.2 delta: 14.7 arcsec\n",
      "18091 ACIS-S sim_z=-190.1 aimpoint: 200.7, 513.5 test: 179.3, 499.4 flight: 170.7, 497.0 delta: 12.6 arcsec\n",
      "18157 ACIS-S sim_z=-190.1 aimpoint: 200.7, 513.5 test: 185.5, 500.9 flight: 174.4, 497.2 delta: 9.7 arcsec\n",
      "18725 ACIS-S sim_z=-190.1 aimpoint: 210.0, 556.6 test: 199.9, 548.9 flight: 177.8, 501.3 delta: 6.2 arcsec\n",
      "18276 ACIS-I sim_z=-233.6 aimpoint: 966.8, 973.0 test: 964.6, 977.7 flight: 963.3, 979.9 delta: 2.5 arcsec\n",
      "18201 ACIS-S sim_z=-190.1 aimpoint: 200.7, 513.5 test: 196.8, 512.8 flight: 198.3, 515.3 delta: 1.9 arcsec\n",
      "18803 ACIS-S sim_z=-190.1 aimpoint: 200.7, 513.5 test: 197.8, 513.1 flight: 199.7, 515.8 delta: 1.4 arcsec\n",
      "17720 ACIS-S sim_z=-190.1 aimpoint: 200.7, 513.5 test: 197.6, 511.4 flight: 203.2, 515.9 delta: 1.9 arcsec\n",
      "18304 HRC-I  sim_z= 127.0 aimpoint:7591.0,7936.1 test:7566.9,7956.4 flight:7648.5,7848.9 delta: 4.2 arcsec\n",
      "18212 ACIS-S sim_z=-190.1 aimpoint: 200.7, 513.5 test: 195.9, 511.4 flight: 198.5, 514.4 delta: 2.6 arcsec\n",
      "18272 ACIS-I sim_z=-233.6 aimpoint: 966.8, 973.0 test: 965.3, 977.5 flight: 966.9, 973.7 delta: 2.3 arcsec\n",
      "18790 ACIS-S sim_z=-190.1 aimpoint: 210.0, 556.6 test: 205.2, 555.9 flight: 197.0, 515.1 delta: 2.4 arcsec\n",
      "18791 ACIS-I sim_z=-233.6 aimpoint: 966.8, 973.0 test: 965.2, 977.4 flight: 964.6, 978.3 delta: 2.3 arcsec\n",
      "18800 ACIS-S sim_z=-190.1 aimpoint: 210.0, 556.6 test: 206.5, 556.5 flight: 194.1, 513.6 delta: 1.7 arcsec\n",
      "18792 ACIS-I sim_z=-233.6 aimpoint: 966.8, 973.0 test: 965.7, 976.4 flight: 963.3, 980.7 delta: 1.8 arcsec\n",
      "18469 ACIS-I sim_z=-230.7 aimpoint: 966.8, 887.6 test: 843.8, 887.5 flight: 845.7, 883.4 delta: 60.5 arcsec\n",
      "18194 ACIS-S sim_z=-190.1 aimpoint: 200.7, 513.5 test: 198.4, 513.7 flight: 201.1, 516.8 delta: 1.1 arcsec\n",
      "18801 ACIS-S sim_z=-190.1 aimpoint: 205.0, 516.6 test: 202.8, 515.3 flight: 198.8, 514.1 delta: 1.3 arcsec\n",
      "18793 ACIS-I sim_z=-233.6 aimpoint: 966.8, 973.0 test: 967.4, 972.2 flight: 964.5, 977.6 delta: 0.5 arcsec\n",
      "17213 ACIS-I sim_z=-233.6 aimpoint: 968.6, 972.4 test: 967.7, 966.9 flight: 964.6, 969.7 delta: 2.7 arcsec\n",
      "18417 ACIS-I sim_z=-233.6 aimpoint: 869.2, 936.4 test: 866.9, 931.5 flight: 865.0, 935.0 delta: 2.7 arcsec\n",
      "17721 ACIS-S sim_z=-190.1 aimpoint: 200.7, 513.5 test: 211.3, 519.4 flight: 208.4, 519.7 delta: 6.0 arcsec\n",
      "16747 ACIS-S sim_z=-190.1 aimpoint: 205.0, 516.6 test: 213.5, 519.8 flight: 205.1, 516.4 delta: 4.5 arcsec\n",
      "Obsid=18628 detector=ACIS-I: fail Wrong number of files []\n",
      "18761 ACIS-I sim_z=-233.6 aimpoint: 966.8, 973.0 test: 972.0, 963.2 flight: 967.2, 972.5 delta: 5.5 arcsec\n",
      "17323 HRC-S  sim_z= 250.5 aimpoint:2050.0,9023.0 test:2052.7,9054.4 flight:2059.7,8984.0 delta: 4.2 arcsec\n",
      "18420 ACIS-S sim_z=-200.7 aimpoint: 653.1, 476.9 test: 660.1, 914.3 flight: 655.3, 913.8 delta: 215.2 arcsec\n",
      "18794 ACIS-I sim_z=-233.6 aimpoint: 966.8, 973.0 test: 967.0, 971.8 flight: 964.7, 975.9 delta: 0.6 arcsec\n",
      "18418 ACIS-S sim_z=-190.1 aimpoint: 103.1, 476.9 test: 100.0, 472.4 flight: 102.5, 475.3 delta: 2.7 arcsec\n",
      "17722 ACIS-S sim_z=-190.1 aimpoint: 200.7, 513.5 test: 198.7, 508.4 flight: 199.7, 510.6 delta: 2.7 arcsec\n",
      "18275 ACIS-I sim_z=-233.6 aimpoint: 966.8, 973.0 test: 966.0, 976.1 flight: 965.7, 976.3 delta: 1.6 arcsec\n",
      "18619 ACIS-S sim_z=-184.0 aimpoint: 200.7, 513.5 test: 198.8, 253.6 flight: 197.5, 254.7 delta: 127.9 arcsec\n",
      "18795 ACIS-I sim_z=-233.6 aimpoint: 966.8, 973.0 test: 966.4, 974.1 flight: 964.3, 977.8 delta: 0.6 arcsec\n",
      "18144 ACIS-S sim_z=-190.1 aimpoint: 200.7, 476.9 test: 201.5, 475.3 flight: 201.7, 477.2 delta: 0.9 arcsec\n",
      "18796 ACIS-I sim_z=-233.6 aimpoint: 966.8, 973.0 test: 969.5, 967.3 flight: 965.2, 975.6 delta: 3.1 arcsec\n",
      "18145 ACIS-S sim_z=-190.1 aimpoint: 200.7, 476.9 test: 208.4, 479.5 flight: 200.0, 477.1 delta: 4.0 arcsec\n",
      "18797 ACIS-I sim_z=-233.6 aimpoint: 966.8, 973.0 test: 969.4, 967.8 flight: 964.9, 976.6 delta: 2.8 arcsec\n",
      "18798 ACIS-I sim_z=-233.6 aimpoint: 966.8, 973.0 test: 964.8, 976.4 flight: 964.1, 977.4 delta: 1.9 arcsec\n",
      "18799 ACIS-S sim_z=-190.1 aimpoint: 200.7, 476.9 test: 199.8, 475.0 flight: 197.0, 475.4 delta: 1.0 arcsec\n"
     ]
    }
   ],
   "source": [
    "for obs in dat:\n",
    "    check_predicted_chipxy(obs)"
   ]
  },
  {
   "cell_type": "code",
   "execution_count": null,
   "metadata": {
    "collapsed": false
   },
   "outputs": [],
   "source": []
  },
  {
   "cell_type": "code",
   "execution_count": null,
   "metadata": {
    "collapsed": true
   },
   "outputs": [],
   "source": []
  }
 ],
 "metadata": {
  "kernelspec": {
   "display_name": "Python 2",
   "language": "python",
   "name": "python2"
  },
  "language_info": {
   "codemirror_mode": {
    "name": "ipython",
    "version": 2
   },
   "file_extension": ".py",
   "mimetype": "text/x-python",
   "name": "python",
   "nbconvert_exporter": "python",
   "pygments_lexer": "ipython2",
   "version": "2.7.9"
  }
 },
 "nbformat": 4,
 "nbformat_minor": 0
}
