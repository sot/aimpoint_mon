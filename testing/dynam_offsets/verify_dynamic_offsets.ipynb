{
 "cells": [
  {
   "cell_type": "markdown",
   "metadata": {},
   "source": [
    "## Check the test dynamic_offset.txt files for self-consistency\n",
    "\n",
    "The expectation is that `calc_aca_from_targ(target, y_off, z_off, SI_ALIGN)` should be the same as the `aca` coordinate.  Here `y_off` is the sum of the two offsets `target_offset_y + aca_offset_y`.\n",
    "\n",
    "Instead there is a residual which looks like the CHARACTERISTICS offset (around -3, +11 arcsec).\n",
    "\n",
    "A critical routine in this process is [calc_aca_from_targ](http://cxc.cfa.harvard.edu/mta/ASPECT/tool_doc/chandra_aca/_modules/chandra_aca/transform.html#calc_aca_from_targ), which is validated in the second section of this notebook."
   ]
  },
  {
   "cell_type": "code",
   "execution_count": 2,
   "metadata": {
    "collapsed": true
   },
   "outputs": [],
   "source": [
    "from __future__ import division, print_function\n",
    "from astropy.table import Table\n",
    "import numpy as np\n",
    "from Quaternion import Quat\n",
    "import chandra_aca\n",
    "from chandra_aca import calc_aca_from_targ, calc_targ_from_aca\n",
    "import parse_cm\n",
    "from Ska.engarchive import fetch_sci\n",
    "from Chandra.Time import DateTime\n",
    "%matplotlib inline"
   ]
  },
  {
   "cell_type": "code",
   "execution_count": 3,
   "metadata": {
    "collapsed": false
   },
   "outputs": [
    {
     "data": {
      "text/plain": [
       "array([[  9.99999906e-01,  -3.37419984e-04,  -2.73439987e-04],\n",
       "       [  3.37419984e-04,   9.99999943e-01,  -4.61320600e-08],\n",
       "       [  2.73439987e-04,  -4.61320600e-08,   9.99999963e-01]])"
      ]
     },
     "execution_count": 3,
     "metadata": {},
     "output_type": "execute_result"
    }
   ],
   "source": [
    "# SI_ALIGN from Matlab code\n",
    "SI_ALIGN = chandra_aca.ODB_SI_ALIGN\n",
    "SI_ALIGN"
   ]
  },
  {
   "cell_type": "code",
   "execution_count": 4,
   "metadata": {
    "collapsed": false
   },
   "outputs": [],
   "source": [
    "def print_dq(q1, q2):\n",
    "    \"\"\"\n",
    "    Print the difference between two quaternions\n",
    "    \"\"\"\n",
    "    dq = q1.inv() * q2\n",
    "    dr, dp, dy, _ = np.degrees(dq.q) * 2 * 3600\n",
    "    print('droll={:6.2f}, dpitch={:6.2f}, dyaw={:6.2f} arcsec'.format(dr, dp, dy))"
   ]
  },
  {
   "cell_type": "code",
   "execution_count": 5,
   "metadata": {
    "collapsed": true
   },
   "outputs": [],
   "source": [
    "def check_obs(obs):\n",
    "    \"\"\"\n",
    "    Check `obs` (which is a row out of the dynamic offsets table) for consistency\n",
    "    between target and aca coordinates given the target and aca offsets and the\n",
    "    SI_ALIGN alignment matrix\n",
    "    \"\"\"\n",
    "    y_off = (obs['target_offset_y'] + obs['aca_offset_y']) / 3600\n",
    "    z_off = (obs['target_offset_z'] + obs['aca_offset_z']) / 3600\n",
    "    \n",
    "    q_targ = Quat([obs['target_ra'], obs['target_dec'], obs['target_roll']])\n",
    "    q_aca = Quat([obs['aca_ra'], obs['aca_dec'], obs['aca_roll']])\n",
    "    \n",
    "    q_aca_out = calc_aca_from_targ(q_targ, y_off, z_off, SI_ALIGN)\n",
    "    print('Obsid={} detector={} '.format(obs['obsid'], obs['detector']), end='')\n",
    "    print_dq(q_aca, q_aca_out)"
   ]
  },
  {
   "cell_type": "code",
   "execution_count": 6,
   "metadata": {
    "collapsed": true
   },
   "outputs": [],
   "source": [
    "def check_obs_vs_manvr(obs, manvr):\n",
    "    \"\"\"\n",
    "    Check against attitude from actual flight products (from maneuver summary file)\n",
    "    \"\"\"\n",
    "    mf = manvr['final']\n",
    "    q_flight = Quat([mf['q1'], mf['q2'], mf['q3'], mf['q4']])\n",
    "    q_aca = Quat([obs['aca_ra'], obs['aca_dec'], obs['aca_roll']])\n",
    "    print('Obsid={} detector={} chipx={:8.2f} chipy={:8.2f} '\n",
    "          .format(obs['obsid'], obs['detector'], obs['chipx'], obs['chipy']), end='')\n",
    "    print_dq(q_aca, q_flight)"
   ]
  },
  {
   "cell_type": "code",
   "execution_count": 7,
   "metadata": {
    "collapsed": false
   },
   "outputs": [],
   "source": [
    "dat = Table.read('PRELIM/MAY0916-v2/MAY0916_sample_aimpoint_adjustment_file_orRaDec.txt', format='ascii')"
   ]
  },
  {
   "cell_type": "code",
   "execution_count": 8,
   "metadata": {
    "collapsed": false
   },
   "outputs": [
    {
     "data": {
      "text/html": [
       "&lt;Table masked=False length=27&gt;\n",
       "<table id=\"table139662744703248\">\n",
       "<thead><tr><th>obsid</th><th>detector</th><th>chipx</th><th>chipy</th><th>chip_id</th><th>target_offset_y</th><th>target_offset_z</th><th>target_ra</th><th>target_dec</th><th>target_roll</th><th>aca_offset_y</th><th>aca_offset_z</th><th>aca_ra</th><th>aca_dec</th><th>aca_roll</th><th>mean_date</th><th>mean_t_ccd</th></tr></thead>\n",
       "<thead><tr><th>int64</th><th>string48</th><th>float64</th><th>float64</th><th>int64</th><th>float64</th><th>float64</th><th>float64</th><th>float64</th><th>float64</th><th>float64</th><th>float64</th><th>float64</th><th>float64</th><th>float64</th><th>string168</th><th>float64</th></tr></thead>\n",
       "<tr><td>18225</td><td>ACIS-S</td><td>200.7</td><td>467.9</td><td>7</td><td>-90.0</td><td>-18.0</td><td>227.366667</td><td>7.555556</td><td>180.000053</td><td>16.37</td><td>9.8</td><td>227.365134</td><td>7.568992</td><td>180.000199</td><td>2016:131:11:37:27.816</td><td>-15.81</td></tr>\n",
       "<tr><td>17146</td><td>ACIS-I</td><td>930.2</td><td>1009.6</td><td>3</td><td>-18.0</td><td>-18.0</td><td>299.698333</td><td>40.893111</td><td>115.000109</td><td>17.15</td><td>5.32</td><td>299.723398</td><td>40.881315</td><td>114.983594</td><td>2016:131:23:55:27.816</td><td>-16.41</td></tr>\n",
       "<tr><td>18310</td><td>ACIS-I</td><td>970.0</td><td>980.0</td><td>3</td><td>-18.0</td><td>-18.0</td><td>265.21363</td><td>-28.29669</td><td>81.021662</td><td>0.55</td><td>-15.21</td><td>265.218414</td><td>-28.311616</td><td>81.023872</td><td>2016:132:04:17:51.816</td><td>-15.9</td></tr>\n",
       "<tr><td>18311</td><td>ACIS-I</td><td>970.0</td><td>980.0</td><td>3</td><td>-18.0</td><td>-18.0</td><td>265.46906</td><td>-28.38228</td><td>81.063</td><td>0.19</td><td>-15.39</td><td>265.473823</td><td>-28.397095</td><td>81.065206</td><td>2016:132:04:58:51.816</td><td>-15.8</td></tr>\n",
       "<tr><td>18312</td><td>ACIS-I</td><td>970.0</td><td>980.0</td><td>3</td><td>-18.0</td><td>-18.0</td><td>265.5844</td><td>-28.155892</td><td>81.444554</td><td>-0.17</td><td>-15.56</td><td>265.589226</td><td>-28.170573</td><td>81.446776</td><td>2016:132:05:45:19.816</td><td>-15.71</td></tr>\n",
       "<tr><td>18313</td><td>ACIS-I</td><td>970.0</td><td>980.0</td><td>3</td><td>-18.0</td><td>-18.0</td><td>265.3005</td><td>-28.155056</td><td>81.252364</td><td>-0.46</td><td>-15.7</td><td>265.305241</td><td>-28.169667</td><td>81.254545</td><td>2016:132:06:29:03.816</td><td>-15.64</td></tr>\n",
       "<tr><td>18314</td><td>ACIS-I</td><td>970.0</td><td>980.0</td><td>3</td><td>-18.0</td><td>-18.0</td><td>265.09774</td><td>-28.02048</td><td>81.300125</td><td>-0.7</td><td>-15.82</td><td>265.102463</td><td>-28.035017</td><td>81.302288</td><td>2016:132:07:12:47.816</td><td>-15.57</td></tr>\n",
       "<tr><td>18315</td><td>ACIS-I</td><td>970.0</td><td>980.0</td><td>3</td><td>-18.0</td><td>-18.0</td><td>265.36831</td><td>-28.03393</td><td>81.452896</td><td>-0.91</td><td>-15.92</td><td>265.373056</td><td>-28.048394</td><td>81.455071</td><td>2016:132:07:59:15.816</td><td>-15.52</td></tr>\n",
       "<tr><td>18316</td><td>ACIS-I</td><td>970.0</td><td>980.0</td><td>3</td><td>-18.0</td><td>-18.0</td><td>265.64751</td><td>-28.02839</td><td>81.636608</td><td>-1.07</td><td>-16.0</td><td>265.652291</td><td>-28.042793</td><td>81.6388</td><td>2016:132:08:42:59.816</td><td>-15.48</td></tr>\n",
       "<tr><td>18317</td><td>ACIS-I</td><td>970.0</td><td>980.0</td><td>3</td><td>-18.0</td><td>-18.0</td><td>265.44895</td><td>-27.8196</td><td>81.79229</td><td>-1.2</td><td>-16.07</td><td>265.453751</td><td>-27.833952</td><td>81.794477</td><td>2016:132:09:29:27.816</td><td>-15.44</td></tr>\n",
       "<tr><td>...</td><td>...</td><td>...</td><td>...</td><td>...</td><td>...</td><td>...</td><td>...</td><td>...</td><td>...</td><td>...</td><td>...</td><td>...</td><td>...</td><td>...</td><td>...</td><td>...</td></tr>\n",
       "<tr><td>17106</td><td>ACIS-I</td><td>930.2</td><td>1009.6</td><td>3</td><td>-18.0</td><td>-18.0</td><td>240.96125</td><td>-49.068083</td><td>19.968877</td><td>12.72</td><td>3.31</td><td>240.94225</td><td>-49.08498</td><td>19.954069</td><td>2016:133:23:34:31.816</td><td>-15.25</td></tr>\n",
       "<tr><td>17761</td><td>ACIS-S</td><td>200.7</td><td>467.9</td><td>7</td><td>0.0</td><td>-18.0</td><td>205.385833</td><td>8.084611</td><td>222.473207</td><td>14.39</td><td>8.11</td><td>205.394074</td><td>8.109659</td><td>222.472001</td><td>2016:134:02:48:35.816</td><td>-15.47</td></tr>\n",
       "<tr><td>18481</td><td>ACIS-I</td><td>970.0</td><td>980.0</td><td>3</td><td>-18.0</td><td>-18.0</td><td>217.84092</td><td>34.178139</td><td>180.000272</td><td>-0.58</td><td>-15.76</td><td>217.857568</td><td>34.184473</td><td>179.990647</td><td>2016:134:05:40:47.816</td><td>-15.59</td></tr>\n",
       "<tr><td>16971</td><td>ACIS-S</td><td>200.7</td><td>467.9</td><td>7</td><td>0.0</td><td>-18.0</td><td>192.57875</td><td>-23.566</td><td>269.999979</td><td>15.59</td><td>9.41</td><td>192.564211</td><td>-23.542736</td><td>269.994191</td><td>2016:134:09:49:31.816</td><td>-15.61</td></tr>\n",
       "<tr><td>17212</td><td>ACIS-I</td><td>930.2</td><td>1009.6</td><td>3</td><td>-180.0</td><td>-15.0</td><td>48.480833</td><td>-53.578111</td><td>184.999454</td><td>13.57</td><td>3.56</td><td>48.433201</td><td>-53.567991</td><td>184.961667</td><td>2016:134:15:58:31.816</td><td>-15.49</td></tr>\n",
       "<tr><td>18141</td><td>ACIS-S</td><td>200.7</td><td>467.9</td><td>7</td><td>0.0</td><td>-18.0</td><td>202.807917</td><td>-25.402778</td><td>284.000024</td><td>12.9</td><td>7.87</td><td>202.788032</td><td>-25.384051</td><td>283.991474</td><td>2016:134:23:37:43.816</td><td>-14.98</td></tr>\n",
       "<tr><td>18480</td><td>ACIS-I</td><td>970.0</td><td>980.0</td><td>3</td><td>-18.0</td><td>-18.0</td><td>217.83371</td><td>33.92225</td><td>181.00027</td><td>-1.91</td><td>-15.87</td><td>217.849728</td><td>33.928787</td><td>180.99106</td><td>2016:135:05:08:27.816</td><td>-15.13</td></tr>\n",
       "<tr><td>18845</td><td>ACIS-S</td><td>200.7</td><td>467.9</td><td>7</td><td>0.0</td><td>-18.0</td><td>192.57875</td><td>-23.566</td><td>269.999979</td><td>13.89</td><td>8.58</td><td>192.564462</td><td>-23.543207</td><td>269.994291</td><td>2016:135:09:14:27.816</td><td>-15.18</td></tr>\n",
       "<tr><td>18847</td><td>ACIS-I</td><td>970.0</td><td>980.0</td><td>3</td><td>-180.0</td><td>-15.0</td><td>48.480833</td><td>-53.578111</td><td>184.999454</td><td>-2.48</td><td>-16.69</td><td>48.42654</td><td>-53.573983</td><td>184.956304</td><td>2016:135:15:15:15.816</td><td>-15.11</td></tr>\n",
       "<tr><td>17085</td><td>ACIS-S</td><td>200.7</td><td>467.9</td><td>7</td><td>0.0</td><td>-18.0</td><td>247.016667</td><td>51.775417</td><td>165.451257</td><td>15.52</td><td>9.38</td><td>247.058441</td><td>51.782462</td><td>165.417963</td><td>2016:136:11:56:11.816</td><td>-15.59</td></tr>\n",
       "</table>"
      ],
      "text/plain": [
       "<Table masked=False length=27>\n",
       "obsid detector  chipx   chipy  ...  aca_roll        mean_date       mean_t_ccd\n",
       "int64 string48 float64 float64 ...  float64         string168        float64  \n",
       "----- -------- ------- ------- ... ---------- --------------------- ----------\n",
       "18225   ACIS-S   200.7   467.9 ... 180.000199 2016:131:11:37:27.816     -15.81\n",
       "17146   ACIS-I   930.2  1009.6 ... 114.983594 2016:131:23:55:27.816     -16.41\n",
       "18310   ACIS-I   970.0   980.0 ...  81.023872 2016:132:04:17:51.816      -15.9\n",
       "18311   ACIS-I   970.0   980.0 ...  81.065206 2016:132:04:58:51.816      -15.8\n",
       "18312   ACIS-I   970.0   980.0 ...  81.446776 2016:132:05:45:19.816     -15.71\n",
       "18313   ACIS-I   970.0   980.0 ...  81.254545 2016:132:06:29:03.816     -15.64\n",
       "18314   ACIS-I   970.0   980.0 ...  81.302288 2016:132:07:12:47.816     -15.57\n",
       "18315   ACIS-I   970.0   980.0 ...  81.455071 2016:132:07:59:15.816     -15.52\n",
       "18316   ACIS-I   970.0   980.0 ...    81.6388 2016:132:08:42:59.816     -15.48\n",
       "18317   ACIS-I   970.0   980.0 ...  81.794477 2016:132:09:29:27.816     -15.44\n",
       "  ...      ...     ...     ... ...        ...                   ...        ...\n",
       "17106   ACIS-I   930.2  1009.6 ...  19.954069 2016:133:23:34:31.816     -15.25\n",
       "17761   ACIS-S   200.7   467.9 ... 222.472001 2016:134:02:48:35.816     -15.47\n",
       "18481   ACIS-I   970.0   980.0 ... 179.990647 2016:134:05:40:47.816     -15.59\n",
       "16971   ACIS-S   200.7   467.9 ... 269.994191 2016:134:09:49:31.816     -15.61\n",
       "17212   ACIS-I   930.2  1009.6 ... 184.961667 2016:134:15:58:31.816     -15.49\n",
       "18141   ACIS-S   200.7   467.9 ... 283.991474 2016:134:23:37:43.816     -14.98\n",
       "18480   ACIS-I   970.0   980.0 ...  180.99106 2016:135:05:08:27.816     -15.13\n",
       "18845   ACIS-S   200.7   467.9 ... 269.994291 2016:135:09:14:27.816     -15.18\n",
       "18847   ACIS-I   970.0   980.0 ... 184.956304 2016:135:15:15:15.816     -15.11\n",
       "17085   ACIS-S   200.7   467.9 ... 165.417963 2016:136:11:56:11.816     -15.59"
      ]
     },
     "execution_count": 8,
     "metadata": {},
     "output_type": "execute_result"
    }
   ],
   "source": [
    "dat"
   ]
  },
  {
   "cell_type": "code",
   "execution_count": 9,
   "metadata": {
    "collapsed": false
   },
   "outputs": [
    {
     "name": "stdout",
     "output_type": "stream",
     "text": [
      "Obsid=18225 detector=ACIS-S droll=  0.19, dpitch= -0.17, dyaw= -1.44 arcsec\n",
      "Obsid=17146 detector=ACIS-I droll=  0.39, dpitch= -0.17, dyaw= -1.44 arcsec\n",
      "Obsid=18310 detector=ACIS-I droll=  0.21, dpitch= -0.17, dyaw= -1.44 arcsec\n",
      "Obsid=18311 detector=ACIS-I droll=  0.21, dpitch= -0.17, dyaw= -1.44 arcsec\n",
      "Obsid=18312 detector=ACIS-I droll=  0.20, dpitch= -0.17, dyaw= -1.44 arcsec\n",
      "Obsid=18313 detector=ACIS-I droll=  0.21, dpitch= -0.17, dyaw= -1.44 arcsec\n",
      "Obsid=18314 detector=ACIS-I droll=  0.20, dpitch= -0.17, dyaw= -1.44 arcsec\n",
      "Obsid=18315 detector=ACIS-I droll=  0.20, dpitch= -0.17, dyaw= -1.44 arcsec\n",
      "Obsid=18316 detector=ACIS-I droll=  0.20, dpitch= -0.17, dyaw= -1.44 arcsec\n",
      "Obsid=18317 detector=ACIS-I droll=  0.20, dpitch= -0.17, dyaw= -1.44 arcsec\n",
      "Obsid=18318 detector=ACIS-I droll=  0.20, dpitch= -0.17, dyaw= -1.44 arcsec\n",
      "Obsid=18319 detector=ACIS-I droll=  0.20, dpitch= -0.17, dyaw= -1.44 arcsec\n",
      "Obsid=18320 detector=ACIS-I droll=  0.21, dpitch= -0.17, dyaw= -1.44 arcsec\n",
      "Obsid=18108 detector=ACIS-S droll=  0.26, dpitch= -0.16, dyaw= -1.44 arcsec\n",
      "Obsid=18846 detector=ACIS-I droll=  0.39, dpitch= -0.17, dyaw= -1.44 arcsec\n",
      "Obsid=18848 detector=ACIS-S droll=  0.19, dpitch= -0.17, dyaw= -1.43 arcsec\n",
      "Obsid=17469 detector=ACIS-S droll=  0.04, dpitch= -0.17, dyaw= -1.44 arcsec\n",
      "Obsid=17106 detector=ACIS-I droll=  1.63, dpitch= -0.17, dyaw= -1.44 arcsec\n",
      "Obsid=17761 detector=ACIS-S droll=  0.17, dpitch= -0.17, dyaw= -1.44 arcsec\n",
      "Obsid=18481 detector=ACIS-I droll=  0.98, dpitch= -0.17, dyaw= -1.44 arcsec\n",
      "Obsid=16971 detector=ACIS-S droll= -0.08, dpitch= -0.17, dyaw= -1.44 arcsec\n",
      "Obsid=17212 detector=ACIS-I droll= -1.96, dpitch= -0.17, dyaw= -1.44 arcsec\n",
      "Obsid=18141 detector=ACIS-S droll=  0.09, dpitch= -0.17, dyaw= -1.44 arcsec\n",
      "Obsid=18480 detector=ACIS-I droll=  0.97, dpitch= -0.17, dyaw= -1.44 arcsec\n",
      "Obsid=18845 detector=ACIS-S droll= -0.07, dpitch= -0.17, dyaw= -1.44 arcsec\n",
      "Obsid=18847 detector=ACIS-I droll= -1.97, dpitch= -0.16, dyaw= -1.44 arcsec\n",
      "Obsid=17085 detector=ACIS-S droll=  1.71, dpitch= -0.16, dyaw= -1.44 arcsec\n"
     ]
    }
   ],
   "source": [
    "# Check each observation\n",
    "for obs in dat:\n",
    "    check_obs(obs)"
   ]
  },
  {
   "cell_type": "code",
   "execution_count": 10,
   "metadata": {
    "collapsed": true
   },
   "outputs": [],
   "source": [
    "import parse_cm.maneuver"
   ]
  },
  {
   "cell_type": "code",
   "execution_count": 12,
   "metadata": {
    "collapsed": false
   },
   "outputs": [],
   "source": [
    "mm = parse_cm.maneuver.read_maneuver_summary('PRELIM/MAY0916-v2/flight/mps/mm130_1307.sum', structured=True)\n",
    "mm = {m['final']['id']: m for m in mm}  # Turn into a dict"
   ]
  },
  {
   "cell_type": "code",
   "execution_count": 13,
   "metadata": {
    "collapsed": false
   },
   "outputs": [
    {
     "data": {
      "text/plain": [
       "{'attitude_type': 'FINAL',\n",
       " 'date': '2016:131:20:26:06.616',\n",
       " 'dec': 40.88244014,\n",
       " 'id': 1714600,\n",
       " 'off_nominal_roll': 0.23845891,\n",
       " 'q1': 0.589146966718,\n",
       " 'q2': -0.559084751746,\n",
       " 'q3': 0.001864374168,\n",
       " 'q4': 0.583375193234,\n",
       " 'ra': 299.7216364,\n",
       " 'roll': 114.98474486,\n",
       " 'sun_angle': 91.44183616}"
      ]
     },
     "execution_count": 13,
     "metadata": {},
     "output_type": "execute_result"
    }
   ],
   "source": [
    "mm[1714600]['final']"
   ]
  },
  {
   "cell_type": "code",
   "execution_count": 14,
   "metadata": {
    "collapsed": false
   },
   "outputs": [
    {
     "name": "stdout",
     "output_type": "stream",
     "text": [
      "Obsid=18225 detector=ACIS-S chipx=  200.70 chipy=  467.90 droll= -0.00, dpitch= -6.43, dyaw=  2.43 arcsec\n",
      "Obsid=17146 detector=ACIS-I chipx=  930.20 chipy= 1009.60 droll= -0.01, dpitch= -2.64, dyaw=  5.70 arcsec\n",
      "Obsid=18108 detector=ACIS-S chipx=  200.70 chipy=  467.90 droll= -0.00, dpitch= -5.60, dyaw=  0.73 arcsec\n",
      "Obsid=18848 detector=ACIS-S chipx=  200.70 chipy=  467.90 droll=  0.00, dpitch= -4.05, dyaw= -2.45 arcsec\n",
      "Obsid=17469 detector=ACIS-S chipx=  200.70 chipy=  467.90 droll=  0.01, dpitch= -4.69, dyaw= -0.84 arcsec\n",
      "Obsid=17106 detector=ACIS-I chipx=  930.20 chipy= 1009.60 droll=  0.00, dpitch= -0.63, dyaw=  1.27 arcsec\n",
      "Obsid=17761 detector=ACIS-S chipx=  200.70 chipy=  467.90 droll=  0.01, dpitch= -4.74, dyaw=  0.45 arcsec\n",
      "Obsid=16971 detector=ACIS-S chipx=  200.70 chipy=  467.90 droll=  0.00, dpitch= -6.05, dyaw=  1.65 arcsec\n",
      "Obsid=17212 detector=ACIS-I chipx=  930.20 chipy= 1009.60 droll= -0.00, dpitch= -0.88, dyaw=  2.11 arcsec\n",
      "Obsid=18141 detector=ACIS-S chipx=  200.70 chipy=  467.90 droll= -0.00, dpitch= -4.51, dyaw= -1.05 arcsec\n",
      "Obsid=18845 detector=ACIS-S chipx=  200.70 chipy=  467.90 droll=  0.00, dpitch= -5.22, dyaw= -0.05 arcsec\n",
      "Obsid=17085 detector=ACIS-S chipx=  200.70 chipy=  467.90 droll=  0.00, dpitch= -6.01, dyaw=  1.57 arcsec\n"
     ]
    }
   ],
   "source": [
    "for obs in dat:\n",
    "    if obs['chipx'] == 970.0:\n",
    "        continue  # these are fake test cases\n",
    "    check_obs_vs_manvr(obs, mm[obs['obsid'] * 100])"
   ]
  },
  {
   "cell_type": "code",
   "execution_count": 15,
   "metadata": {
    "collapsed": true
   },
   "outputs": [],
   "source": [
    "orl = parse_cm.or_list.read_or_list('PRELIM/MAY0916-v2/flight/MAY0916_A.or')"
   ]
  },
  {
   "cell_type": "code",
   "execution_count": 16,
   "metadata": {
    "collapsed": false
   },
   "outputs": [],
   "source": [
    "orl = {o['obsid']: o for o in orl}"
   ]
  },
  {
   "cell_type": "code",
   "execution_count": 17,
   "metadata": {
    "collapsed": false
   },
   "outputs": [
    {
     "data": {
      "text/plain": [
       "{'dither_on': 'ON',\n",
       " 'dither_y_amp': 0.002222,\n",
       " 'dither_y_freq': 0.0,\n",
       " 'dither_y_phase': 0.5091,\n",
       " 'dither_z_amp': 0.36,\n",
       " 'dither_z_freq': 0.002222,\n",
       " 'dither_z_phase': 0.0,\n",
       " 'duration': 25000.0,\n",
       " 'grating': 'NONE',\n",
       " 'obsid': 17146,\n",
       " 'priority': 6,\n",
       " 'si': 'ACIS-I',\n",
       " 'si_mode': 'TE_006E6',\n",
       " 'sim_offset_x': 0,\n",
       " 'sim_offset_z': 0,\n",
       " 'target_dec': 40.893111,\n",
       " 'target_name': 'Cygnus A - NW Subclu',\n",
       " 'target_offset_y': -0.005,\n",
       " 'target_offset_z': -0.005,\n",
       " 'target_ra': 299.698333}"
      ]
     },
     "execution_count": 17,
     "metadata": {},
     "output_type": "execute_result"
    }
   ],
   "source": [
    "orl[17146]"
   ]
  },
  {
   "cell_type": "code",
   "execution_count": 18,
   "metadata": {
    "collapsed": false,
    "scrolled": true
   },
   "outputs": [
    {
     "data": {
      "image/png": "[encoded data removed]",
      "text/plain": [
       "<matplotlib.figure.Figure at 0x7f05c44f8910>"
      ]
     },
     "metadata": {},
     "output_type": "display_data"
    }
   ],
   "source": [
    "start, stop = dat[0]['mean_date'], dat[-1]['mean_date']\n",
    "tccd = fetch_sci.Msid('aacccdpt', start, stop, stat='5min')\n",
    "tccd.plot()"
   ]
  },
  {
   "cell_type": "code",
   "execution_count": 19,
   "metadata": {
    "collapsed": false
   },
   "outputs": [
    {
     "name": "stdout",
     "output_type": "stream",
     "text": [
      "-14.7691\n"
     ]
    },
    {
     "data": {
      "image/png": "[encoded data removed]",
      "text/plain": [
       "<matplotlib.figure.Figure at 0x7f05cc1c20d0>"
      ]
     },
     "metadata": {},
     "output_type": "display_data"
    }
   ],
   "source": [
    "tccd2 = fetch_sci.Msid('aacccdpt', DateTime()-90, DateTime(), stat='5min')\n",
    "tccd2.plot()\n",
    "print(np.mean(tccd2.vals))"
   ]
  },
  {
   "cell_type": "markdown",
   "metadata": {},
   "source": [
    "## Validate calc_aca_from_targ() using JUN0115 obsid 17058.\n",
    "\n",
    "Validate the Ska function to transform from target coordinates to ACA pointing assuming an SI_ALIGN matrix and Y/Z offsets.\n",
    "\n",
    "From the OR and maneuver summary file\n",
    "```\n",
    "OBS,\n",
    " ID=17058,TARGET=(215.015417,-49.595083,{PKS B1416-493}),\n",
    " DURATION=(64000.000000),PRIORITY=5,SI=ACIS-I,GRATING=NONE,SI_MODE=TE_00458,\n",
    " ROLL=(305.0),\n",
    " ACA_MODE=DEFAULT,TARGET_OFFSET=(-0.009167,0.001667),\n",
    " DITHER=(ON,0.002222,0.360000,0.000000,0.002222,0.509100,0.000000),\n",
    " SEGMENT=(1,58800.000000),PRECEDING=(P8504),MIN_ACQ=1,MIN_GUIDE=1\n",
    " \n",
    " \n",
    "   FINAL ID:    1705800\n",
    "                       FINAL ATTITUDE\n",
    "      STOP TIME (GMT):   2015:154:22:57:25.930\n",
    "             RA (deg):    214.98451436\n",
    "            DEC (deg):    -49.59669395\n",
    "           ROLL (deg):    304.97646792\n",
    "        Dev. from\n",
    "      Opt. Roll (deg):     -4.70028676\n",
    "      Sun Angle (deg):    140.49525748\n",
    "           Quaternion:      0.228750858213    0.511758087381   -0.709666300958    0.426790869340\n",
    "\n",
    "```"
   ]
  },
  {
   "cell_type": "code",
   "execution_count": 20,
   "metadata": {
    "collapsed": true
   },
   "outputs": [],
   "source": [
    "q_aca = Quat([0.228750858213,    0.511758087381,   -0.709666300958,    0.426790869340])\n",
    "q_targ = Quat([215.015417,-49.595083, q_aca.roll])  # approximation, but OK here\n",
    "y_off, z_off = -0.009167,0.001667"
   ]
  },
  {
   "cell_type": "code",
   "execution_count": 21,
   "metadata": {
    "collapsed": false
   },
   "outputs": [],
   "source": [
    "q_aca_out = calc_aca_from_targ(q_targ, y_off, z_off, SI_ALIGN)"
   ]
  },
  {
   "cell_type": "code",
   "execution_count": 22,
   "metadata": {
    "collapsed": false
   },
   "outputs": [
    {
     "name": "stdout",
     "output_type": "stream",
     "text": [
      "droll=-84.72, dpitch= -0.02, dyaw= -0.03 arcsec\n"
     ]
    }
   ],
   "source": [
    "print_dq(q_aca, q_aca_out)"
   ]
  },
  {
   "cell_type": "markdown",
   "metadata": {},
   "source": [
    "#### Conclusion:  calc_aca_from_targ is working correctly"
   ]
  },
  {
   "cell_type": "code",
   "execution_count": 23,
   "metadata": {
    "collapsed": false
   },
   "outputs": [
    {
     "data": {
      "text/plain": [
       "array([  0.   ,  89.999,   0.   ])"
      ]
     },
     "execution_count": 23,
     "metadata": {},
     "output_type": "execute_result"
    }
   ],
   "source": [
    "q_aca = Quat([0, 89.999, 0])\n",
    "q_aca.equatorial"
   ]
  },
  {
   "cell_type": "code",
   "execution_count": 24,
   "metadata": {
    "collapsed": false
   },
   "outputs": [
    {
     "name": "stdout",
     "output_type": "stream",
     "text": [
      "[ 116.56596786   89.96720474  243.43403103]\n"
     ]
    }
   ],
   "source": [
    "q_targ = calc_targ_from_aca(q_aca, 0.01, 0.0)\n",
    "print(q_targ.equatorial)"
   ]
  },
  {
   "cell_type": "code",
   "execution_count": 25,
   "metadata": {
    "collapsed": true
   },
   "outputs": [],
   "source": [
    "q_targ0 = Quat([q_targ.ra, q_targ.dec, 0.0])"
   ]
  },
  {
   "cell_type": "code",
   "execution_count": 26,
   "metadata": {
    "collapsed": false
   },
   "outputs": [
    {
     "data": {
      "text/plain": [
       "array([ -1.19310705e-08,  -1.36719996e-04,   2.55976456e-04,\n",
       "         9.99999958e-01])"
      ]
     },
     "execution_count": 26,
     "metadata": {},
     "output_type": "execute_result"
    }
   ],
   "source": [
    "dq = q_aca.inv() * q_targ\n",
    "dq.q"
   ]
  },
  {
   "cell_type": "code",
   "execution_count": 27,
   "metadata": {
    "collapsed": false
   },
   "outputs": [
    {
     "data": {
      "text/plain": [
       "array([  8.50654977e-01,   1.45870633e-04,   2.50874594e-04,\n",
       "         5.25724287e-01])"
      ]
     },
     "execution_count": 27,
     "metadata": {},
     "output_type": "execute_result"
    }
   ],
   "source": [
    "dq0 = q_aca.inv() * q_targ0\n",
    "dq0.q"
   ]
  },
  {
   "cell_type": "code",
   "execution_count": 28,
   "metadata": {
    "collapsed": false
   },
   "outputs": [
    {
     "data": {
      "text/plain": [
       "28.0235"
      ]
     },
     "execution_count": 28,
     "metadata": {},
     "output_type": "execute_result"
    }
   ],
   "source": [
    "1.367e-4 * 205000."
   ]
  },
  {
   "cell_type": "code",
   "execution_count": null,
   "metadata": {
    "collapsed": true
   },
   "outputs": [],
   "source": []
  }
 ],
 "metadata": {
  "kernelspec": {
   "display_name": "Python 2",
   "language": "python",
   "name": "python2"
  },
  "language_info": {
   "codemirror_mode": {
    "name": "ipython",
    "version": 2
   },
   "file_extension": ".py",
   "mimetype": "text/x-python",
   "name": "python",
   "nbconvert_exporter": "python",
   "pygments_lexer": "ipython2",
   "version": "2.7.9"
  }
 },
 "nbformat": 4,
 "nbformat_minor": 0
}
