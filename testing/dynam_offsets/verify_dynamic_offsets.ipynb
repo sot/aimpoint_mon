{
 "cells": [
  {
   "cell_type": "markdown",
   "metadata": {},
   "source": [
    "# Verify FOT Matlab tools 2016_210 dynamic offsets test products\n",
    "\n",
    "This notebook performs functional testing of test load products created starting with \n",
    "existing OFLS products and processing with Matlab tools 2016_210.\n",
    "This release introduces dynamical aimpoint offsets that\n",
    "compensate for temperature-dependent alignment changes of the ACA.  The Matlab\n",
    "tools code in turn depends a new version 0.7 of the `chandra_aca` package which\n",
    "provides the core function to compute the temperature-dependent dynamical aimpoint offsets.\n",
    "\n",
    "Overall test requirements are defined in the Aimpoint Transition Plan for Cycle 18.  The functional testing in this notebook consists of the following:\n",
    "\n",
    "**For post-NOV0215 products with a nominal zero-offsets aimpoint table**\n",
    "\n",
    "- Check internal consistency of dynamical_offsets table\n",
    "- Check dynamical offsets ACA attitude matches TEST maneuver summary\n",
    "- Check dynamical offsets ACA attitude matches FLIGHT maneuver summary for ACIS observations within ~10 arcsec.\n",
    "    - This is expected because the new dynamic offsets should roughly replace the OFLS CHARACTERISTICS update method of aimpoint adjustment.  \n",
    "    - This constitutes a rough functional test of Python code to generate dynamic ACA offsets.\n",
    "    - It also provides a very simple demonstration that the attitude changes are not large.\n",
    "    - Differences will occur due to:\n",
    "      - Change from the cycle 17 default aimpoint to the cycle 18 default aimpoint.  These are less than 5 arcsec.\n",
    "      - Difference in per-obsid predicted ACA temperature from the mean 3-month value used in the CHARACTERISTICS update.\n",
    "\n",
    "- Check that predicted CHIPX / CHIPY matches expectation to within 10 arcsec.\n",
    "  - Use the test ACA attitude and observed SIM DY/DZ (alignment from fids).\n",
    "  - Generate a \"fake\" observation with adjusted RA_NOM, DEC_NOM, ROLL_NOM (\"HRMA attitude\").\n",
    "  - Adjustment based on the delta between TEST and FLIGHT pointing attitudes.\n",
    "  - Use the CIAO tool `dmcoords` to compute predicted CHIPX / CHIPY.\n",
    "\n",
    "**For pre-NOV1615 products with an empty zero-offsets aimpoint table**\n",
    "\n",
    "- Check that TEST and FLIGHT attitudes from maneuver summary match to within 0.1 arcsec.\n",
    "\n",
    "**ALL TESTS PASS**"
   ]
  },
  {
   "cell_type": "code",
   "execution_count": 1,
   "metadata": {
    "collapsed": true
   },
   "outputs": [],
   "source": [
    "# Required imports\n",
    "\n",
    "from __future__ import division, print_function\n",
    "import glob\n",
    "import shelve\n",
    "from astropy.table import Table\n",
    "import numpy as np\n",
    "from Quaternion import Quat\n",
    "import chandra_aca\n",
    "from chandra_aca import calc_aca_from_targ, calc_targ_from_aca\n",
    "import parse_cm\n",
    "from Ska.engarchive import fetch_sci\n",
    "from Chandra.Time import DateTime\n",
    "import Ska.Shell\n",
    "import functools\n",
    "import mica.archive.obspar\n",
    "import Ska.arc5gl\n",
    "import os\n",
    "import parse_cm.maneuver\n",
    "\n",
    "%matplotlib inline"
   ]
  },
  {
   "cell_type": "markdown",
   "metadata": {},
   "source": [
    "## \"Post-NOV0215\" verification testing using the MAR0516O products\n",
    "\n",
    "These are nominal flight-like products created using the existing MAR0516 loads.\n",
    "\n",
    "One expected difference is that Matlab uses the OFLS CHARACTERISTICS file\n",
    "`CHARACTERIS_07JUL16` to back out the OFLS `ODB_SI_ALIGN` transform.\n",
    "MAR0516 was planned using `CHARACTERIS_28FEB16`.  There is a (1.77, 0.33) arcsec difference\n",
    "for both ACIS-S and ACIS-I in the ODB_SI_ALIGN offsets.  This 1.8 arcsec offset\n",
    "is seen in comparisons while in newly generated products there will be no such offset.\n"
   ]
  },
  {
   "cell_type": "code",
   "execution_count": 2,
   "metadata": {
    "collapsed": true
   },
   "outputs": [],
   "source": [
    "PRODUCTS = 'MAR0516O'\n",
    "\n",
    "TEST_DIR = '/proj/sot/ska/ops/SFE'\n",
    "FLIGHT_DIR = '/data/mpcrit1/mplogs/2016'  # Must match PRODUCTS"
   ]
  },
  {
   "cell_type": "code",
   "execution_count": 3,
   "metadata": {
    "collapsed": false
   },
   "outputs": [
    {
     "data": {
      "text/plain": [
       "array([[  9.99999906e-01,  -3.37419984e-04,  -2.73439987e-04],\n",
       "       [  3.37419984e-04,   9.99999943e-01,  -4.61320600e-08],\n",
       "       [  2.73439987e-04,  -4.61320600e-08,   9.99999963e-01]])"
      ]
     },
     "execution_count": 3,
     "metadata": {},
     "output_type": "execute_result"
    }
   ],
   "source": [
    "# SI_ALIGN from Matlab code\n",
    "SI_ALIGN = chandra_aca.ODB_SI_ALIGN\n",
    "SI_ALIGN"
   ]
  },
  {
   "cell_type": "code",
   "execution_count": 4,
   "metadata": {
    "collapsed": false
   },
   "outputs": [],
   "source": [
    "def print_dq(q1, q2):\n",
    "    \"\"\"\n",
    "    Print the difference between two quaternions in a nice formatted way.\n",
    "    \"\"\"\n",
    "    dq = q1.inv() * q2\n",
    "    dr, dp, dy, _ = np.degrees(dq.q) * 2 * 3600\n",
    "    print('droll={:6.2f}, dpitch={:6.2f}, dyaw={:6.2f} arcsec'.format(dr, dp, dy))"
   ]
  },
  {
   "cell_type": "code",
   "execution_count": 5,
   "metadata": {
    "collapsed": true
   },
   "outputs": [],
   "source": [
    "def check_obs(obs):\n",
    "    \"\"\"\n",
    "    Check `obs` (which is a row out of the dynamic offsets table) for consistency\n",
    "    between target and aca coordinates given the target and aca offsets and the\n",
    "    SI_ALIGN alignment matrix.\n",
    "    \"\"\"\n",
    "    y_off = (obs['target_offset_y'] + obs['aca_offset_y']) / 3600\n",
    "    z_off = (obs['target_offset_z'] + obs['aca_offset_z']) / 3600\n",
    "    \n",
    "    q_targ = Quat([obs['target_ra'], obs['target_dec'], obs['target_roll']])\n",
    "    q_aca = Quat([obs['aca_ra'], obs['aca_dec'], obs['aca_roll']])\n",
    "    \n",
    "    q_aca_out = calc_aca_from_targ(q_targ, y_off, z_off, SI_ALIGN)\n",
    "    print('{} {:6s} '.format(obs['obsid'], obs['detector']), end='')\n",
    "    print_dq(q_aca, q_aca_out)"
   ]
  },
  {
   "cell_type": "code",
   "execution_count": 6,
   "metadata": {
    "collapsed": true
   },
   "outputs": [],
   "source": [
    "def check_obs_vs_manvr(obs, manvr):\n",
    "    \"\"\"\n",
    "    Check against attitude from actual flight products (from maneuver summary file)\n",
    "    \"\"\"\n",
    "    mf = manvr['final']\n",
    "    q_flight = Quat([mf['q1'], mf['q2'], mf['q3'], mf['q4']])\n",
    "    q_aca = Quat([obs['aca_ra'], obs['aca_dec'], obs['aca_roll']])\n",
    "    print('{} {:6s} chipx={:8.2f} chipy={:8.2f} '\n",
    "          .format(obs['obsid'], obs['detector'], obs['chipx'], obs['chipy']), end='')\n",
    "    print_dq(q_aca, q_flight)"
   ]
  },
  {
   "cell_type": "code",
   "execution_count": 7,
   "metadata": {
    "collapsed": false
   },
   "outputs": [],
   "source": [
    "filename = os.path.join(TEST_DIR, PRODUCTS, 'ofls', 'output', '{}_dynamical_offsets.txt'.format(PRODUCTS))\n",
    "dat = Table.read(filename, format='ascii')"
   ]
  },
  {
   "cell_type": "code",
   "execution_count": 8,
   "metadata": {
    "collapsed": false
   },
   "outputs": [
    {
     "data": {
      "text/html": [
       "&lt;Table masked=False length=5&gt;\n",
       "<table id=\"table140469673483536\">\n",
       "<thead><tr><th>obsid</th><th>detector</th><th>chipx</th><th>chipy</th><th>chip_id</th><th>target_offset_y</th><th>target_offset_z</th><th>target_ra</th><th>target_dec</th><th>target_roll</th><th>aca_offset_y</th><th>aca_offset_z</th><th>aca_ra</th><th>aca_dec</th><th>aca_roll</th><th>mean_date</th><th>mean_t_ccd</th></tr></thead>\n",
       "<thead><tr><th>int64</th><th>string48</th><th>float64</th><th>float64</th><th>int64</th><th>float64</th><th>float64</th><th>float64</th><th>float64</th><th>float64</th><th>float64</th><th>float64</th><th>float64</th><th>float64</th><th>float64</th><th>string168</th><th>float64</th></tr></thead>\n",
       "<tr><td>18168</td><td>ACIS-S</td><td>200.7</td><td>476.9</td><td>7</td><td>0.0</td><td>-18.0</td><td>35.887917</td><td>45.821194</td><td>305.048466</td><td>10.63</td><td>2.61</td><td>35.856675</td><td>45.832545</td><td>305.071242</td><td>2016:065:07:11:35.816</td><td>-14.41</td></tr>\n",
       "<tr><td>18091</td><td>ACIS-S</td><td>200.7</td><td>476.9</td><td>7</td><td>0.0</td><td>-18.0</td><td>19.497917</td><td>45.605944</td><td>320.672508</td><td>9.72</td><td>2.17</td><td>19.463965</td><td>45.610948</td><td>320.697215</td><td>2016:065:10:33:51.816</td><td>-14.18</td></tr>\n",
       "<tr><td>18157</td><td>ACIS-S</td><td>200.7</td><td>476.9</td><td>7</td><td>0.0</td><td>-18.0</td><td>281.128333</td><td>22.074444</td><td>64.999951</td><td>8.54</td><td>1.59</td><td>281.12943</td><td>22.050558</td><td>64.999589</td><td>2016:065:14:17:59.816</td><td>-13.88</td></tr>\n",
       "<tr><td>18725</td><td>ACIS-S</td><td>210.0</td><td>520.0</td><td>7</td><td>0.0</td><td>-18.0</td><td>168.63765</td><td>25.710603</td><td>165.000238</td><td>3.08</td><td>-20.04</td><td>168.660209</td><td>25.71034</td><td>164.990215</td><td>2016:065:19:04:59.816</td><td>-13.65</td></tr>\n",
       "<tr><td>18276</td><td>ACIS-I</td><td>930.2</td><td>1009.6</td><td>3</td><td>-18.0</td><td>-18.0</td><td>194.649583</td><td>28.074806</td><td>124.847377</td><td>10.33</td><td>2.03</td><td>194.670765</td><td>28.067452</td><td>124.83722</td><td>2016:066:10:09:43.816</td><td>-14.72</td></tr>\n",
       "</table>"
      ],
      "text/plain": [
       "<Table masked=False length=5>\n",
       "obsid detector  chipx   chipy  ...  aca_roll        mean_date       mean_t_ccd\n",
       "int64 string48 float64 float64 ...  float64         string168        float64  \n",
       "----- -------- ------- ------- ... ---------- --------------------- ----------\n",
       "18168   ACIS-S   200.7   476.9 ... 305.071242 2016:065:07:11:35.816     -14.41\n",
       "18091   ACIS-S   200.7   476.9 ... 320.697215 2016:065:10:33:51.816     -14.18\n",
       "18157   ACIS-S   200.7   476.9 ...  64.999589 2016:065:14:17:59.816     -13.88\n",
       "18725   ACIS-S   210.0   520.0 ... 164.990215 2016:065:19:04:59.816     -13.65\n",
       "18276   ACIS-I   930.2  1009.6 ...  124.83722 2016:066:10:09:43.816     -14.72"
      ]
     },
     "execution_count": 8,
     "metadata": {},
     "output_type": "execute_result"
    }
   ],
   "source": [
    "dat[:5]"
   ]
  },
  {
   "cell_type": "markdown",
   "metadata": {},
   "source": [
    "## Check internal consistency of dynamical_offsets table\n",
    "\n",
    "This checks that applying the sum of target and ACA offsets along with the nominal SI_ALIGN to the target attitude produces the ACA attitude.\n",
    "\n",
    "*All the ACIS observations have a similar offset due to the CHARACTERISTICS mismatch noted earlier, while the HRC observations show the expected 0.0 offset.*"
   ]
  },
  {
   "cell_type": "code",
   "execution_count": 9,
   "metadata": {
    "collapsed": false
   },
   "outputs": [
    {
     "name": "stdout",
     "output_type": "stream",
     "text": [
      "18168 ACIS-S droll= -1.32, dpitch=  0.33, dyaw= -1.76 arcsec\n",
      "18091 ACIS-S droll= -1.60, dpitch=  0.33, dyaw= -1.75 arcsec\n",
      "18157 ACIS-S droll= -0.18, dpitch=  0.33, dyaw= -1.75 arcsec\n",
      "18725 ACIS-S droll=  0.86, dpitch=  0.33, dyaw= -1.76 arcsec\n",
      "18276 ACIS-I droll=  0.68, dpitch=  0.33, dyaw= -1.76 arcsec\n",
      "18201 ACIS-S droll=  0.80, dpitch=  0.34, dyaw= -1.76 arcsec\n",
      "18803 ACIS-S droll=  0.04, dpitch=  0.33, dyaw= -1.75 arcsec\n",
      "17720 ACIS-S droll=  0.02, dpitch=  0.33, dyaw= -1.75 arcsec\n",
      "18304 HRC-I  droll= -0.00, dpitch=  0.00, dyaw= -0.00 arcsec\n",
      "18212 ACIS-S droll=  1.04, dpitch=  0.34, dyaw= -1.76 arcsec\n",
      "18272 ACIS-I droll=  0.79, dpitch=  0.33, dyaw= -1.76 arcsec\n",
      "18790 ACIS-S droll=  0.09, dpitch=  0.33, dyaw= -1.75 arcsec\n",
      "18791 ACIS-I droll=  0.79, dpitch=  0.34, dyaw= -1.76 arcsec\n",
      "18800 ACIS-S droll=  0.09, dpitch=  0.34, dyaw= -1.76 arcsec\n",
      "18792 ACIS-I droll=  0.79, dpitch=  0.34, dyaw= -1.76 arcsec\n",
      "18469 ACIS-I droll=  0.20, dpitch=  0.34, dyaw= -1.76 arcsec\n",
      "18194 ACIS-S droll=  0.24, dpitch=  0.34, dyaw= -1.75 arcsec\n",
      "18801 ACIS-S droll=  0.12, dpitch=  0.33, dyaw= -1.76 arcsec\n",
      "18793 ACIS-I droll=  0.79, dpitch=  0.33, dyaw= -1.76 arcsec\n",
      "17213 ACIS-I droll= -1.99, dpitch=  0.33, dyaw= -1.76 arcsec\n",
      "18417 ACIS-I droll= -4.45, dpitch=  0.34, dyaw= -1.76 arcsec\n",
      "17721 ACIS-S droll=  0.02, dpitch=  0.33, dyaw= -1.76 arcsec\n",
      "16747 ACIS-S droll=  0.12, dpitch=  0.33, dyaw= -1.76 arcsec\n",
      "18628 ACIS-I droll=  0.00, dpitch=  0.34, dyaw= -1.75 arcsec\n",
      "18761 ACIS-I droll=  0.79, dpitch=  0.34, dyaw= -1.75 arcsec\n",
      "17323 HRC-S  droll=  0.00, dpitch=  0.00, dyaw= -0.00 arcsec\n",
      "18420 ACIS-S droll= -4.58, dpitch=  0.34, dyaw= -1.76 arcsec\n",
      "18794 ACIS-I droll=  0.79, dpitch=  0.33, dyaw= -1.76 arcsec\n",
      "18418 ACIS-S droll= -4.65, dpitch=  0.34, dyaw= -1.76 arcsec\n",
      "17722 ACIS-S droll=  0.02, dpitch=  0.33, dyaw= -1.75 arcsec\n",
      "18275 ACIS-I droll=  0.89, dpitch=  0.33, dyaw= -1.76 arcsec\n",
      "18619 ACIS-S droll= -4.94, dpitch=  0.34, dyaw= -1.76 arcsec\n",
      "18795 ACIS-I droll=  0.89, dpitch=  0.34, dyaw= -1.76 arcsec\n",
      "18144 ACIS-S droll=  1.72, dpitch=  0.34, dyaw= -1.75 arcsec\n",
      "18796 ACIS-I droll=  0.89, dpitch=  0.33, dyaw= -1.76 arcsec\n",
      "18145 ACIS-S droll=  1.73, dpitch=  0.34, dyaw= -1.75 arcsec\n",
      "18797 ACIS-I droll=  0.89, dpitch=  0.33, dyaw= -1.75 arcsec\n",
      "18798 ACIS-I droll=  0.89, dpitch=  0.34, dyaw= -1.76 arcsec\n",
      "18799 ACIS-S droll=  1.72, dpitch=  0.34, dyaw= -1.76 arcsec\n"
     ]
    }
   ],
   "source": [
    "for obs in dat:\n",
    "    check_obs(obs)"
   ]
  },
  {
   "cell_type": "markdown",
   "metadata": {
    "collapsed": true
   },
   "source": [
    "## Check dynamical offsets ACA attitude matches TEST maneuver summary\n",
    "\n",
    "It is assumed that the maneuver summary matches the load product attitudes."
   ]
  },
  {
   "cell_type": "code",
   "execution_count": 10,
   "metadata": {
    "collapsed": false
   },
   "outputs": [
    {
     "name": "stdout",
     "output_type": "stream",
     "text": [
      "Reading /proj/sot/ska/ops/SFE/MAR0516O/ofls/mps/mm065_0409.sum\n"
     ]
    }
   ],
   "source": [
    "filename = glob.glob(os.path.join(TEST_DIR, PRODUCTS, 'ofls', 'mps', 'mm*.sum'))[0]\n",
    "print('Reading', filename)\n",
    "mm = parse_cm.maneuver.read_maneuver_summary(filename, structured=True)\n",
    "mm = {m['final']['id']: m for m in mm}  # Turn into a dict"
   ]
  },
  {
   "cell_type": "code",
   "execution_count": 11,
   "metadata": {
    "collapsed": false,
    "scrolled": false
   },
   "outputs": [
    {
     "name": "stdout",
     "output_type": "stream",
     "text": [
      "18168 ACIS-S chipx=  200.70 chipy=  476.90 droll= -0.00, dpitch= -0.00, dyaw= -0.00 arcsec\n",
      "18091 ACIS-S chipx=  200.70 chipy=  476.90 droll=  0.00, dpitch= -0.00, dyaw=  0.00 arcsec\n",
      "18157 ACIS-S chipx=  200.70 chipy=  476.90 droll=  0.00, dpitch=  0.00, dyaw=  0.00 arcsec\n",
      "18725 ACIS-S chipx=  210.00 chipy=  520.00 droll=  0.00, dpitch= -0.00, dyaw= -0.00 arcsec\n",
      "18276 ACIS-I chipx=  930.20 chipy= 1009.60 droll= -0.00, dpitch= -0.00, dyaw= -0.00 arcsec\n",
      "18201 ACIS-S chipx=  200.70 chipy=  476.90 droll=  0.00, dpitch=  0.00, dyaw= -0.00 arcsec\n",
      "18803 ACIS-S chipx=  200.70 chipy=  476.90 droll=  0.00, dpitch= -0.00, dyaw= -0.00 arcsec\n",
      "17720 ACIS-S chipx=  200.70 chipy=  476.90 droll=  0.00, dpitch=  0.00, dyaw=  0.00 arcsec\n",
      "18304 HRC-I  chipx= 7591.00 chipy= 7936.10 droll=  0.00, dpitch= -0.00, dyaw= -0.00 arcsec\n",
      "18212 ACIS-S chipx=  200.70 chipy=  476.90 droll= -0.00, dpitch=  0.00, dyaw=  0.00 arcsec\n",
      "18272 ACIS-I chipx=  930.20 chipy= 1009.60 droll= -0.00, dpitch= -0.00, dyaw=  0.00 arcsec\n",
      "18790 ACIS-S chipx=  210.00 chipy=  520.00 droll= -0.00, dpitch= -0.00, dyaw=  0.00 arcsec\n",
      "18791 ACIS-I chipx=  930.20 chipy= 1009.60 droll=  0.00, dpitch= -0.00, dyaw= -0.00 arcsec\n",
      "18800 ACIS-S chipx=  210.00 chipy=  520.00 droll=  0.00, dpitch=  0.00, dyaw=  0.00 arcsec\n",
      "18792 ACIS-I chipx=  930.20 chipy= 1009.60 droll= -0.00, dpitch= -0.00, dyaw=  0.00 arcsec\n",
      "18469 ACIS-I chipx=  930.20 chipy= 1009.60 droll= -0.00, dpitch=  0.00, dyaw=  0.00 arcsec\n",
      "18194 ACIS-S chipx=  200.70 chipy=  476.90 droll= -0.00, dpitch=  0.00, dyaw= -0.00 arcsec\n",
      "18801 ACIS-S chipx=  205.00 chipy=  480.00 droll=  0.00, dpitch= -0.00, dyaw= -0.00 arcsec\n",
      "18793 ACIS-I chipx=  930.20 chipy= 1009.60 droll=  0.00, dpitch=  0.00, dyaw=  0.00 arcsec\n",
      "17213 ACIS-I chipx=  932.00 chipy= 1009.00 droll= -0.00, dpitch= -0.00, dyaw= -0.00 arcsec\n",
      "18417 ACIS-I chipx=  930.20 chipy= 1009.60 droll=  0.00, dpitch=  0.00, dyaw= -0.00 arcsec\n",
      "17721 ACIS-S chipx=  200.70 chipy=  476.90 droll=  0.00, dpitch=  0.00, dyaw= -0.00 arcsec\n",
      "16747 ACIS-S chipx=  205.00 chipy=  480.00 droll=  0.00, dpitch=  0.00, dyaw= -0.00 arcsec\n",
      "18628 ACIS-I chipx=  930.20 chipy= 1009.60 droll=  0.00, dpitch= -0.00, dyaw=  0.00 arcsec\n",
      "18761 ACIS-I chipx=  930.20 chipy= 1009.60 droll= -0.00, dpitch=  0.00, dyaw=  0.00 arcsec\n",
      "17323 HRC-S  chipx= 2050.00 chipy= 9023.00 droll= -0.00, dpitch=  0.00, dyaw=  0.00 arcsec\n",
      "18420 ACIS-S chipx=  200.70 chipy=  476.90 droll= -0.00, dpitch= -0.00, dyaw=  0.00 arcsec\n",
      "18794 ACIS-I chipx=  930.20 chipy= 1009.60 droll=  0.00, dpitch= -0.00, dyaw= -0.00 arcsec\n",
      "18418 ACIS-S chipx=  200.70 chipy=  476.90 droll= -0.00, dpitch=  0.00, dyaw= -0.00 arcsec\n",
      "17722 ACIS-S chipx=  200.70 chipy=  476.90 droll=  0.00, dpitch= -0.00, dyaw= -0.00 arcsec\n",
      "18275 ACIS-I chipx=  930.20 chipy= 1009.60 droll=  0.00, dpitch= -0.00, dyaw= -0.00 arcsec\n",
      "18619 ACIS-S chipx=  200.70 chipy=  476.90 droll=  0.00, dpitch=  0.00, dyaw= -0.00 arcsec\n",
      "18795 ACIS-I chipx=  930.20 chipy= 1009.60 droll=  0.00, dpitch=  0.00, dyaw= -0.00 arcsec\n",
      "18144 ACIS-S chipx=  200.70 chipy=  476.90 droll= -0.00, dpitch= -0.00, dyaw= -0.00 arcsec\n",
      "18796 ACIS-I chipx=  930.20 chipy= 1009.60 droll=  0.00, dpitch=  0.00, dyaw=  0.00 arcsec\n",
      "18145 ACIS-S chipx=  200.70 chipy=  476.90 droll=  0.00, dpitch= -0.00, dyaw=  0.00 arcsec\n",
      "18797 ACIS-I chipx=  930.20 chipy= 1009.60 droll= -0.00, dpitch= -0.00, dyaw=  0.00 arcsec\n",
      "18798 ACIS-I chipx=  930.20 chipy= 1009.60 droll= -0.00, dpitch= -0.00, dyaw=  0.00 arcsec\n",
      "18799 ACIS-S chipx=  200.70 chipy=  476.90 droll= -0.00, dpitch= -0.00, dyaw=  0.00 arcsec\n"
     ]
    }
   ],
   "source": [
    "for obs in dat:\n",
    "    check_obs_vs_manvr(obs, mm[obs['obsid'] * 100])"
   ]
  },
  {
   "cell_type": "markdown",
   "metadata": {
    "collapsed": true
   },
   "source": [
    "## Check dynamical offsets ACA attitude matches FLIGHT maneuver summary to ~10 arcsec\n",
    "\n",
    "It is assumed that the maneuver summary matches the load product attitudes.\n",
    "\n",
    "*There are three discrepancies below: obsids 18725, 18790, and 18800.*  All of these are DDT observations that are configured in the OR list to use Cycle 18 aimpoint values, but without changing the target offsets from cycle 17 values.  This is an artifact of testing and would not occur in flight planning."
   ]
  },
  {
   "cell_type": "code",
   "execution_count": 12,
   "metadata": {
    "collapsed": false
   },
   "outputs": [
    {
     "data": {
      "text/plain": [
       "'/data/mpcrit1/mplogs/2016/MAR0516/ofls/mps/mm*.sum'"
      ]
     },
     "execution_count": 12,
     "metadata": {},
     "output_type": "execute_result"
    }
   ],
   "source": [
    "os.path.join(FLIGHT_DIR, PRODUCTS[:-1], 'ofls', 'mps', 'mm*.sum')"
   ]
  },
  {
   "cell_type": "code",
   "execution_count": 13,
   "metadata": {
    "collapsed": false
   },
   "outputs": [
    {
     "name": "stdout",
     "output_type": "stream",
     "text": [
      "Reading /data/mpcrit1/mplogs/2016/MAR0516/ofls/mps/mm065_0409.sum\n"
     ]
    }
   ],
   "source": [
    "filename = glob.glob(os.path.join(FLIGHT_DIR, PRODUCTS[:-1], 'ofls', 'mps', 'mm*.sum'))[0]\n",
    "print('Reading', filename)\n",
    "mm = parse_cm.maneuver.read_maneuver_summary(filename, structured=True)\n",
    "mm = {m['final']['id']: m for m in mm}  # Turn into a dict"
   ]
  },
  {
   "cell_type": "code",
   "execution_count": 14,
   "metadata": {
    "collapsed": false,
    "scrolled": false
   },
   "outputs": [
    {
     "name": "stdout",
     "output_type": "stream",
     "text": [
      "18168 ACIS-S chipx=  200.70 chipy=  476.90 droll= -0.01, dpitch=  0.75, dyaw= -3.32 arcsec\n",
      "18091 ACIS-S chipx=  200.70 chipy=  476.90 droll= -0.00, dpitch=  1.20, dyaw= -4.22 arcsec\n",
      "18157 ACIS-S chipx=  200.70 chipy=  476.90 droll=  0.01, dpitch=  1.78, dyaw= -5.40 arcsec\n",
      "18725 ACIS-S chipx=  210.00 chipy=  520.00 droll= -0.01, dpitch= 23.40, dyaw=-10.86 arcsec\n",
      "18276 ACIS-I chipx=  930.20 chipy= 1009.60 droll= -0.01, dpitch=  0.65, dyaw= -1.13 arcsec\n",
      "18201 ACIS-S chipx=  200.70 chipy=  476.90 droll= -0.01, dpitch= -1.20, dyaw=  0.68 arcsec\n",
      "18803 ACIS-S chipx=  200.70 chipy=  476.90 droll= -0.00, dpitch= -1.32, dyaw=  0.94 arcsec\n",
      "17720 ACIS-S chipx=  200.70 chipy=  476.90 droll=  0.00, dpitch= -2.23, dyaw=  2.81 arcsec\n",
      "18304 HRC-I  chipx= 7591.00 chipy= 7936.10 droll=  0.01, dpitch= -2.32, dyaw= 17.68 arcsec\n",
      "18212 ACIS-S chipx=  200.70 chipy=  476.90 droll= -0.01, dpitch= -1.50, dyaw=  1.30 arcsec\n",
      "18272 ACIS-I chipx=  930.20 chipy= 1009.60 droll= -0.01, dpitch= -0.80, dyaw=  1.85 arcsec\n",
      "18790 ACIS-S chipx=  210.00 chipy=  520.00 droll= -0.01, dpitch= 20.06, dyaw= -4.01 arcsec\n",
      "18791 ACIS-I chipx=  930.20 chipy= 1009.60 droll= -0.01, dpitch=  0.31, dyaw= -0.42 arcsec\n",
      "18800 ACIS-S chipx=  210.00 chipy=  520.00 droll= -0.01, dpitch= 21.07, dyaw= -6.08 arcsec\n",
      "18792 ACIS-I chipx=  930.20 chipy= 1009.60 droll= -0.01, dpitch=  1.13, dyaw= -2.10 arcsec\n",
      "18469 ACIS-I chipx=  930.20 chipy= 1009.60 droll=  0.00, dpitch= -0.86, dyaw=  1.98 arcsec\n",
      "18194 ACIS-S chipx=  200.70 chipy=  476.90 droll= -0.00, dpitch= -1.50, dyaw=  1.30 arcsec\n",
      "18801 ACIS-S chipx=  205.00 chipy=  480.00 droll=  0.00, dpitch=  0.58, dyaw= -1.94 arcsec\n",
      "18793 ACIS-I chipx=  930.20 chipy= 1009.60 droll= -0.00, dpitch=  1.41, dyaw= -2.67 arcsec\n",
      "17213 ACIS-I chipx=  932.00 chipy= 1009.00 droll= -0.00, dpitch=  1.52, dyaw= -1.39 arcsec\n",
      "18417 ACIS-I chipx=  930.20 chipy= 1009.60 droll=  0.01, dpitch=  0.92, dyaw= -1.67 arcsec\n",
      "17721 ACIS-S chipx=  200.70 chipy=  476.90 droll=  0.00, dpitch= -0.16, dyaw= -1.42 arcsec\n",
      "16747 ACIS-S chipx=  205.00 chipy=  480.00 droll=  0.00, dpitch=  1.65, dyaw= -4.14 arcsec\n",
      "18628 ACIS-I chipx=  930.20 chipy= 1009.60 droll=  0.00, dpitch=  1.82, dyaw= -3.51 arcsec\n",
      "18761 ACIS-I chipx=  930.20 chipy= 1009.60 droll= -0.01, dpitch=  2.36, dyaw= -4.61 arcsec\n",
      "17323 HRC-S  chipx= 2050.00 chipy= 9023.00 droll= -0.00, dpitch= -0.92, dyaw=  9.25 arcsec\n",
      "18420 ACIS-S chipx=  200.70 chipy=  476.90 droll=  0.00, dpitch=  0.27, dyaw= -2.32 arcsec\n",
      "18794 ACIS-I chipx=  930.20 chipy= 1009.60 droll= -0.01, dpitch=  1.11, dyaw= -2.05 arcsec\n",
      "18418 ACIS-S chipx=  200.70 chipy=  476.90 droll=  0.00, dpitch= -1.45, dyaw=  1.21 arcsec\n",
      "17722 ACIS-S chipx=  200.70 chipy=  476.90 droll=  0.00, dpitch= -1.10, dyaw=  0.49 arcsec\n",
      "18275 ACIS-I chipx=  930.20 chipy= 1009.60 droll= -0.00, dpitch=  0.14, dyaw= -0.07 arcsec\n",
      "18619 ACIS-S chipx=  200.70 chipy=  476.90 droll=  0.01, dpitch= -0.56, dyaw= -0.61 arcsec\n",
      "18795 ACIS-I chipx=  930.20 chipy= 1009.60 droll= -0.01, dpitch=  1.01, dyaw= -1.84 arcsec\n",
      "18144 ACIS-S chipx=  200.70 chipy=  476.90 droll= -0.00, dpitch= -0.94, dyaw=  0.17 arcsec\n",
      "18796 ACIS-I chipx=  930.20 chipy= 1009.60 droll= -0.01, dpitch=  2.11, dyaw= -4.09 arcsec\n",
      "18145 ACIS-S chipx=  200.70 chipy=  476.90 droll= -0.00, dpitch=  1.16, dyaw= -4.12 arcsec\n",
      "18797 ACIS-I chipx=  930.20 chipy= 1009.60 droll= -0.01, dpitch=  2.21, dyaw= -4.29 arcsec\n",
      "18798 ACIS-I chipx=  930.20 chipy= 1009.60 droll= -0.01, dpitch=  0.34, dyaw= -0.47 arcsec\n",
      "18799 ACIS-S chipx=  200.70 chipy=  476.90 droll= -0.00, dpitch= -0.18, dyaw= -1.38 arcsec\n"
     ]
    }
   ],
   "source": [
    "for obs in dat:\n",
    "    check_obs_vs_manvr(obs, mm[obs['obsid'] * 100])"
   ]
  },
  {
   "cell_type": "markdown",
   "metadata": {},
   "source": [
    "## Check that predicted CHIPX / CHIPY matches expectation to within 10 arcsec.\n",
    "\n",
    "  - Use the test ACA attitude and observed SIM DY/DZ (alignment from fids).\n",
    "  - Generate a \"fake\" observation with adjusted RA_NOM, DEC_NOM, ROLL_NOM (\"HRMA attitude\").\n",
    "  - Adjustment based on the delta between TEST and FLIGHT pointing attitudes.\n",
    "  - Use the CIAO tool `dmcoords` to compute predicted CHIPX / CHIPY.\n",
    "  \n",
    "*In the results below there are two discrepancies, obsids 18168 and 18091.*  These are very hot observations coming right after safe mode recovery.  In this case the thermal model is inaccurate and the commanded pointing would have been offset by up to 15 arcsec.  Future improvements in thermal modeling could reduce this offset, but it should be understood that pointing accuracy will be degraded in such a situation.\n"
   ]
  },
  {
   "cell_type": "markdown",
   "metadata": {},
   "source": [
    "### CIAO dmcoords tool setup"
   ]
  },
  {
   "cell_type": "code",
   "execution_count": 15,
   "metadata": {
    "collapsed": true
   },
   "outputs": [],
   "source": [
    "ciaoenv = Ska.Shell.getenv('source /soft/ciao/bin/ciao.sh')\n",
    "ciaorun = functools.partial(Ska.Shell.bash, env=ciaoenv)"
   ]
  },
  {
   "cell_type": "code",
   "execution_count": 16,
   "metadata": {
    "collapsed": true
   },
   "outputs": [],
   "source": [
    "dmcoords_cmd = ['dmcoords', 'none',\n",
    "                'asolfile=none',\n",
    "                'detector=\"{detector}\"',\n",
    "                'fpsys=\"{fpsys}\"',\n",
    "                'opt=cel',\n",
    "                'ra={ra_targ}', \n",
    "                'dec={dec_targ}',\n",
    "                'celfmt=deg', \n",
    "                'ra_nom={ra_nom}',\n",
    "                'dec_nom={dec_nom}',\n",
    "                'roll_nom={roll_nom}',  \n",
    "                'ra_asp=\")ra_nom\"',\n",
    "                'dec_asp=\")dec_nom\"',\n",
    "                'roll_asp=\")roll_nom\"',      \n",
    "                'sim=\"{sim_x} 0 {sim_z}\"',\n",
    "                'displace=\"0 {dy} {dz} 0 0 0\"',       \n",
    "                'verbose=0']\n",
    "dmcoords_cmd = ' '.join(dmcoords_cmd)"
   ]
  },
  {
   "cell_type": "code",
   "execution_count": 17,
   "metadata": {
    "collapsed": true
   },
   "outputs": [],
   "source": [
    "def dmcoords_chipx_chipy(keys, verbose=False):\n",
    "    \"\"\"\n",
    "    Get the dmcoords-computed chipx and chipy for given event file \n",
    "    header keyword params.  NOTE: the ``dy`` and ``dz`` inputs\n",
    "    to dmcoords are flipped in sign from the ASOL values.  Generally the\n",
    "    ASOL DY/DZ are positive and dmcoord input values are negative.  This\n",
    "    sign flip is handled *here*, so input to this is ASOL DY/DZ.\n",
    "    \n",
    "    :param keys: dict of event file keywords\n",
    "    \"\"\"\n",
    "    # See the absolute_pointing_uncertainty notebook in this repo for the\n",
    "    # detailed derivation of this -15.5, 6.0 arcsec offset factor.  See the\n",
    "    # cell below for the summary version.\n",
    "    ciaorun('punlearn dmcoords')\n",
    "    fpsys_map = {'HRC-I': 'HI1',\n",
    "                'HRC-S': 'HS2',\n",
    "                'ACIS': 'ACIS'}\n",
    "    keys = {key.lower(): val for key, val in keys.items()}\n",
    "    det = keys['detnam']\n",
    "    keys['detector'] = (det if det.startswith('HRC') else 'ACIS')\n",
    "    keys['dy'] = -keys['dy_avg']\n",
    "    keys['dz'] = -keys['dz_avg']\n",
    "    keys['fpsys'] = fpsys_map[keys['detector']]\n",
    "    \n",
    "    cmd = dmcoords_cmd.format(**keys)\n",
    "    ciaorun(cmd)\n",
    "    \n",
    "    if verbose:\n",
    "        print(cmd)\n",
    "    return [float(x) for x in ciaorun('pget dmcoords chipx chipy chip_id')]"
   ]
  },
  {
   "cell_type": "code",
   "execution_count": 18,
   "metadata": {
    "collapsed": false
   },
   "outputs": [],
   "source": [
    "def get_evt_meta(obsid, detector):\n",
    "    \"\"\"\n",
    "    Get event file metadata (FITS keywords) for ``obsid`` and ``detector`` and cache for later use.\n",
    "    \n",
    "    Returns a dict of key=value pairs.\n",
    "    \"\"\"\n",
    "    evts = shelve.open('event_meta.shelf')\n",
    "    sobsid = str(obsid)\n",
    "    if sobsid not in evts:\n",
    "        det = 'hrc' if detector.startswith('HRC') else 'acis'\n",
    "        arc5gl = Ska.arc5gl.Arc5gl()\n",
    "        arc5gl.sendline('obsid={}'.format(obsid))\n",
    "        arc5gl.sendline('get {}2'.format(det) + '{evt2}')\n",
    "        del arc5gl\n",
    "\n",
    "        files = glob.glob('{}f{}*_evt2.fits.gz'.format(det, obsid))\n",
    "        if len(files) != 1:\n",
    "            raise ValueError('Wrong number of files {}'.format(files))\n",
    "        evt2 = Table.read(files[0])\n",
    "        os.unlink(files[0])\n",
    "\n",
    "        evts[sobsid] = {k.lower(): v for k, v in evt2.meta.items()}\n",
    "\n",
    "    out = evts[sobsid]\n",
    "    evts.close()\n",
    "    \n",
    "    return out"
   ]
  },
  {
   "cell_type": "code",
   "execution_count": 19,
   "metadata": {
    "collapsed": false
   },
   "outputs": [],
   "source": [
    "def check_predicted_chipxy(obs):\n",
    "    \"\"\"\n",
    "    Compare the predicted CHIPX/Y values with planned using observed event file\n",
    "    data on actual ACA alignment.\n",
    "    \"\"\"\n",
    "    obsid = obs['obsid']\n",
    "    detector = obs['detector']\n",
    "    try:\n",
    "        evt = get_evt_meta(obsid, detector)\n",
    "    except ValueError as err:\n",
    "        print('Obsid={} detector={}: fail {}'.format(obsid, detector, err))\n",
    "        return\n",
    "    f_chipx, f_chipy, f_chip_id = dmcoords_chipx_chipy(evt)\n",
    "    \n",
    "    q_nom_flight = Quat([evt['ra_nom'], evt['dec_nom'], evt['roll_nom']])\n",
    "    q_aca = Quat([obs['aca_ra'], obs['aca_dec'], obs['aca_roll']])\n",
    "    mf = mm[obsid * 100]['final']\n",
    "    q_flight = Quat([mf['q1'], mf['q2'], mf['q3'], mf['q4']])\n",
    "    dq = q_flight.dq(q_aca)\n",
    "    q_nom_test = q_nom_flight * dq\n",
    "    evt_test = dict(evt)\n",
    "    evt_test['ra_nom'] = q_nom_test.ra\n",
    "    evt_test['dec_nom'] = q_nom_test.dec\n",
    "    evt_test['roll_nom'] = q_nom_test.roll\n",
    "    \n",
    "    scale = 0.13175 if detector.startswith('HRC') else 0.492\n",
    "    aim_chipx = obs['chipx']\n",
    "    aim_chipy = obs['chipy']\n",
    "    if detector == 'ACIS-S':\n",
    "        aim_chipx += -obs['target_offset_y'] / scale\n",
    "        aim_chipy += -obs['target_offset_z'] / scale + 20.5 / 0.492 * (-190.14 - evt['sim_z'])\n",
    "    elif detector == 'ACIS-I':\n",
    "        aim_chipx += -obs['target_offset_z'] / scale + 20.5 / 0.492 * (-233.59 - evt['sim_z'])\n",
    "        aim_chipy += +obs['target_offset_y'] / scale\n",
    "\n",
    "    chipx, chipy, chip_id = dmcoords_chipx_chipy(evt_test)\n",
    "    print('{} {:6s} aimpoint:{:6.1f},{:6.1f} test:{:6.1f},{:6.1f} '\n",
    "          'flight:{:6.1f},{:6.1f} delta: {:.1f} arcsec'\n",
    "         .format(obsid, detector, aim_chipx, aim_chipy, chipx, chipy, f_chipx, f_chipy,\n",
    "                np.hypot(aim_chipx - chipx, aim_chipy - chipy) * scale))"
   ]
  },
  {
   "cell_type": "code",
   "execution_count": 20,
   "metadata": {
    "collapsed": false,
    "scrolled": false
   },
   "outputs": [
    {
     "name": "stdout",
     "output_type": "stream",
     "text": [
      "18168 ACIS-S aimpoint: 200.7, 513.5 test: 174.1, 499.7 flight: 167.4, 498.2 delta: 14.7 arcsec\n",
      "18091 ACIS-S aimpoint: 200.7, 513.5 test: 179.3, 499.4 flight: 170.7, 497.0 delta: 12.6 arcsec\n",
      "18157 ACIS-S aimpoint: 200.7, 513.5 test: 185.4, 500.8 flight: 174.4, 497.2 delta: 9.8 arcsec\n",
      "18725 ACIS-S aimpoint: 210.0, 556.6 test: 199.9, 548.9 flight: 177.8, 501.3 delta: 6.2 arcsec\n",
      "18276 ACIS-I aimpoint: 966.7, 973.0 test: 964.6, 977.6 flight: 963.3, 979.9 delta: 2.5 arcsec\n",
      "18201 ACIS-S aimpoint: 200.7, 513.6 test: 196.9, 512.8 flight: 198.3, 515.3 delta: 1.9 arcsec\n",
      "18803 ACIS-S aimpoint: 200.7, 513.6 test: 197.8, 513.1 flight: 199.7, 515.8 delta: 1.5 arcsec\n",
      "17720 ACIS-S aimpoint: 200.7, 513.5 test: 197.5, 511.4 flight: 203.2, 515.9 delta: 1.9 arcsec\n",
      "18304 HRC-I  aimpoint:7591.0,7936.1 test:7566.1,7956.3 flight:7648.5,7848.9 delta: 4.2 arcsec\n",
      "18212 ACIS-S aimpoint: 200.7, 513.5 test: 195.9, 511.4 flight: 198.5, 514.4 delta: 2.6 arcsec\n",
      "18272 ACIS-I aimpoint: 966.7, 973.0 test: 965.3, 977.5 flight: 966.9, 973.7 delta: 2.3 arcsec\n",
      "18790 ACIS-S aimpoint: 210.0, 556.7 test: 205.2, 555.9 flight: 197.0, 515.1 delta: 2.4 arcsec\n",
      "18791 ACIS-I aimpoint: 966.7, 973.0 test: 965.2, 977.4 flight: 964.6, 978.3 delta: 2.3 arcsec\n",
      "18800 ACIS-S aimpoint: 210.0, 556.7 test: 206.5, 556.5 flight: 194.1, 513.6 delta: 1.7 arcsec\n",
      "18792 ACIS-I aimpoint: 966.7, 973.0 test: 965.6, 976.4 flight: 963.3, 980.7 delta: 1.7 arcsec\n",
      "18469 ACIS-I aimpoint: 845.2, 887.6 test: 843.9, 887.4 flight: 845.7, 883.4 delta: 0.6 arcsec\n",
      "18194 ACIS-S aimpoint: 200.7, 513.6 test: 198.4, 513.7 flight: 201.1, 516.8 delta: 1.1 arcsec\n",
      "18801 ACIS-S aimpoint: 205.0, 516.7 test: 202.7, 515.3 flight: 198.8, 514.1 delta: 1.3 arcsec\n",
      "18793 ACIS-I aimpoint: 966.7, 973.0 test: 967.4, 972.2 flight: 964.5, 977.6 delta: 0.5 arcsec\n",
      "17213 ACIS-I aimpoint: 968.5, 972.4 test: 967.7, 966.9 flight: 964.6, 969.7 delta: 2.8 arcsec\n",
      "18417 ACIS-I aimpoint: 869.1, 936.4 test: 866.9, 931.6 flight: 865.0, 935.0 delta: 2.6 arcsec\n",
      "17721 ACIS-S aimpoint: 200.7, 513.5 test: 211.3, 519.4 flight: 208.4, 519.7 delta: 6.0 arcsec\n",
      "16747 ACIS-S aimpoint: 205.0, 516.6 test: 213.5, 519.8 flight: 205.1, 516.4 delta: 4.5 arcsec\n",
      "Obsid=18628 detector=ACIS-I: fail Wrong number of files []\n",
      "18761 ACIS-I aimpoint: 966.7, 973.0 test: 972.1, 963.2 flight: 967.2, 972.5 delta: 5.5 arcsec\n",
      "17323 HRC-S  aimpoint:2050.0,9023.0 test:2052.8,9054.2 flight:2059.7,8984.0 delta: 4.1 arcsec\n",
      "18420 ACIS-S aimpoint: 653.1, 915.3 test: 660.1, 914.3 flight: 655.3, 913.8 delta: 3.5 arcsec\n",
      "18794 ACIS-I aimpoint: 966.7, 973.0 test: 967.0, 971.8 flight: 964.7, 975.9 delta: 0.6 arcsec\n",
      "18418 ACIS-S aimpoint: 103.1, 476.9 test: 100.0, 472.4 flight: 102.5, 475.3 delta: 2.7 arcsec\n",
      "17722 ACIS-S aimpoint: 200.7, 513.5 test: 198.7, 508.4 flight: 199.7, 510.6 delta: 2.7 arcsec\n",
      "18275 ACIS-I aimpoint: 966.7, 973.0 test: 966.0, 976.1 flight: 965.7, 976.3 delta: 1.6 arcsec\n",
      "18619 ACIS-S aimpoint: 200.7, 257.2 test: 198.8, 253.6 flight: 197.5, 254.7 delta: 2.0 arcsec\n",
      "18795 ACIS-I aimpoint: 966.7, 973.0 test: 966.4, 974.1 flight: 964.3, 977.8 delta: 0.5 arcsec\n",
      "18144 ACIS-S aimpoint: 200.7, 476.9 test: 201.4, 475.3 flight: 201.7, 477.2 delta: 0.9 arcsec\n",
      "18796 ACIS-I aimpoint: 966.7, 973.0 test: 969.5, 967.3 flight: 965.2, 975.6 delta: 3.1 arcsec\n",
      "18145 ACIS-S aimpoint: 200.7, 477.0 test: 208.3, 479.5 flight: 200.0, 477.1 delta: 3.9 arcsec\n",
      "18797 ACIS-I aimpoint: 966.7, 973.0 test: 969.4, 967.8 flight: 964.9, 976.6 delta: 2.9 arcsec\n",
      "18798 ACIS-I aimpoint: 966.7, 973.0 test: 964.8, 976.4 flight: 964.1, 977.4 delta: 1.9 arcsec\n",
      "18799 ACIS-S aimpoint: 200.7, 477.0 test: 199.8, 475.0 flight: 197.0, 475.4 delta: 1.1 arcsec\n"
     ]
    }
   ],
   "source": [
    "for obs in dat:\n",
    "    check_predicted_chipxy(obs)"
   ]
  },
  {
   "cell_type": "markdown",
   "metadata": {},
   "source": [
    "## For pre-NOV1615 products with an empty zero-offsets aimpoint table\n",
    "\n",
    "Check that TEST (JUL0415M) and FLIGHT attitudes from maneuver summary match to within 0.1 arcsec.\n",
    "\n",
    "JUL0415M was constructed with an OR-list zero-offset aimpoint table which exists but has\n",
    "no row entries.  This has the effect of telling SAUSAGE to run through the attitude\n",
    "replacement machinery but use 0.0 for the ACA offset y/z values.  This should output attitudes\n",
    "that are precisely the same as the FLIGHT attitudes.\n",
    "\n",
    "Results: pass"
   ]
  },
  {
   "cell_type": "code",
   "execution_count": 21,
   "metadata": {
    "collapsed": true
   },
   "outputs": [],
   "source": [
    "PRODUCTS = 'JUL0415M'\n",
    "FLIGHT_DIR = '/data/mpcrit1/mplogs/2015'  # Must match PRODUCTS"
   ]
  },
  {
   "cell_type": "code",
   "execution_count": 22,
   "metadata": {
    "collapsed": false
   },
   "outputs": [
    {
     "name": "stdout",
     "output_type": "stream",
     "text": [
      "Reading /data/mpcrit1/mplogs/2015/JUL0415/ofls/mps/mm185_1000.sum\n"
     ]
    }
   ],
   "source": [
    "# Get FLIGHT maneuver summary\n",
    "filename = glob.glob(os.path.join(FLIGHT_DIR, PRODUCTS[:-1], 'ofls', 'mps', 'mm*.sum'))[0]\n",
    "print('Reading', filename)\n",
    "mmf = parse_cm.maneuver.read_maneuver_summary(filename, structured=True)\n",
    "mmf = {m['final']['id']: m for m in mmf}  # Turn into a dict"
   ]
  },
  {
   "cell_type": "code",
   "execution_count": 23,
   "metadata": {
    "collapsed": false
   },
   "outputs": [
    {
     "name": "stdout",
     "output_type": "stream",
     "text": [
      "Reading /proj/sot/ska/ops/SFE/JUL0415M/ofls/mps/mm185_1000.sum\n"
     ]
    }
   ],
   "source": [
    "# Get TEST maneuver summary\n",
    "filename = glob.glob(os.path.join(TEST_DIR, PRODUCTS, 'ofls', 'mps', 'mm*.sum'))[0]\n",
    "print('Reading', filename)\n",
    "mmt = parse_cm.maneuver.read_maneuver_summary(filename, structured=True)\n",
    "mmt = {m['final']['id']: m for m in mmt}  # Turn into a dict"
   ]
  },
  {
   "cell_type": "code",
   "execution_count": 24,
   "metadata": {
    "collapsed": false
   },
   "outputs": [
    {
     "data": {
      "text/plain": [
       "True"
      ]
     },
     "execution_count": 24,
     "metadata": {},
     "output_type": "execute_result"
    }
   ],
   "source": [
    "# Make sure set of obsids are the same\n",
    "set(mmf) == set(mmt)"
   ]
  },
  {
   "cell_type": "code",
   "execution_count": 25,
   "metadata": {
    "collapsed": false
   },
   "outputs": [
    {
     "name": "stdout",
     "output_type": "stream",
     "text": [
      "P970300  droll=  0.00, dpitch=  0.00, dyaw=  0.00 arcsec\n",
      "P990400  droll=  0.00, dpitch=  0.00, dyaw=  0.00 arcsec\n",
      "1706500  droll=  0.00, dpitch=  0.00, dyaw=  0.00 arcsec\n",
      "P990500  droll=  0.00, dpitch= -0.00, dyaw=  0.00 arcsec\n",
      "RDE9701  droll=  0.00, dpitch=  0.00, dyaw=  0.00 arcsec\n",
      "1730700  droll= -0.00, dpitch= -0.00, dyaw= -0.00 arcsec\n",
      "1766800  droll=  0.00, dpitch= -0.00, dyaw=  0.00 arcsec\n",
      "P970100  droll=  0.00, dpitch=  0.00, dyaw=  0.00 arcsec\n",
      "1665300  droll=  0.00, dpitch=  0.00, dyaw=  0.00 arcsec\n",
      "ECT9900  droll=  0.00, dpitch=  0.00, dyaw=  0.00 arcsec\n",
      "P970200  droll=  0.00, dpitch=  0.00, dyaw=  0.00 arcsec\n",
      "ECT9800  droll=  0.00, dpitch= -0.00, dyaw=  0.00 arcsec\n",
      "I766800  droll= -0.00, dpitch=  0.00, dyaw=  0.00 arcsec\n",
      "1730800  droll=  0.00, dpitch=  0.00, dyaw=  0.00 arcsec\n",
      "P980600  droll=  0.00, dpitch=  0.00, dyaw=  0.00 arcsec\n",
      "1732900  droll=  0.00, dpitch= -0.00, dyaw=  0.00 arcsec\n",
      "1724200  droll= -0.00, dpitch=  0.00, dyaw=  0.00 arcsec\n",
      "P980500  droll=  0.00, dpitch=  0.00, dyaw=  0.00 arcsec\n",
      "1769400  droll=  0.00, dpitch=  0.00, dyaw=  0.00 arcsec\n",
      "P000100  droll=  0.00, dpitch=  0.00, dyaw=  0.00 arcsec\n",
      "I769500  droll= -0.00, dpitch=  0.00, dyaw=  0.00 arcsec\n",
      "1732800  droll=  0.00, dpitch= -0.00, dyaw=  0.00 arcsec\n",
      "1730500  droll=  0.00, dpitch=  0.00, dyaw=  0.00 arcsec\n",
      "P990100  droll=  0.00, dpitch=  0.00, dyaw=  0.00 arcsec\n",
      "1769500  droll=  0.00, dpitch=  0.00, dyaw=  0.00 arcsec\n",
      "I730700  droll= -0.00, dpitch=  0.00, dyaw=  0.00 arcsec\n",
      "I769200  droll= -0.00, dpitch=  0.00, dyaw=  0.00 arcsec\n",
      "I730900  droll=  0.00, dpitch=  0.00, dyaw=  0.00 arcsec\n",
      "1769300  droll=  0.00, dpitch= -0.00, dyaw=  0.00 arcsec\n",
      "P970500  droll=  0.00, dpitch=  0.00, dyaw=  0.00 arcsec\n",
      "P990200  droll=  0.00, dpitch=  0.00, dyaw=  0.00 arcsec\n",
      "1712100  droll= -0.00, dpitch=  0.00, dyaw= -0.00 arcsec\n",
      "I744000  droll= -0.00, dpitch= -0.00, dyaw=  0.00 arcsec\n",
      "1732700  droll=  0.00, dpitch= -0.00, dyaw=  0.00 arcsec\n",
      "1730400  droll=  0.00, dpitch=  0.00, dyaw=  0.00 arcsec\n",
      "1730900  droll= -0.00, dpitch= -0.00, dyaw= -0.00 arcsec\n",
      "1673700  droll= -0.00, dpitch=  0.00, dyaw= -0.00 arcsec\n",
      "RDE0001  droll=  0.00, dpitch=  0.00, dyaw=  0.00 arcsec\n",
      "P980200  droll=  0.00, dpitch=  0.00, dyaw=  0.00 arcsec\n",
      "RDE9901  droll= -0.00, dpitch=  0.00, dyaw=  0.00 arcsec\n",
      "I769300  droll=  0.00, dpitch= -0.00, dyaw=  0.00 arcsec\n",
      "1744000  droll=  0.00, dpitch=  0.00, dyaw=  0.00 arcsec\n",
      "P980100  droll=  0.00, dpitch= -0.00, dyaw=  0.00 arcsec\n",
      "P970400  droll=  0.00, dpitch=  0.00, dyaw=  0.00 arcsec\n",
      "1769200  droll=  0.00, dpitch= -0.00, dyaw=  0.00 arcsec\n",
      "1730600  droll=  0.00, dpitch=  0.00, dyaw=  0.00 arcsec\n",
      "1732600  droll=  0.00, dpitch= -0.00, dyaw=  0.00 arcsec\n",
      "1732500  droll= -0.00, dpitch=  0.00, dyaw= -0.00 arcsec\n",
      "1676700  droll= -0.00, dpitch=  0.00, dyaw=  0.00 arcsec\n",
      "RDE9801  droll=  0.00, dpitch=  0.00, dyaw=  0.00 arcsec\n",
      "P980300  droll=  0.00, dpitch=  0.00, dyaw=  0.00 arcsec\n"
     ]
    }
   ],
   "source": [
    "# Now do the actual attitude comparison\n",
    "for trace_id, mf in mmf.items():\n",
    "    mt = mmt[trace_id]['final']\n",
    "    mf = mf['final']\n",
    "    qt = Quat([mt['q1'], mt['q2'], mt['q3'], mt['q4']])\n",
    "    qf = Quat([mf['q1'], mf['q2'], mf['q3'], mf['q4']])\n",
    "    print(trace_id, ' ', end='')\n",
    "    print_dq(qt, qf)"
   ]
  },
  {
   "cell_type": "code",
   "execution_count": null,
   "metadata": {
    "collapsed": true
   },
   "outputs": [],
   "source": []
  }
 ],
 "metadata": {
  "kernelspec": {
   "display_name": "Python 2",
   "language": "python",
   "name": "python2"
  },
  "language_info": {
   "codemirror_mode": {
    "name": "ipython",
    "version": 2
   },
   "file_extension": ".py",
   "mimetype": "text/x-python",
   "name": "python",
   "nbconvert_exporter": "python",
   "pygments_lexer": "ipython2",
   "version": "2.7.9"
  }
 },
 "nbformat": 4,
 "nbformat_minor": 0
}
