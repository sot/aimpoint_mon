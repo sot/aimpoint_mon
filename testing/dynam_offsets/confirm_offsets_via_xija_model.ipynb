{
 "cells": [
  {
   "cell_type": "markdown",
   "metadata": {},
   "source": [
    "# Independent confirmation of ACA offsets"
   ]
  },
  {
   "cell_type": "markdown",
   "metadata": {},
   "source": [
    "As part of the verification of the dynamic offsets process, SOT/ACA ops has independently confirmed the FOT aimpoint offsets for the JUL0415O test week.  For this independent verification, we have used:\n",
    "\n",
    "- the ZERO OFFSET aimpoint table provided by SOT MP\n",
    "- the xija ACA thermal model for a test week"
   ]
  },
  {
   "cell_type": "markdown",
   "metadata": {},
   "source": [
    "(note that in testing, this notebook required PYTHONPATH set to include the 'calc_aca_offsets' branch of starcheck and the 'read_zero_offset' branch of parse_cm)"
   ]
  },
  {
   "cell_type": "code",
   "execution_count": 1,
   "metadata": {
    "collapsed": false
   },
   "outputs": [],
   "source": [
    "import os\n",
    "import sys\n",
    "from glob import glob\n",
    "import json\n",
    "import numpy as np\n",
    "\n",
    "from astropy.table import Table\n",
    "from Chandra.Time import DateTime\n",
    "from Ska.Matplotlib import plot_cxctime\n",
    "\n",
    "from chandra_aca import drift\n",
    "import parse_cm"
   ]
  },
  {
   "cell_type": "markdown",
   "metadata": {},
   "source": [
    "## Check dynamic offset file for consistency\n",
    "\n",
    "The dynamic target offset file includes the aca offsets calculated by the FOT version of the chandra_aca.drift module.  The file also includes inputs used to calculate the offsets values: detector, chip_id, chipx, chipy, a time, and a temperature.  As a check of consistency, we recalculate the aca_offset_y and aca_offset_z values using those inputs and the SOT/Ska version of the chandra_aca.drift module.  For each row in the table, this tests confirms that the re-calculated values of aca_offset_y and aca_offset_z are within 0.02 arcsecs of the values in the file."
   ]
  },
  {
   "cell_type": "code",
   "execution_count": 2,
   "metadata": {
    "collapsed": false
   },
   "outputs": [],
   "source": [
    "TEST_DIR = '/proj/sot/ska/ops/SFE/JUL0415O/oflso'\n",
    "dynam_table = Table.read(glob(\"{}/*dynamical_offsets.txt\".format(TEST_DIR))[0], format='ascii')"
   ]
  },
  {
   "cell_type": "code",
   "execution_count": 3,
   "metadata": {
    "collapsed": false
   },
   "outputs": [
    {
     "name": "stdout",
     "output_type": "stream",
     "text": [
      "Y offsets consistent: True\n",
      "Z offsets consistent: True\n"
     ]
    }
   ],
   "source": [
    "# first, check table for self-consistent offsets\n",
    "ys = []\n",
    "zs = []\n",
    "for row in dynam_table:\n",
    "    y, z = drift.get_aca_offsets(row['detector'], row['chip_id'], row['chipx'], row['chipy'],\n",
    "                                 time=row['mean_date'], t_ccd=row['mean_t_ccd'])\n",
    "    ys.append(y)\n",
    "    zs.append(z)\n",
    "print \"Y offsets consistent: {}\".format(np.allclose(dynam_table['aca_offset_y'], ys, atol=0.02))\n",
    "print \"Z offsets consistent: {}\".format(np.allclose(dynam_table['aca_offset_z'], zs, atol=0.02))"
   ]
  },
  {
   "cell_type": "markdown",
   "metadata": {},
   "source": [
    "### Run the ACA model and get new offsets\n",
    "\n",
    "The dynamic offsets in the dynamic offsets / aimpoint file are calculated using the the xija ACA thermal model called from the FOT Matlab tools. To independently verify both the inputs and the outputs reported in the dynamic offsets/aimpoints file, we run the SOT version ACA model over the JUL0415O schedule interval and recalculate the aca_offsets using the calculated ACA ccd temperatures and the zero offset aimpoint information from the OR list.  The ACA load review software, starcheck, already has code to determine inputs to the xija ACA model and to run the model over command products.  For this test, the code to get the mean aca ccd temperature for each obsid has been extended to also run the offset calculation via `chandra_aca.drift_get_aca_offsets`."
   ]
  },
  {
   "cell_type": "markdown",
   "metadata": {},
   "source": [
    "\n",
    "```\n",
    "+        if interval['obsid'] in obsreqs and len(ok_temps) > 0:\n",
    "+            obsreq = obsreqs[interval['obsid']]\n",
    "+            if 'chip_id' in obsreq:\n",
    "+                ddy, ddz = get_aca_offsets(obsreq['detector'],\n",
    "+                                           obsreq['chip_id'],\n",
    "+                                           obsreq['chipx'],\n",
    "+                                           obsreq['chipy'],\n",
    "+                                           time=itimes,\n",
    "+                                           t_ccd=ok_temps)\n",
    "+                obs['aca_offset_y'] = np.mean(ddy)\n",
    "+                obs['aca_offset_z'] = np.mean(ddz)\n",
    "```\n",
    "\n",
    "(see [link to changed starcheck code](https://github.com/sot/starcheck/blob/af4740510ecb7a8b1d7e377b9051316f6f5b0a77/starcheck/calc_ccd_temps.py#L212))\n",
    "\n",
    "Then, the returned values from that code include these independently calculated values of aca_offset_y and aca_offset_z that correspond to aca_offset_y and aca_offset_z in the dynamic aimpoint text product.  (apologies for the starcheck log output)"
   ]
  },
  {
   "cell_type": "code",
   "execution_count": 4,
   "metadata": {
    "collapsed": false
   },
   "outputs": [
    {
     "name": "stderr",
     "output_type": "stream",
     "text": [
      "/proj/sot/ska/arch/x86_64-linux_CentOS-5/lib/python2.7/site-packages/matplotlib/__init__.py:1318: UserWarning:  This call to matplotlib.use() has no effect\n",
      "because the backend has already been chosen;\n",
      "matplotlib.use() must be called *before* pylab, matplotlib.pyplot,\n",
      "or matplotlib.backends is imported for the first time.\n",
      "\n",
      "  warnings.warn(_use_error_msg)\n",
      "#####################################################################\n",
      "INFO:calc_ccd_temps:#####################################################################\n",
      "# calc_ccd_temps run at Thu Jul 28 10:33:43 2016 by jeanconn\n",
      "INFO:calc_ccd_temps:# calc_ccd_temps run at Thu Jul 28 10:33:43 2016 by jeanconn\n",
      "# calc_ccd_temps version = 11.11\n",
      "INFO:calc_ccd_temps:# calc_ccd_temps version = 11.11\n",
      "#####################################################################\n",
      "\n",
      "INFO:calc_ccd_temps:#####################################################################\n",
      "\n",
      "Using backstop file /proj/sot/ska/ops/SFE/JUL0415O/oflso/CR185_1018.backstop\n",
      "INFO:calc_ccd_temps:Using backstop file /proj/sot/ska/ops/SFE/JUL0415O/oflso/CR185_1018.backstop\n",
      "Found 1921 backstop commands between 2015:185:03:55:00.000 and 2015:194:02:29:56.800\n",
      "INFO:calc_ccd_temps:Found 1921 backstop commands between 2015:185:03:55:00.000 and 2015:194:02:29:56.800\n",
      "Fetching telemetry between 2015:155:03:55:01.000 and 2015:185:03:55:00.000\n",
      "INFO:calc_ccd_temps:Fetching telemetry between 2015:155:03:55:01.000 and 2015:185:03:55:00.000\n",
      "Constructed 657 commanded states from 2015:184:22:52:16.542 to 2015:194:02:29:56.800\n",
      "INFO:calc_ccd_temps:Constructed 657 commanded states from 2015:184:22:52:16.542 to 2015:194:02:29:56.800\n",
      "Calculating ACA thermal model\n",
      "INFO:calc_ccd_temps:Calculating ACA thermal model\n",
      "Propagation initial time and ACA: 2015:182:00:53:22.692 -16.47\n",
      "INFO:calc_ccd_temps:Propagation initial time and ACA: 2015:182:00:53:22.692 -16.47\n",
      "Making temperature check plots\n",
      "INFO:calc_ccd_temps:Making temperature check plots\n",
      "Writing plot file out/ccd_temperature.png\n",
      "INFO:calc_ccd_temps:Writing plot file out/ccd_temperature.png\n"
     ]
    }
   ],
   "source": [
    "from starcheck.calc_ccd_temps import get_ccd_temps\n",
    "obsid_info = json.loads(get_ccd_temps(TEST_DIR,\n",
    "                json_obsids=open(\"{}/starcheck/obsids.json\".format(TEST_DIR)),\n",
    "                model_spec=\"{}/starcheck/aca_spec.json\".format(TEST_DIR),\n",
    "                char_file=\"/proj/sot/ska/data/starcheck/characteristics.yaml\",\n",
    "                orlist=\"{}/mps/or/JUL0415_A.or\".format(TEST_DIR)));"
   ]
  },
  {
   "cell_type": "markdown",
   "metadata": {},
   "source": [
    "## Compare values to dynamic offset table from Matlab\n",
    "\n",
    "Then, for each entry in the dynamic offset table from the matlab tools, we compare the aca_offset_y and aca_offset_z with the values from the independent run of the model and the offset values calculated from within the starcheck code.  For quick review, we print out the offsets and temperatures, with the dynamic aimpoint offset file versions in the first column of each value being checked."
   ]
  },
  {
   "cell_type": "code",
   "execution_count": 5,
   "metadata": {
    "collapsed": false
   },
   "outputs": [
    {
     "name": "stdout",
     "output_type": "stream",
     "text": [
      "17242 offset y  6.07 vs  6.09  offset z  1.88 vs  1.89  t_ccd -15.70 vs -15.62\n",
      "16653 offset y  6.05 vs  6.05  offset z  1.87 vs  1.87  t_ccd -15.70 vs -15.37\n",
      "17304 offset y  7.90 vs  7.89  offset z  2.09 vs  2.08  t_ccd -16.09 vs -15.58\n",
      "17065 offset y  5.04 vs  5.02  offset z  1.37 vs  1.37  t_ccd -15.44 vs -15.35\n",
      "17121 offset y  4.19 vs  4.16  offset z  0.96 vs  0.94  t_ccd -15.22 vs -15.09\n",
      "16737 offset y  3.82 vs  3.77  offset z  0.09 vs  0.07  t_ccd -15.05 vs -14.97\n",
      "17325 offset y  7.13 vs  7.04  offset z  1.46 vs  1.42  t_ccd -15.32 vs -15.26\n",
      "17326 offset y  5.73 vs  5.63  offset z  1.19 vs  1.14  t_ccd -15.39 vs -15.34\n",
      "17327 offset y  5.89 vs  5.79  offset z  1.27 vs  1.22  t_ccd -15.43 vs -15.39\n",
      "17328 offset y  5.96 vs  5.86  offset z  1.30 vs  1.25  t_ccd -15.45 vs -15.41\n",
      "17329 offset y  6.04 vs  5.93  offset z  1.34 vs  1.29  t_ccd -15.47 vs -15.43\n",
      "17305 offset y  4.24 vs  4.11  offset z  0.30 vs  0.24  t_ccd -15.16 vs -14.54\n",
      "17668 offset y  1.22 vs  1.11  offset z -0.49 vs -0.55  t_ccd -14.47 vs -14.35\n",
      "17306 offset y  6.43 vs  6.33  offset z  1.37 vs  1.32  t_ccd -15.72 vs -15.02\n",
      "17692 offset y  2.97 vs  2.90  offset z  0.36 vs  0.32  t_ccd -14.91 vs -14.80\n",
      "17307 offset y  4.08 vs  3.99  offset z  0.22 vs  0.17  t_ccd -15.12 vs -14.54\n",
      "17693 offset y  1.23 vs  1.15  offset z -0.49 vs -0.53  t_ccd -14.47 vs -14.34\n",
      "16767 offset y  3.49 vs  3.39  offset z -0.07 vs -0.12  t_ccd -14.97 vs -14.75\n",
      "17308 offset y  7.13 vs  7.02  offset z  1.71 vs  1.66  t_ccd -15.89 vs -15.22\n",
      "17440 offset y  3.74 vs  3.65  offset z  0.05 vs  0.01  t_ccd -15.03 vs -14.96\n",
      "17309 offset y  3.87 vs  3.75  offset z  0.12 vs  0.06  t_ccd -15.06 vs -14.52\n",
      "17695 offset y  1.14 vs  1.03  offset z -1.22 vs -1.27  t_ccd -14.37 vs -14.31\n",
      "17694 offset y  1.62 vs  1.50  offset z -0.30 vs -0.36  t_ccd -14.56 vs -14.42\n"
     ]
    }
   ],
   "source": [
    "y_diff = []\n",
    "z_diff = []\n",
    "for obsid in dynam_table['obsid']:\n",
    "    dyn_rec = dynam_table[dynam_table['obsid'] == obsid][0]\n",
    "    if str(obsid) in obsid_info:\n",
    "        print \"{} offset y {: .2f} vs {: .2f}  offset z {: .2f} vs {: .2f}  t_ccd {: .2f} vs {: .2f}\".format(\n",
    "            obsid,\n",
    "            dyn_rec['aca_offset_y'], obsid_info[str(obsid)]['aca_offset_y'],\n",
    "            dyn_rec['aca_offset_z'], obsid_info[str(obsid)]['aca_offset_z'],\n",
    "            dyn_rec['mean_t_ccd'], obsid_info[str(obsid)]['ccd_temp'])\n",
    "        y_diff.append(dyn_rec['aca_offset_y'] - obsid_info[str(obsid)]['aca_offset_y'])\n",
    "        z_diff.append(dyn_rec['aca_offset_z'] - obsid_info[str(obsid)]['aca_offset_z'])\n",
    "y_diff = np.array(y_diff)\n",
    "z_diff = np.array(z_diff)"
   ]
  },
  {
   "cell_type": "markdown",
   "metadata": {},
   "source": [
    "The maximum differences in the offsets between the values via an independent run of the model are within an arcsec."
   ]
  },
  {
   "cell_type": "code",
   "execution_count": 6,
   "metadata": {
    "collapsed": false
   },
   "outputs": [
    {
     "name": "stdout",
     "output_type": "stream",
     "text": [
      "Y offset max difference 0.13 arcsec\n"
     ]
    }
   ],
   "source": [
    "print \"Y offset max difference {:.2f} arcsec\".format(np.max(np.abs(y_diff)))"
   ]
  },
  {
   "cell_type": "code",
   "execution_count": 7,
   "metadata": {
    "collapsed": false
   },
   "outputs": [
    {
     "name": "stdout",
     "output_type": "stream",
     "text": [
      "Z offset max difference 0.06 arcsec\n"
     ]
    }
   ],
   "source": [
    "print \"Z offset max difference {:.2f} arcsec\".format(np.max(np.abs(z_diff)))"
   ]
  }
 ],
 "metadata": {
  "kernelspec": {
   "display_name": "Python 2",
   "language": "python",
   "name": "python2"
  },
  "language_info": {
   "codemirror_mode": {
    "name": "ipython",
    "version": 2
   },
   "file_extension": ".py",
   "mimetype": "text/x-python",
   "name": "python",
   "nbconvert_exporter": "python",
   "pygments_lexer": "ipython2",
   "version": "2.7.9"
  }
 },
 "nbformat": 4,
 "nbformat_minor": 0
}
