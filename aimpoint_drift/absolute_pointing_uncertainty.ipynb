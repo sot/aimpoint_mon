{
 "cells": [
  {
   "cell_type": "code",
   "execution_count": 1,
   "metadata": {
    "collapsed": false
   },
   "outputs": [],
   "source": [
    "import argparse\n",
    "import re\n",
    "import time\n",
    "from itertools import izip, cycle\n",
    "import functools\n",
    "\n",
    "import numpy as np\n",
    "import Ska.DBI\n",
    "from astropy.table import Table, vstack\n",
    "from astropy.time import Time\n",
    "import mica.archive.obspar\n",
    "from mica.archive import asp_l1\n",
    "import Ska.Shell\n",
    "from Ska.quatutil import yagzag2radec\n",
    "from Quaternion import Quat\n",
    "from Ska.quatutil import radec2yagzag\n",
    "\n",
    "import matplotlib.pyplot as plt\n",
    "%matplotlib inline"
   ]
  },
  {
   "cell_type": "code",
   "execution_count": 2,
   "metadata": {
    "collapsed": true
   },
   "outputs": [],
   "source": [
    "FIDS = {'ACIS-S': [1, 2, 3, 4, 5, 6],\n",
    "        'ACIS-I': [1, 2, 3, 4, 5, 6],\n",
    "        'HRC-I': [7, 8, 9, 10],\n",
    "        'HRC-S': [11, 12, 13, 14],\n",
    "        }"
   ]
  },
  {
   "cell_type": "code",
   "execution_count": 49,
   "metadata": {
    "collapsed": false
   },
   "outputs": [],
   "source": [
    "aimpoint_data_cache = {}\n",
    "acis_pixscale = 0.492  # arcsec / pixel\n",
    "\n",
    "def get_aimpoint_data(det):\n",
    "    \"\"\"\n",
    "    Read aimpoint data provided by P. Zhao and define additional columns\n",
    "    that make it easier to compare with fid light drift data.\n",
    "    \"\"\"\n",
    "    if det not in aimpoint_data_cache:\n",
    "        filename = '{}_ap_pos.rdb'.format(re.sub(r'-', '', det).lower())\n",
    "        dat = Table.read(filename, format='ascii.rdb')\n",
    "        y_off = dat['y_det_offset'] * 60 / acis_pixscale  # pix / arcmin\n",
    "        z_off = dat['z_det_offset'] * 60 / acis_pixscale  # pix / arcmin\n",
    "        if det == 'ACIS-S':\n",
    "            dat['target_chipx'] = dat['dmt_chipx'] + y_off\n",
    "            dat['target_chipy'] = dat['dmt_chipy'] + z_off\n",
    "            dat['target_sim_y'] = dat['target_chipx'] * acis_pixscale\n",
    "            dat['target_sim_z'] = dat['target_chipy'] * acis_pixscale\n",
    "            dat['opt_axis_sim_y'] = dat['dmp_chipx'] * acis_pixscale\n",
    "            dat['opt_axis_sim_z'] = dat['dmp_chipy'] * acis_pixscale\n",
    "        elif det == 'ACIS-I':\n",
    "            dat['target_chipx'] = dat['dmt_chipx'] + z_off\n",
    "            dat['target_chipy'] = dat['dmt_chipy'] - y_off\n",
    "            dat['target_sim_y'] = -dat['target_chipy'] * acis_pixscale\n",
    "            dat['target_sim_z'] = dat['target_chipx'] * acis_pixscale\n",
    "            dat['opt_axis_sim_y'] = -dat['dmp_chipy'] * acis_pixscale\n",
    "            dat['opt_axis_sim_z'] = dat['dmp_chipx'] * acis_pixscale\n",
    "        else:\n",
    "            raise ValueError('Only ACIS-S and ACIS-I are supported here')\n",
    "\n",
    "        aimpoint_data_cache[det] = dat\n",
    "    return aimpoint_data_cache[det]    "
   ]
  },
  {
   "cell_type": "code",
   "execution_count": 50,
   "metadata": {
    "collapsed": true
   },
   "outputs": [],
   "source": [
    "fid_stats_cache = {}\n",
    "\n",
    "def get_fid_stats(det):\n",
    "    \"\"\"\n",
    "    Get fid light drift data from Sybase fid_stats table.  This corrects\n",
    "    the data for SIM-Z offset as well as the nominal SIM-Z for each detector.\n",
    "    \"\"\"\n",
    "    if det not in fid_stats_cache:\n",
    "        EXCLUDE_OBSIDS = '(2010, 2783, 1431, 1411)'\n",
    "        \n",
    "        db = Ska.DBI.DBI(dbi='sybase', server='sybase', user='aca_read')\n",
    "        query = ('select obsid, id_num, id_string, tstart, ang_y_med, ang_z_med, sim_z_offset'\n",
    "                 ' FROM fid_stats'\n",
    "                 ' WHERE proc_status IS NULL AND id_string LIKE \"{}%\" '\n",
    "                 ' and obsid not in {} '\n",
    "                 .format(det, EXCLUDE_OBSIDS))\n",
    "        vals = Table(db.fetchall(query))\n",
    "        db.conn.close()\n",
    "        \n",
    "        vals['ang_y_norm'] = -9999.0\n",
    "        vals['ang_z_norm'] = -9999.0\n",
    "        \n",
    "        sim_z_nom = np.median(vals['sim_z_offset'])\n",
    "        vals['year'] = Time(vals['tstart'], format='cxcsec').decimalyear\n",
    "        for fid in FIDS[det]:\n",
    "            fid_idx = np.where(vals['id_num'] == fid)\n",
    "            fs = vals[fid_idx]\n",
    "            year = vals['year'][fid_idx]\n",
    "            \n",
    "            ang_y_corr = fs['ang_y_med']\n",
    "            ang_z_corr = fs['ang_z_med'] + fs['sim_z_offset'] - sim_z_nom\n",
    "\n",
    "            year_ok = (year > 2002) & (year < 2003)\n",
    "            if np.count_nonzero(year_ok) < 3:\n",
    "                print('Fid %s %d' % (det, fid))\n",
    "                print('Not enough readouts for the median')\n",
    "                continue\n",
    "            y0 = np.median(ang_y_corr[year_ok])\n",
    "            z0 = np.median(ang_z_corr[year_ok])\n",
    "            vals['ang_y_norm'][fid_idx] = ang_y_corr - y0\n",
    "            vals['ang_z_norm'][fid_idx] = ang_z_corr - z0\n",
    "        \n",
    "        fid_stats_cache[det] = vals\n",
    "    \n",
    "    return fid_stats_cache[det]"
   ]
  },
  {
   "cell_type": "code",
   "execution_count": 51,
   "metadata": {
    "collapsed": true
   },
   "outputs": [],
   "source": [
    "def plot_fid_drift_vs_year(detstats, det):\n",
    "    \"\"\"\n",
    "    Plot fid drift data for specified detector.\n",
    "    \"\"\"\n",
    "    year0 = 0.\n",
    "    fidcolor = ' bgrcmkbgrcbgrc'\n",
    "    plt.figure(figsize=(6, 4.5))\n",
    "    plt.clf()\n",
    "    plt.subplot(2, 1, 1)\n",
    "    plt.ylabel('Y offset (arcsec)')\n",
    "    maxyear = int(time.strftime('%Y')) + 1\n",
    "    DEFAULT_MIN = -25 # arcsec\n",
    "    plt.axis([1999, maxyear, DEFAULT_MIN, 10])\n",
    "    plt.title(det + ' Fid Drift')\n",
    "    plt.grid()\n",
    "    plt.subplot(2, 1, 2)\n",
    "    plt.xlabel('Year')  # MET (years)')\n",
    "    plt.ylabel('Z offset (arcsec)')\n",
    "    plt.axis([1999, maxyear, DEFAULT_MIN, 10])\n",
    "    plt.grid()\n",
    "    min_plot_y = DEFAULT_MIN\n",
    "    for fid in FIDS[det]:\n",
    "        fidstats = detstats[detstats['id_num'] == fid]\n",
    "        year = fidstats['year']\n",
    "        fid_min_y = np.min(fidstats['ang_y_norm'])\n",
    "        fid_min_z = np.min(fidstats['ang_z_norm'])\n",
    "        fid_min = np.min([fid_min_y, fid_min_z])\n",
    "        # if the plot min value is less than we've seen for this detector\n",
    "        # or less than the default, update the minimum (rounded down to the nearest 5)\n",
    "        if fid_min < min_plot_y:\n",
    "            min_plot_y = fid_min - (fid_min % 5)\n",
    "        plt.subplot(2, 1, 1)\n",
    "        plt.plot(year - year0, fidstats['ang_y_norm'],\n",
    "                 '.', markersize=4, markerfacecolor=fidcolor[fid], mew=0,\n",
    "                 scaley=False, scalex=False)\n",
    "        plt.ylim(ymin=min_plot_y)\n",
    "        plt.subplot(2, 1, 2)\n",
    "        plt.plot(year - year0, fidstats['ang_z_norm'],\n",
    "                 '.', markersize=4, markerfacecolor=fidcolor[fid], mew=0,\n",
    "                 scaley=False, scalex=False)\n",
    "        plt.ylim(ymin=min_plot_y)"
   ]
  },
  {
   "cell_type": "code",
   "execution_count": 6,
   "metadata": {
    "collapsed": true
   },
   "outputs": [],
   "source": [
    "def plot_aimpoint_vs_year(det, w=None, ref_pos='target'):\n",
    "    \"\"\"\n",
    "    Plot aimpoint data vs time for specified detector.\n",
    "    \"\"\"\n",
    "    dat = get_aimpoint_data(det)\n",
    "    ok = (dat['year'] > 2002.0) & (dat['year'] < 2003.)\n",
    "    sc_y0 = np.median(dat['{}_sim_y'.format(ref_pos)][ok])\n",
    "    sc_z0 = np.median(dat['{}_sim_z'.format(ref_pos)][ok])\n",
    "    y_off = (dat['{}_sim_y'.format(ref_pos)] - sc_y0)\n",
    "    z_off = (dat['{}_sim_z'.format(ref_pos)] - sc_z0)\n",
    "    plt.subplot(2, 1, 1)\n",
    "    plt.plot(dat['year'], y_off + 20, '.', alpha=0.4)\n",
    "    if w is not None:\n",
    "        plt.ylim(-w, w)\n",
    "    plt.subplot(2, 1, 2)\n",
    "    plt.plot(dat['year'], z_off + 20, '.', alpha=0.4)\n",
    "    if w is not None:\n",
    "        plt.ylim(-w, w)"
   ]
  },
  {
   "cell_type": "code",
   "execution_count": 7,
   "metadata": {
    "collapsed": true
   },
   "outputs": [],
   "source": [
    "def plot_aimpoint_xy(det='ACIS-S', years=range(1999, 2020), \n",
    "                     xlim=(180, 270), ylim=(450, 540)):\n",
    "    \"\"\"\n",
    "    Plot aimpoint chipx and chipy values for ACIS-S over the specified\n",
    "    time range. Each year of values is plotted in a different color.\n",
    "    \"\"\"\n",
    "    dat = get_aimpoint_data(det)\n",
    "    colors = ('r', 'g', 'b', 'm', 'k', 'c')\n",
    "    plt.figure(4, figsize=(5, 5))\n",
    "    for year, color in izip(years, cycle(colors)):\n",
    "        ok = (dat['year'] > year) & (dat['year'] < year + 1)\n",
    "        if np.count_nonzero(ok) > 2:\n",
    "            x = dat['target_chipx'][ok]\n",
    "            y = dat['target_chipy'][ok]\n",
    "            plt.plot(x, y, '.', color=color)\n",
    "            medok = (x >= xlim[0]) & (x <= xlim[1]) & (y >= ylim[0]) & (y <= ylim[1])\n",
    "            x_med = np.median(x[medok])\n",
    "            y_med = np.median(y[medok])\n",
    "            print('Year: {} Median chipx, chipy = {:.2f}, {:.2f}'.format(year, x_med, y_med))\n",
    "    plt.xlim(*xlim)\n",
    "    plt.ylim(*ylim)\n",
    "    plt.grid()"
   ]
  },
  {
   "cell_type": "code",
   "execution_count": 52,
   "metadata": {
    "collapsed": true
   },
   "outputs": [],
   "source": [
    "def plot_fids_and_aimpoints(det='ACIS-S', w=30, ref_pos='target'):\n",
    "    \"\"\"\n",
    "    Make combined plot of fid drift and aimpoint drift, offsetting\n",
    "    the aimpoint drift by 20 arcsec for visual clarity.\n",
    "    \"\"\"\n",
    "    detstats = get_fid_stats(det)\n",
    "    plot_fid_drift_vs_year(detstats, det)\n",
    "    plot_aimpoint_vs_year(det, w, ref_pos)"
   ]
  },
  {
   "cell_type": "code",
   "execution_count": 9,
   "metadata": {
    "collapsed": false,
    "scrolled": true
   },
   "outputs": [
    {
     "data": {
      "image/png": "[encoded data removed]",
      "text/plain": [
       "<matplotlib.figure.Figure at 0x7f832a2b8550>"
      ]
     },
     "metadata": {},
     "output_type": "display_data"
    }
   ],
   "source": [
    "plot_fids_and_aimpoints('ACIS-S', ref_pos='target')"
   ]
  },
  {
   "cell_type": "code",
   "execution_count": 11,
   "metadata": {
    "collapsed": false,
    "scrolled": false
   },
   "outputs": [
    {
     "name": "stdout",
     "output_type": "stream",
     "text": [
      "Year: 2013.5 Median chipx, chipy = 204.85, 479.77\n"
     ]
    },
    {
     "data": {
      "image/png": "[encoded data removed]",
      "text/plain": [
       "<matplotlib.figure.Figure at 0x7f83252a0990>"
      ]
     },
     "metadata": {},
     "output_type": "display_data"
    }
   ],
   "source": [
    "plot_aimpoint_xy(years=(2013.5,))\n",
    "plt.plot([206], [480], 'xb', ms=10, mew=3);"
   ]
  },
  {
   "cell_type": "code",
   "execution_count": 12,
   "metadata": {
    "collapsed": false,
    "scrolled": false
   },
   "outputs": [
    {
     "name": "stdout",
     "output_type": "stream",
     "text": [
      "Year: 2014.5 Median chipx, chipy = 206.40, 480.22\n"
     ]
    },
    {
     "data": {
      "image/png": "[encoded data removed]",
      "text/plain": [
       "<matplotlib.figure.Figure at 0x7f83252ff490>"
      ]
     },
     "metadata": {},
     "output_type": "display_data"
    }
   ],
   "source": [
    "plot_aimpoint_xy(years=(2014.5,))\n",
    "plt.plot([200.7], [476.9], 'xb', ms=10, mew=3);"
   ]
  },
  {
   "cell_type": "code",
   "execution_count": 13,
   "metadata": {
    "collapsed": true
   },
   "outputs": [],
   "source": [
    "dat = get_aimpoint_data('ACIS-S')"
   ]
  },
  {
   "cell_type": "code",
   "execution_count": 14,
   "metadata": {
    "collapsed": false
   },
   "outputs": [
    {
     "name": "stdout",
     "output_type": "stream",
     "text": [
      "Year: 2014.5 Median chipx, chipy = 931.27, 1005.57\n"
     ]
    },
    {
     "data": {
      "image/png": "[encoded data removed]",
      "text/plain": [
       "<matplotlib.figure.Figure at 0x7f83255cdd10>"
      ]
     },
     "metadata": {},
     "output_type": "display_data"
    }
   ],
   "source": [
    "plot_aimpoint_xy(det='ACIS-I', years=(2014.5,), xlim=(880, 980), ylim=(950, 1050))\n",
    "plt.plot([930.2], [1009.6], 'xb', ms=10, mew=3);"
   ]
  },
  {
   "cell_type": "code",
   "execution_count": 53,
   "metadata": {
    "collapsed": false,
    "scrolled": true
   },
   "outputs": [],
   "source": [
    "def get_zero_offset_aimpoint_data(det, min_year=2010):\n",
    "    \"\"\"\n",
    "    Return aimpoint data for observations with zero target offset.\n",
    "    This simplifies the correlation of aspect solution and dmcoords\n",
    "    results with the published POG plots (chapter 4) of aimpoint drift.\n",
    "    \"\"\"\n",
    "    dat = get_aimpoint_data(det)\n",
    "    ok = (dat['y_det_offset'] == 0) & (dat['z_det_offset'] == 0) & (dat['year'] > min_year)\n",
    "    return dat[ok]"
   ]
  },
  {
   "cell_type": "code",
   "execution_count": 19,
   "metadata": {
    "collapsed": false,
    "scrolled": true
   },
   "outputs": [],
   "source": [
    "dats = get_zero_offset_aimpoint_data('ACIS-S', 2006)\n",
    "dati = get_zero_offset_aimpoint_data('ACIS-I', 2006)\n",
    "observations = vstack([dats, dati])"
   ]
  },
  {
   "cell_type": "code",
   "execution_count": 20,
   "metadata": {
    "collapsed": false
   },
   "outputs": [
    {
     "data": {
      "text/html": [
       "&lt;Table masked=True length=5&gt;\n",
       "<table id=\"table140201241246672\">\n",
       "<thead><tr><th>obsid</th><th>detector</th><th>ra_pnt</th><th>dec_pnt</th><th>ra_targ</th><th>dec_targ</th><th>sim_x</th><th>sim_z</th><th>y_det_offset</th><th>z_det_offset</th><th>dmp_theta</th><th>dmp_phi</th><th>dmp_skyx</th><th>dmp_skyy</th><th>dmp_detx</th><th>dmp_dety</th><th>dmp_chipx</th><th>dmp_chipy</th><th>dmp_tdetx</th><th>dmp_tdety</th><th>dmt_theta</th><th>dmt_phi</th><th>dmt_skyx</th><th>dmt_skyy</th><th>dmt_detx</th><th>dmt_dety</th><th>dmt_chipx</th><th>dmt_chipy</th><th>dmt_tdetx</th><th>dmt_tdety</th><th>tstart</th><th>sched_exp_time</th><th>mjdref</th><th>ap_chipx</th><th>ap_chipy</th><th>year</th><th>target_chipx</th><th>target_chipy</th><th>target_sim_y</th><th>target_sim_z</th><th>opt_axis_sim_y</th><th>opt_axis_sim_z</th></tr></thead>\n",
       "<thead><tr><th>float64</th><th>string48</th><th>float64</th><th>float64</th><th>float64</th><th>float64</th><th>float64</th><th>float64</th><th>float64</th><th>float64</th><th>float64</th><th>float64</th><th>float64</th><th>float64</th><th>float64</th><th>float64</th><th>float64</th><th>float64</th><th>float64</th><th>float64</th><th>string56</th><th>float64</th><th>float64</th><th>float64</th><th>float64</th><th>float64</th><th>float64</th><th>float64</th><th>float64</th><th>float64</th><th>float64</th><th>float64</th><th>float64</th><th>float64</th><th>float64</th><th>float64</th><th>float64</th><th>float64</th><th>float64</th><th>float64</th><th>float64</th><th>float64</th></tr></thead>\n",
       "<tr><td>10825.0</td><td>ACIS-S</td><td>344.366064988</td><td>20.7644294132</td><td>344.36625</td><td>20.768833</td><td>-0.682822524731</td><td>-190.142580365</td><td>0.0</td><td>0.0</td><td>0.0</td><td>113.74</td><td>4096.5</td><td>4096.5</td><td>4096.5</td><td>4096.5</td><td>190.69</td><td>501.93</td><td>4107.69</td><td>2203.93</td><td>15.9</td><td>21.01</td><td>4095.23</td><td>4128.72</td><td>4126.6</td><td>4108.06</td><td>220.83</td><td>490.34</td><td>4137.83</td><td>2192.34</td><td>344948671.064</td><td>4800.0</td><td>50814.0</td><td>220.83</td><td>490.34</td><td>2008.934262</td><td>220.83</td><td>490.34</td><td>108.64836</td><td>241.24728</td><td>93.81948</td><td>246.94956</td></tr>\n",
       "<tr><td>11796.0</td><td>ACIS-S</td><td>324.282586786</td><td>0.44298817603</td><td>324.284583</td><td>0.446944</td><td>-0.682822524731</td><td>-190.142580365</td><td>0.0</td><td>0.0</td><td>0.0</td><td>84.67</td><td>4096.5</td><td>4096.5</td><td>4096.5</td><td>4096.5</td><td>189.65</td><td>501.69</td><td>4106.65</td><td>2203.69</td><td>16.0</td><td>21.31</td><td>4081.89</td><td>4125.45</td><td>4126.7</td><td>4108.28</td><td>219.88</td><td>489.87</td><td>4136.88</td><td>2191.87</td><td>369507370.936</td><td>25000.0</td><td>50814.0</td><td>219.88</td><td>489.87</td><td>2009.7128</td><td>219.88</td><td>489.87</td><td>108.18096</td><td>241.01604</td><td>93.3078</td><td>246.83148</td></tr>\n",
       "<tr><td>12351.0</td><td>ACIS-S</td><td>134.772517963</td><td>-47.5069750559</td><td>134.773333</td><td>-47.511361</td><td>-0.682822524731</td><td>-190.142580365</td><td>0.0</td><td>0.0</td><td>0.0</td><td>339.64</td><td>4096.5</td><td>4096.5</td><td>4096.5</td><td>4096.5</td><td>183.02</td><td>493.8</td><td>4100.02</td><td>2195.8</td><td>15.9</td><td>21.52</td><td>4092.47</td><td>4064.41</td><td>4126.59</td><td>4108.36</td><td>213.15</td><td>481.91</td><td>4130.15</td><td>2183.91</td><td>402220253.235</td><td>54000.0</td><td>50814.0</td><td>213.15</td><td>481.91</td><td>2010.749869</td><td>213.15</td><td>481.91</td><td>104.8698</td><td>237.09972</td><td>90.04584</td><td>242.9496</td></tr>\n",
       "<tr><td>12360.0</td><td>ACIS-S</td><td>217.401795413</td><td>-62.6728282286</td><td>217.403933</td><td>-62.677144</td><td>-0.682822524731</td><td>-190.142580365</td><td>0.0</td><td>0.0</td><td>0.0</td><td>339.25</td><td>4096.5</td><td>4096.5</td><td>4096.5</td><td>4096.5</td><td>187.38</td><td>494.14</td><td>4104.38</td><td>2196.14</td><td>15.9</td><td>21.55</td><td>4089.32</td><td>4064.92</td><td>4126.62</td><td>4108.39</td><td>217.53</td><td>482.22</td><td>4134.53</td><td>2184.22</td><td>408586755.088</td><td>79250.0</td><td>50814.0</td><td>217.53</td><td>482.22</td><td>2010.952011</td><td>217.53</td><td>482.22</td><td>107.02476</td><td>237.25224</td><td>92.19096</td><td>243.11688</td></tr>\n",
       "<tr><td>15699.0</td><td>ACIS-S</td><td>283.596333638</td><td>-20.1466612318</td><td>283.6127</td><td>-20.1692</td><td>-0.682822524731</td><td>-190.14006605</td><td>0.0</td><td>0.0</td><td>0.0</td><td>284.26</td><td>4096.5</td><td>4096.5</td><td>4096.5</td><td>4096.5</td><td>165.72</td><td>482.91</td><td>4082.72</td><td>2184.91</td><td>1.637&apos;</td><td>329.15</td><td>3984.09</td><td>3931.58</td><td>4267.86</td><td>3994.17</td><td>337.38</td><td>585.27</td><td>4254.38</td><td>2287.27</td><td>509594571.038</td><td>35000.0</td><td>50814.0</td><td>337.38</td><td>585.27</td><td>2014.152054</td><td>337.38</td><td>585.27</td><td>165.99096</td><td>287.95284</td><td>81.53424</td><td>237.59172</td></tr>\n",
       "</table>"
      ],
      "text/plain": [
       "<Table masked=True length=5>\n",
       " obsid  detector     ra_pnt    ... target_sim_z opt_axis_sim_y opt_axis_sim_z\n",
       "float64 string48    float64    ...   float64       float64        float64    \n",
       "------- -------- ------------- ... ------------ -------------- --------------\n",
       "10825.0   ACIS-S 344.366064988 ...    241.24728       93.81948      246.94956\n",
       "11796.0   ACIS-S 324.282586786 ...    241.01604        93.3078      246.83148\n",
       "12351.0   ACIS-S 134.772517963 ...    237.09972       90.04584       242.9496\n",
       "12360.0   ACIS-S 217.401795413 ...    237.25224       92.19096      243.11688\n",
       "15699.0   ACIS-S 283.596333638 ...    287.95284       81.53424      237.59172"
      ]
     },
     "execution_count": 20,
     "metadata": {},
     "output_type": "execute_result"
    }
   ],
   "source": [
    "dats[-5:]"
   ]
  },
  {
   "cell_type": "code",
   "execution_count": 21,
   "metadata": {
    "collapsed": false
   },
   "outputs": [
    {
     "data": {
      "text/plain": [
       "{'ACIS-I': -233.58743446082869, 'ACIS-S': -190.14258036517339}"
      ]
     },
     "execution_count": 21,
     "metadata": {},
     "output_type": "execute_result"
    }
   ],
   "source": [
    "# Define nominal SIM-X and Z positions as median observed values\n",
    "\n",
    "sim_z_nom = {'ACIS-S': np.median(dats['sim_z']),\n",
    "             'ACIS-I': np.median(dati['sim_z'])}\n",
    "sim_x_nom = {'ACIS-S': np.median(dats['sim_x']),\n",
    "             'ACIS-I': np.median(dati['sim_x'])}\n",
    "sim_z_nom"
   ]
  },
  {
   "cell_type": "code",
   "execution_count": 22,
   "metadata": {
    "collapsed": false
   },
   "outputs": [],
   "source": [
    "# Use the obspar for each obsid to fill in some additional\n",
    "# columns.  Yag and Zag represent the local frame position\n",
    "# (arcsec) of the target in the nominal frame.\n",
    "\n",
    "noms = ('ra_nom', 'dec_nom', 'roll_nom')\n",
    "for nom in noms:\n",
    "    observations[nom] = 0.0\n",
    "observations['yag'] = 0.0\n",
    "observations['zag'] = 0.0\n",
    "\n",
    "for obs in observations:\n",
    "    obspar = mica.archive.obspar.get_obspar(obs['obsid'])\n",
    "    for nom in noms:\n",
    "        obs[nom] = obspar[nom]\n",
    "    obs['ra_targ'] = obspar['ra_targ']\n",
    "    obs['dec_targ'] = obspar['dec_targ']\n",
    "    q_nom = Quat([obs[nom] for nom in noms])\n",
    "    obs['yag'], obs['zag'] = radec2yagzag(obspar['ra_targ'], obspar['dec_targ'], q_nom)\n",
    "\n",
    "observations['yag'] *= 3600\n",
    "observations['zag'] *= 3600"
   ]
  },
  {
   "cell_type": "code",
   "execution_count": 54,
   "metadata": {
    "collapsed": false
   },
   "outputs": [
    {
     "data": {
      "text/html": [
       "&lt;Table masked=True length=5&gt;\n",
       "<table id=\"table140201238997520\">\n",
       "<thead><tr><th>obsid</th><th>ra_targ</th><th>dec_targ</th><th>ra_pnt</th><th>dec_pnt</th><th>ra_nom</th><th>dec_nom</th><th>roll_nom</th><th>yag</th><th>zag</th></tr></thead>\n",
       "<thead><tr><th>float64</th><th>float64</th><th>float64</th><th>float64</th><th>float64</th><th>float64</th><th>float64</th><th>float64</th><th>float64</th><th>float64</th></tr></thead>\n",
       "<tr><td>6730.0</td><td>345.284583</td><td>58.879222</td><td>345.289911532</td><td>58.8826010137</td><td>345.289926715</td><td>58.8826277602</td><td>73.7475041311</td><td>-14.5530650439</td><td>6.11407278569</td></tr>\n",
       "<tr><td>7498.0</td><td>266.8175</td><td>-28.180056</td><td>266.817097076</td><td>-28.1843528708</td><td>266.817097076</td><td>-28.1843528708</td><td>284.670236772</td><td>-14.6406326013</td><td>5.15445170116</td></tr>\n",
       "<tr><td>7638.0</td><td>133.3375</td><td>-47.335</td><td>133.339009477</td><td>-47.3306926943</td><td>133.339009459</td><td>-47.3306925949</td><td>98.1577384918</td><td>-14.8272114841</td><td>5.84583106185</td></tr>\n",
       "<tr><td>8038.0</td><td>193.072917</td><td>11.313889</td><td>193.074903454</td><td>11.3177952436</td><td>193.07485495</td><td>11.3179100047</td><td>86.1021039224</td><td>-14.9071539195</td><td>5.84118881379</td></tr>\n",
       "<tr><td>8041.0</td><td>189.2225</td><td>7.246389</td><td>189.218707705</td><td>7.24431078376</td><td>189.218680502</td><td>7.24418952427</td><td>231.045064119</td><td>-14.7333126246</td><td>5.62908071909</td></tr>\n",
       "</table>"
      ],
      "text/plain": [
       "<Table masked=True length=5>\n",
       " obsid   ra_targ    dec_targ  ...    roll_nom        yag            zag     \n",
       "float64  float64    float64   ...    float64       float64        float64   \n",
       "------- ---------- ---------- ... ------------- -------------- -------------\n",
       " 6730.0 345.284583  58.879222 ... 73.7475041311 -14.5530650439 6.11407278569\n",
       " 7498.0   266.8175 -28.180056 ... 284.670236772 -14.6406326013 5.15445170116\n",
       " 7638.0   133.3375    -47.335 ... 98.1577384918 -14.8272114841 5.84583106185\n",
       " 8038.0 193.072917  11.313889 ... 86.1021039224 -14.9071539195 5.84118881379\n",
       " 8041.0   189.2225   7.246389 ... 231.045064119 -14.7333126246 5.62908071909"
      ]
     },
     "execution_count": 54,
     "metadata": {},
     "output_type": "execute_result"
    }
   ],
   "source": [
    "# Look at key columns for the first few obsids\n",
    "\n",
    "observations[('obsid', 'ra_targ', 'dec_targ') +\n",
    "             ('ra_pnt', 'dec_pnt') +\n",
    "             noms + ('yag', 'zag')][:5]"
   ]
  },
  {
   "cell_type": "code",
   "execution_count": 55,
   "metadata": {
    "collapsed": false
   },
   "outputs": [],
   "source": [
    "def plot_yag_zag(observations, det):\n",
    "    \"\"\"\n",
    "    Plot the local target position in Yag, Zag coordinates\n",
    "    (referenced to the nominal frame).\n",
    "    \"\"\"\n",
    "    ok = observations['detector'] == det\n",
    "    plt.plot(observations['yag'][ok], observations['zag'][ok], '.')\n",
    "    plt.xlim(-18, -12)\n",
    "    plt.ylim(4, 8)\n",
    "    plt.grid()\n",
    "    plt.title(det)\n",
    "    plt.ylabel('zag (arcsec)')\n",
    "    plt.xlabel('yag (arcsec)')"
   ]
  },
  {
   "cell_type": "code",
   "execution_count": 27,
   "metadata": {
    "collapsed": false
   },
   "outputs": [
    {
     "data": {
      "image/png": "[encoded data removed]",
      "text/plain": [
       "<matplotlib.figure.Figure at 0x7f83252e7990>"
      ]
     },
     "metadata": {},
     "output_type": "display_data"
    }
   ],
   "source": [
    "# Now we are convinced that there is a predictable offset\n",
    "# between the target coordinate and the nominal frame.\n",
    "\n",
    "plt.figure(figsize=(12,4))\n",
    "plt.subplot(1, 2, 1)\n",
    "plot_yag_zag(observations, 'ACIS-S')\n",
    "plt.subplot(1, 2, 2)\n",
    "plot_yag_zag(observations, 'ACIS-I')\n"
   ]
  },
  {
   "cell_type": "code",
   "execution_count": 24,
   "metadata": {
    "collapsed": false
   },
   "outputs": [
    {
     "data": {
      "text/plain": [
       "array([-15.5       ,   6.00000002])"
      ]
     },
     "execution_count": 24,
     "metadata": {},
     "output_type": "execute_result"
    }
   ],
   "source": [
    "# Define a fake nominal frame as ra, dec, roll = 0.\n",
    "# Then define a \"zero\" target location ra0, dec0 that has\n",
    "# the same Yag, Zag values \n",
    "\n",
    "q0 = Quat([0, 0, 0])\n",
    "ra0, dec0 = -15.5 / 3600., 6.0 / 3600.\n",
    "np.array(radec2yagzag(ra0, dec0, q0)) * 3600."
   ]
  },
  {
   "cell_type": "markdown",
   "metadata": {},
   "source": [
    "### Where does this -15, 6 arcsec offset come from?\n",
    "\n",
    "It's basically the difference between two rotation matrices in our system:\n",
    "\n",
    "- `ACA_MISALIGN`: MNC (HRMA optical axis) to ACA frame misalignment.\n",
    "- `ODB_SI_ALIGN`: Misalignment used to transform from science target coordinates to ACA (PCAD) pointing direction that gets used on-board.\n",
    "\n",
    "My recollection is that the fact that these are not the same is a relic of a decision during OAC, but I'm not entirely certain of that."
   ]
  },
  {
   "cell_type": "code",
   "execution_count": 63,
   "metadata": {
    "collapsed": false
   },
   "outputs": [],
   "source": [
    "\n",
    "calalign = Table.read('/soft/ciao/CALDB/data/chandra/pcad/align/pcadD2012-09-13alignN0009.fits',\n",
    "                     hdu='CALALIGN')"
   ]
  },
  {
   "cell_type": "code",
   "execution_count": 64,
   "metadata": {
    "collapsed": false,
    "scrolled": true
   },
   "outputs": [
    {
     "data": {
      "text/html": [
       "&lt;Table masked=False length=4&gt;\n",
       "<table id=\"table140201238965776\">\n",
       "<thead><tr><th>INSTR_ID</th><th>ACA_SC_ALIGN [3,3]</th><th>ACA_MISALIGN [3,3]</th><th>FTS_MISALIGN [3,3]</th><th>LSI0_STT [3]</th><th>RRC0_FC_X</th></tr></thead>\n",
       "<thead><tr><th></th><th></th><th></th><th></th><th>mm</th><th>mm</th></tr></thead>\n",
       "<thead><tr><th>string72</th><th>float64</th><th>float64</th><th>float64</th><th>float64</th><th>float64</th></tr></thead>\n",
       "<tr><td>ACIS-S</td><td>1.0 .. 1.0</td><td>0.999999885766 .. 0.999996233612</td><td>0.999999987092 .. 0.999995726325</td><td>0.0 .. 190.5</td><td>10065.5117188</td></tr>\n",
       "<tr><td>ACIS-I</td><td>1.0 .. 1.0</td><td>0.999999884457 .. 0.999993337636</td><td>0.99999998528 .. 0.999989507649</td><td>0.0 .. 237.4</td><td>10065.5117188</td></tr>\n",
       "<tr><td>HRC-S</td><td>1.0 .. 1.0</td><td>0.999999873574 .. 0.999999272401</td><td>0.99999998383 .. 0.99999703533</td><td>0.0 .. -250.1</td><td>10065.5117188</td></tr>\n",
       "<tr><td>HRC-I</td><td>1.0 .. 1.0</td><td>0.999999886877 .. 0.999998580823</td><td>0.999999980036 .. 0.999996258348</td><td>0.0 .. -126.6</td><td>10065.5117188</td></tr>\n",
       "</table>"
      ],
      "text/plain": [
       "<Table masked=False length=4>\n",
       " INSTR_ID ACA_SC_ALIGN [3,3] ...  LSI0_STT [3]   RRC0_FC_X  \n",
       "                             ...       mm            mm     \n",
       " string72      float64       ...    float64       float64   \n",
       "--------- ------------------ ... ------------- -------------\n",
       "ACIS-S            1.0 .. 1.0 ...  0.0 .. 190.5 10065.5117188\n",
       "ACIS-I            1.0 .. 1.0 ...  0.0 .. 237.4 10065.5117188\n",
       "HRC-S             1.0 .. 1.0 ... 0.0 .. -250.1 10065.5117188\n",
       "HRC-I             1.0 .. 1.0 ... 0.0 .. -126.6 10065.5117188"
      ]
     },
     "execution_count": 64,
     "metadata": {},
     "output_type": "execute_result"
    }
   ],
   "source": [
    "calalign"
   ]
  },
  {
   "cell_type": "code",
   "execution_count": 65,
   "metadata": {
    "collapsed": false
   },
   "outputs": [
    {
     "name": "stdout",
     "output_type": "stream",
     "text": [
      "dy = -84.76 arcsec, dz = -50.36 arcsec\n"
     ]
    }
   ],
   "source": [
    "# ACIS-S misalign in arcsec (pay attention to elements in row 0, columns 1 & 2)\n",
    "dy, dz = np.degrees(calalign['ACA_MISALIGN'][0][0, [1,2]]) * 3600\n",
    "print('dy = {:.2f} arcsec, dz = {:.2f} arcsec'.format(dy, dz))"
   ]
  },
  {
   "cell_type": "code",
   "execution_count": 66,
   "metadata": {
    "collapsed": false
   },
   "outputs": [
    {
     "name": "stdout",
     "output_type": "stream",
     "text": [
      "dy = -85.73 arcsec, dz = -49.82 arcsec\n"
     ]
    }
   ],
   "source": [
    "# ACIS-I misalign in arcsec (pay attention to elements in row 0, columns 1 & 2)\n",
    "dy, dz = np.degrees(calalign['ACA_MISALIGN'][1][0, [1,2]]) * 3600\n",
    "print('dy = {:.2f} arcsec, dz = {:.2f} arcsec'.format(dy, dz))"
   ]
  },
  {
   "cell_type": "markdown",
   "metadata": {},
   "source": [
    "### Residual of ACA_MISALIGN * ODB_SI_ALIGN matches observed Yag, Zag values!\n",
    "\n",
    "(Reasonably well)."
   ]
  },
  {
   "cell_type": "code",
   "execution_count": 67,
   "metadata": {
    "collapsed": false
   },
   "outputs": [],
   "source": [
    "ODB_SI_ALIGN  = np.array([[1.0, 3.3742E-4, 2.7344E-4],                    \n",
    "                          [-3.3742E-4, 1.0, 0.0],          \n",
    "                          [-2.7344E-4, 0.0, 1.0]])"
   ]
  },
  {
   "cell_type": "code",
   "execution_count": 68,
   "metadata": {
    "collapsed": false
   },
   "outputs": [
    {
     "name": "stdout",
     "output_type": "stream",
     "text": [
      "dy = -15.16 arcsec, dz = 6.04 arcsec\n"
     ]
    }
   ],
   "source": [
    "# ACA_MISALIGN * ODB_SI_ALIGN delta alignment (ACIS-S)\n",
    "dy, dz = np.degrees(calalign['ACA_MISALIGN'][0].dot(ODB_SI_ALIGN)[0, [1,2]]) * 3600\n",
    "print('dy = {:.2f} arcsec, dz = {:.2f} arcsec'.format(dy, dz))"
   ]
  },
  {
   "cell_type": "code",
   "execution_count": 69,
   "metadata": {
    "collapsed": false
   },
   "outputs": [
    {
     "name": "stdout",
     "output_type": "stream",
     "text": [
      "dy = -16.13 arcsec, dz = 6.58 arcsec\n"
     ]
    }
   ],
   "source": [
    "# ACA_MISALIGN * ODB_SI_ALIGN delta alignment (ACIS-I)\n",
    "dy, dz = np.degrees(calalign['ACA_MISALIGN'][1].dot(ODB_SI_ALIGN)[0, [1,2]]) * 3600\n",
    "print('dy = {:.2f} arcsec, dz = {:.2f} arcsec'.format(dy, dz))"
   ]
  },
  {
   "cell_type": "code",
   "execution_count": 70,
   "metadata": {
    "collapsed": false
   },
   "outputs": [
    {
     "data": {
      "text/plain": [
       "[<matplotlib.lines.Line2D at 0x7f83251bfb10>]"
      ]
     },
     "execution_count": 70,
     "metadata": {},
     "output_type": "execute_result"
    },
    {
     "data": {
      "image/png": "[encoded data removed]",
      "text/plain": [
       "<matplotlib.figure.Figure at 0x7f832503f590>"
      ]
     },
     "metadata": {},
     "output_type": "display_data"
    }
   ],
   "source": [
    "plt.figure(figsize=(12,4))\n",
    "plt.subplot(1, 2, 1)\n",
    "plot_yag_zag(observations, 'ACIS-S')\n",
    "plt.plot([-14.96], [6.04], 'or')\n",
    "plt.subplot(1, 2, 2)\n",
    "plot_yag_zag(observations, 'ACIS-I')\n",
    "plt.plot([-15.93], [6.58], 'or')\n"
   ]
  },
  {
   "cell_type": "markdown",
   "metadata": {},
   "source": [
    "### Use dmcoords to relate detector, dy, dz to chipx, chipy\n",
    "\n",
    "This will be an approximation that applies over small displacements (of order 100 pixels)."
   ]
  },
  {
   "cell_type": "code",
   "execution_count": 35,
   "metadata": {
    "collapsed": true
   },
   "outputs": [],
   "source": [
    "ciaoenv = Ska.Shell.getenv('source /soft/ciao/bin/ciao.sh')"
   ]
  },
  {
   "cell_type": "code",
   "execution_count": 36,
   "metadata": {
    "collapsed": true
   },
   "outputs": [],
   "source": [
    "dmcoords_cmd = ['dmcoords', 'none',\n",
    "                'asolfile=none',\n",
    "                'detector=acis',\n",
    "                'opt=cel',\n",
    "                'ra={ra}', \n",
    "                'dec={dec}',\n",
    "                'celfmt=deg', \n",
    "                'ra_nom=0',\n",
    "                'dec_nom=0',\n",
    "                'roll_nom=0',  \n",
    "                'ra_asp=\")ra_nom\"',\n",
    "                'dec_asp=\")dec_nom\"',\n",
    "                'roll_asp=\")roll_nom\"',      \n",
    "                'sim=\"{simx} 0 {simz}\"',\n",
    "                'displace=\"0 {dy} {dz} 0 0 0\"',       \n",
    "                'verbose=0']\n",
    "dmcoords_cmd = ' '.join(dmcoords_cmd)"
   ]
  },
  {
   "cell_type": "code",
   "execution_count": 37,
   "metadata": {
    "collapsed": true
   },
   "outputs": [],
   "source": [
    "ciaorun = functools.partial(Ska.Shell.bash, env=ciaoenv)"
   ]
  },
  {
   "cell_type": "code",
   "execution_count": 38,
   "metadata": {
    "collapsed": false
   },
   "outputs": [],
   "source": [
    "def dmcoords_chipx_chipy(det, dy, dz):\n",
    "    ra0, dec0 = -15.5 / 3600., 6.0 / 3600.\n",
    "    ciaorun('punlearn dmcoords')\n",
    "    ciaorun(dmcoords_cmd.format(ra=ra0, dec=dec0, \n",
    "                                simx=sim_x_nom[det], simz=sim_z_nom[det],\n",
    "                                dy=dy, dz=dz))\n",
    "    return [float(x) for x in ciaorun('pget dmcoords chipx chipy')]"
   ]
  },
  {
   "cell_type": "code",
   "execution_count": 39,
   "metadata": {
    "collapsed": true
   },
   "outputs": [],
   "source": [
    "def get_dy_dz(obsid):\n",
    "    asolfiles = asp_l1.get_files(obsid=obsid, content=['ASPSOL'])\n",
    "    asol = Table.read(asolfiles[0])\n",
    "    min_dy, median_dy, max_dy = (np.min(asol['dy']), \n",
    "                              np.median(asol['dy']),\n",
    "                              np.max(asol['dy']))\n",
    "    min_dz, median_dz, max_dz = (np.min(asol['dz']), \n",
    "                              np.median(asol['dz']),\n",
    "                              np.max(asol['dz']))\n",
    "    return min_dy, median_dy, max_dy, min_dz, median_dz, max_dz                                 "
   ]
  },
  {
   "cell_type": "code",
   "execution_count": 40,
   "metadata": {
    "collapsed": false
   },
   "outputs": [
    {
     "data": {
      "text/plain": [
       "[930.291070422303, 1010.649306858594]"
      ]
     },
     "execution_count": 40,
     "metadata": {},
     "output_type": "execute_result"
    }
   ],
   "source": [
    "dmcoords_chipx_chipy(det='ACIS-I', dy=-1.13993, dz=-0.99711)"
   ]
  },
  {
   "cell_type": "code",
   "execution_count": 41,
   "metadata": {
    "collapsed": false
   },
   "outputs": [
    {
     "data": {
      "text/html": [
       "&lt;Table masked=False length=4&gt;\n",
       "<table id=\"table140201240809808\">\n",
       "<thead><tr><th>obsid</th><th>year</th></tr></thead>\n",
       "<thead><tr><th>float64</th><th>float64</th></tr></thead>\n",
       "<tr><td>5480.0</td><td>2006.10266</td></tr>\n",
       "<tr><td>5481.0</td><td>2006.103003</td></tr>\n",
       "<tr><td>5482.0</td><td>2006.103326</td></tr>\n",
       "<tr><td>5483.0</td><td>2006.10365</td></tr>\n",
       "</table>"
      ],
      "text/plain": [
       "<Table masked=False length=4>\n",
       " obsid      year   \n",
       "float64   float64  \n",
       "------- -----------\n",
       " 5480.0  2006.10266\n",
       " 5481.0 2006.103003\n",
       " 5482.0 2006.103326\n",
       " 5483.0  2006.10365"
      ]
     },
     "execution_count": 41,
     "metadata": {},
     "output_type": "execute_result"
    }
   ],
   "source": [
    "dati['obsid', 'year'][:4]"
   ]
  },
  {
   "cell_type": "code",
   "execution_count": 42,
   "metadata": {
    "collapsed": false
   },
   "outputs": [
    {
     "name": "stdout",
     "output_type": "stream",
     "text": [
      "[946.9210940108986, 980.665361606694]\n"
     ]
    }
   ],
   "source": [
    "min_dy, median_dy, max_dy, min_dz, median_dz, max_dz = get_dy_dz(5480)\n",
    "print dmcoords_chipx_chipy(det='ACIS-I', dy=-median_dy, dz=-median_dz)"
   ]
  },
  {
   "cell_type": "code",
   "execution_count": 43,
   "metadata": {
    "collapsed": false
   },
   "outputs": [
    {
     "data": {
      "text/html": [
       "&lt;Table masked=True length=4&gt;\n",
       "<table id=\"table140201324657424\">\n",
       "<thead><tr><th>obsid</th><th>year</th></tr></thead>\n",
       "<thead><tr><th>float64</th><th>float64</th></tr></thead>\n",
       "<tr><td>6730.0</td><td>2006.355317</td></tr>\n",
       "<tr><td>7498.0</td><td>2007.512553</td></tr>\n",
       "<tr><td>7638.0</td><td>2007.793858</td></tr>\n",
       "<tr><td>8038.0</td><td>2007.139164</td></tr>\n",
       "</table>"
      ],
      "text/plain": [
       "<Table masked=True length=4>\n",
       " obsid      year   \n",
       "float64   float64  \n",
       "------- -----------\n",
       " 6730.0 2006.355317\n",
       " 7498.0 2007.512553\n",
       " 7638.0 2007.793858\n",
       " 8038.0 2007.139164"
      ]
     },
     "execution_count": 43,
     "metadata": {},
     "output_type": "execute_result"
    }
   ],
   "source": [
    "dats['obsid', 'year'][:4]"
   ]
  },
  {
   "cell_type": "code",
   "execution_count": 44,
   "metadata": {
    "collapsed": false
   },
   "outputs": [
    {
     "name": "stdout",
     "output_type": "stream",
     "text": [
      "[234.0630114424543, 493.0024357771581]\n"
     ]
    }
   ],
   "source": [
    "min_dy, median_dy, max_dy, min_dz, median_dz, max_dz = get_dy_dz(6730)\n",
    "print dmcoords_chipx_chipy(det='ACIS-S', dy=-median_dy, dz=-median_dz)"
   ]
  },
  {
   "cell_type": "code",
   "execution_count": 45,
   "metadata": {
    "collapsed": false
   },
   "outputs": [
    {
     "name": "stdout",
     "output_type": "stream",
     "text": [
      "930.170576995 1004.80811033\n",
      "930.171577731 963.06656217\n",
      "888.428895388 1004.70371797\n"
     ]
    }
   ],
   "source": [
    "det = 'ACIS-I'\n",
    "cx11, cy11 = dmcoords_chipx_chipy(det=det, dy=-1.0, dz=-1.0)\n",
    "cx01, cy01 = dmcoords_chipx_chipy(det=det, dy=0.0, dz=-1.0)\n",
    "cx12, cy12 = dmcoords_chipx_chipy(det=det, dy=-1.0, dz=-2.0)\n",
    "print cx11, cy11\n",
    "print cx01, cy01\n",
    "print cx12, cy12"
   ]
  },
  {
   "cell_type": "code",
   "execution_count": 46,
   "metadata": {
    "collapsed": false
   },
   "outputs": [
    {
     "name": "stdout",
     "output_type": "stream",
     "text": [
      "chipx = 971.91 + 41.74 * dz\n",
      "chipy = 963.07 - 41.74 * dy\n"
     ]
    }
   ],
   "source": [
    "print('chipx = {:.2f} + {:.2f} * dz'.format((cx01 - cx12) + cx01, cx01 - cx12))\n",
    "print('chipy = {:.2f} - {:.2f} * dy'.format(cy01, -(cy01 - cy11)))"
   ]
  },
  {
   "cell_type": "code",
   "execution_count": 47,
   "metadata": {
    "collapsed": false
   },
   "outputs": [
    {
     "name": "stdout",
     "output_type": "stream",
     "text": [
      "210.563335767 478.300125421\n",
      "252.25261612 478.27803396\n",
      "210.541239861 436.610882931\n"
     ]
    }
   ],
   "source": [
    "det = 'ACIS-S'\n",
    "cx11, cy11 = dmcoords_chipx_chipy(det=det, dy=-1.0, dz=-1.0)\n",
    "cx01, cy01 = dmcoords_chipx_chipy(det=det, dy=0.0, dz=-1.0)\n",
    "cx12, cy12 = dmcoords_chipx_chipy(det=det, dy=-1.0, dz=-2.0)\n",
    "print cx11, cy11\n",
    "print cx01, cy01\n",
    "print cx12, cy12"
   ]
  },
  {
   "cell_type": "code",
   "execution_count": 48,
   "metadata": {
    "collapsed": false
   },
   "outputs": [
    {
     "name": "stdout",
     "output_type": "stream",
     "text": [
      "chipx = 252.25 + 41.69 * dy\n",
      "chipy = 519.95 + 41.67 * dz\n"
     ]
    }
   ],
   "source": [
    "print('chipx = {:.2f} + {:.2f} * dy'.format(cx01, cx01 - cx11))\n",
    "print('chipy = {:.2f} + {:.2f} * dz'.format(cy01 + (cy01 - cy12), cy01 - cy12))"
   ]
  }
 ],
 "metadata": {
  "kernelspec": {
   "display_name": "Python 2",
   "language": "python",
   "name": "python2"
  },
  "language_info": {
   "codemirror_mode": {
    "name": "ipython",
    "version": 2
   },
   "file_extension": ".py",
   "mimetype": "text/x-python",
   "name": "python",
   "nbconvert_exporter": "python",
   "pygments_lexer": "ipython2",
   "version": "2.7.9"
  }
 },
 "nbformat": 4,
 "nbformat_minor": 0
}
