{
 "cells": [
  {
   "cell_type": "code",
   "execution_count": 1,
   "metadata": {
    "collapsed": false
   },
   "outputs": [],
   "source": [
    "import argparse\n",
    "import re\n",
    "import time\n",
    "from itertools import izip, cycle\n",
    "import functools\n",
    "\n",
    "import numpy as np\n",
    "import Ska.DBI\n",
    "from astropy.table import Table, vstack\n",
    "from astropy.time import Time\n",
    "import mica.archive.obspar\n",
    "from mica.archive import asp_l1\n",
    "import Ska.Shell\n",
    "from Ska.quatutil import yagzag2radec\n",
    "from Quaternion import Quat\n",
    "from Ska.quatutil import radec2yagzag\n",
    "\n",
    "import matplotlib.pyplot as plt\n",
    "%matplotlib inline"
   ]
  },
  {
   "cell_type": "code",
   "execution_count": 2,
   "metadata": {
    "collapsed": true
   },
   "outputs": [],
   "source": [
    "FIDS = {'ACIS-S': [1, 2, 3, 4, 5, 6],\n",
    "        'ACIS-I': [1, 2, 3, 4, 5, 6],\n",
    "        'HRC-I': [7, 8, 9, 10],\n",
    "        'HRC-S': [11, 12, 13, 14],\n",
    "        }\n"
   ]
  },
  {
   "cell_type": "code",
   "execution_count": 3,
   "metadata": {
    "collapsed": true
   },
   "outputs": [],
   "source": [
    "# Nominal SIM focus positions -- FIX ME\n",
    "sim_x_nom = {'ACIS-S': -0.68,\n",
    "            'ACIS-I': -0.68,\n",
    "            'HRC-S': -0.68,\n",
    "            'HRC-I': -0.68}"
   ]
  },
  {
   "cell_type": "code",
   "execution_count": 4,
   "metadata": {
    "collapsed": false
   },
   "outputs": [],
   "source": [
    "aimpoint_data_cache = {}\n",
    "acis_pixscale = 0.492  # arcsec / pixel\n",
    "\n",
    "def get_aimpoint_data(det):\n",
    "    \"\"\"\n",
    "    Read aimpoint data provided by P. Zhao and define additional columns\n",
    "    that make it easier to compare with fid light drift data.\n",
    "    \"\"\"\n",
    "    if det not in aimpoint_data_cache:\n",
    "        filename = 'optics_aimpoint/{}_ap_pos.rdb'.format(re.sub(r'-', '', det).lower())\n",
    "        dat = Table.read(filename, format='ascii.rdb')\n",
    "        y_off = dat['y_det_offset'] * 60 / acis_pixscale  # pix / arcmin\n",
    "        z_off = dat['z_det_offset'] * 60 / acis_pixscale  # pix / arcmin\n",
    "\n",
    "        aimpoint_data_cache[det] = dat\n",
    "    return aimpoint_data_cache[det]    "
   ]
  },
  {
   "cell_type": "code",
   "execution_count": 5,
   "metadata": {
    "collapsed": false,
    "scrolled": true
   },
   "outputs": [],
   "source": [
    "def get_zero_offset_aimpoint_data(det, min_year=2010):\n",
    "    \"\"\"\n",
    "    Return aimpoint data for observations with zero target offset.\n",
    "    This simplifies the correlation of aspect solution and dmcoords\n",
    "    results with the published POG plots (chapter 4) of aimpoint drift.\n",
    "    \"\"\"\n",
    "    dat = get_aimpoint_data(det)\n",
    "    ok = (dat['y_det_offset'] == 0) & (dat['z_det_offset'] == 0) & (dat['year'] > min_year)\n",
    "    return dat[ok]"
   ]
  },
  {
   "cell_type": "code",
   "execution_count": 6,
   "metadata": {
    "collapsed": false,
    "scrolled": true
   },
   "outputs": [],
   "source": [
    "dats = get_zero_offset_aimpoint_data('ACIS-S', 2010)\n",
    "dati = get_zero_offset_aimpoint_data('ACIS-I', 2010)\n",
    "hrcs = get_zero_offset_aimpoint_data('HRC-S', 2010)\n",
    "hrci = get_zero_offset_aimpoint_data('HRC-I', 2010)\n",
    "\n",
    "observations = vstack([dats, dati, hrcs, hrci])"
   ]
  },
  {
   "cell_type": "code",
   "execution_count": null,
   "metadata": {
    "collapsed": false
   },
   "outputs": [],
   "source": []
  },
  {
   "cell_type": "code",
   "execution_count": 7,
   "metadata": {
    "collapsed": false
   },
   "outputs": [
    {
     "data": {
      "text/html": [
       "&lt;Table masked=False length=5&gt;\n",
       "<table id=\"table139971507899344\">\n",
       "<thead><tr><th>obsid</th><th>ra_targ</th><th>dec_targ</th><th>sim_z</th><th>sim_z_offset</th><th>y_det_offset</th><th>z_det_offset</th><th>dmt_chipx</th><th>dmt_chipy</th><th>ap_chipx</th><th>ap_chipy</th><th>year</th></tr></thead>\n",
       "<thead><tr><th>float64</th><th>float64</th><th>float64</th><th>float64</th><th>float64</th><th>float64</th><th>float64</th><th>float64</th><th>float64</th><th>float64</th><th>float64</th><th>float64</th></tr></thead>\n",
       "<tr><td>15699.0</td><td>283.6127</td><td>-20.1692</td><td>-190.14006605</td><td>0.00754346686406</td><td>0.0</td><td>0.0</td><td>337.38</td><td>585.27</td><td>337.38</td><td>584.96</td><td>2014.152054</td></tr>\n",
       "<tr><td>18144.0</td><td>243.488333</td><td>65.719444</td><td>-190.14006605</td><td>0.00754346686406</td><td>0.0</td><td>0.0</td><td>201.73</td><td>477.22</td><td>201.73</td><td>476.91</td><td>2016.213742</td></tr>\n",
       "<tr><td>18145.0</td><td>243.488333</td><td>65.719444</td><td>-190.142580365</td><td>0.0100577821656</td><td>0.0</td><td>0.0</td><td>199.94</td><td>477.1</td><td>199.94</td><td>476.68</td><td>2016.21851</td></tr>\n",
       "<tr><td>18799.0</td><td>243.488333</td><td>65.719444</td><td>-190.142580365</td><td>0.0100577821656</td><td>0.0</td><td>0.0</td><td>196.99</td><td>475.36</td><td>196.99</td><td>474.94</td><td>2016.221493</td></tr>\n",
       "<tr><td>18814.0</td><td>243.488333</td><td>65.719444</td><td>-190.142580365</td><td>0.0100577821656</td><td>0.0</td><td>0.0</td><td>198.31</td><td>476.16</td><td>198.31</td><td>475.74</td><td>2016.215901</td></tr>\n",
       "</table>"
      ],
      "text/plain": [
       "<Table masked=False length=5>\n",
       " obsid   ra_targ    dec_targ     sim_z      ... ap_chipx ap_chipy     year   \n",
       "float64  float64    float64     float64     ... float64  float64    float64  \n",
       "------- ---------- --------- -------------- ... -------- -------- -----------\n",
       "15699.0   283.6127  -20.1692  -190.14006605 ...   337.38   584.96 2014.152054\n",
       "18144.0 243.488333 65.719444  -190.14006605 ...   201.73   476.91 2016.213742\n",
       "18145.0 243.488333 65.719444 -190.142580365 ...   199.94   476.68  2016.21851\n",
       "18799.0 243.488333 65.719444 -190.142580365 ...   196.99   474.94 2016.221493\n",
       "18814.0 243.488333 65.719444 -190.142580365 ...   198.31   475.74 2016.215901"
      ]
     },
     "execution_count": 7,
     "metadata": {},
     "output_type": "execute_result"
    }
   ],
   "source": [
    "dats[-5:]"
   ]
  },
  {
   "cell_type": "code",
   "execution_count": 8,
   "metadata": {
    "collapsed": false
   },
   "outputs": [
    {
     "data": {
      "text/plain": [
       "{'ACIS-I': -233.58743446082869,\n",
       " 'ACIS-S': -190.14258036517339,\n",
       " 'HRC-I': 126.98297998998621,\n",
       " 'HRC-S': 250.46603308020099}"
      ]
     },
     "execution_count": 8,
     "metadata": {},
     "output_type": "execute_result"
    }
   ],
   "source": [
    "# Define nominal SIM-X and Z positions as median observed values\n",
    "\n",
    "sim_z_nom = {'ACIS-S': np.median(dats['sim_z']),\n",
    "             'ACIS-I': np.median(dati['sim_z']),\n",
    "             'HRC-S': np.median(hrcs['sim_z']),\n",
    "             'HRC-I': np.median(hrci['sim_z'])}\n",
    "sim_z_nom"
   ]
  },
  {
   "cell_type": "code",
   "execution_count": null,
   "metadata": {
    "collapsed": true
   },
   "outputs": [],
   "source": []
  },
  {
   "cell_type": "code",
   "execution_count": 9,
   "metadata": {
    "collapsed": false
   },
   "outputs": [],
   "source": [
    "# Use the obspar for each obsid to fill in some additional\n",
    "# columns.  Yag and Zag represent the local frame position\n",
    "# (arcsec) of the target in the nominal frame.\n",
    "\n",
    "noms = ('ra_nom', 'dec_nom', 'roll_nom')\n",
    "for nom in noms:\n",
    "    observations[nom] = 0.0\n",
    "observations['yag'] = 0.0\n",
    "observations['zag'] = 0.0\n",
    "observations['ra_pnt'] = 0.0\n",
    "observations['dec_pnt'] = 0.0\n",
    "observations['detector'] = 'ACIS-S'\n",
    "\n",
    "for obs in observations:\n",
    "    obspar = mica.archive.obspar.get_obspar(obs['obsid'])\n",
    "    for nom in noms:\n",
    "        obs[nom] = obspar[nom]\n",
    "    obs['ra_targ'] = obspar['ra_targ']\n",
    "    obs['dec_targ'] = obspar['dec_targ']\n",
    "    obs['ra_pnt'] = obspar['ra_pnt']\n",
    "    obs['dec_pnt'] = obspar['dec_pnt']\n",
    "    obs['detector'] = obspar['detector']\n",
    "    q_nom = Quat([obs[nom] for nom in noms])\n",
    "    obs['yag'], obs['zag'] = radec2yagzag(obspar['ra_targ'], obspar['dec_targ'], q_nom)\n",
    "\n",
    "observations['yag'] *= 3600\n",
    "observations['zag'] *= 3600"
   ]
  },
  {
   "cell_type": "code",
   "execution_count": 10,
   "metadata": {
    "collapsed": false
   },
   "outputs": [
    {
     "data": {
      "text/html": [
       "&lt;Table masked=False length=10&gt;\n",
       "<table id=\"table139971507897744\">\n",
       "<thead><tr><th>obsid</th><th>ra_targ</th><th>dec_targ</th><th>sim_z</th><th>sim_z_offset</th><th>y_det_offset</th><th>z_det_offset</th><th>dmt_chipx</th><th>dmt_chipy</th><th>ap_chipx</th><th>ap_chipy</th><th>year</th><th>ra_nom</th><th>dec_nom</th><th>roll_nom</th><th>yag</th><th>zag</th><th>ra_pnt</th><th>dec_pnt</th><th>detector</th></tr></thead>\n",
       "<thead><tr><th>float64</th><th>float64</th><th>float64</th><th>float64</th><th>float64</th><th>float64</th><th>float64</th><th>float64</th><th>float64</th><th>float64</th><th>float64</th><th>float64</th><th>float64</th><th>float64</th><th>float64</th><th>float64</th><th>float64</th><th>float64</th><th>float64</th><th>string48</th></tr></thead>\n",
       "<tr><td>10980.0</td><td>219.880833</td><td>-60.833611</td><td>126.98297999</td><td>0.00250890161531</td><td>0.0</td><td>0.0</td><td>7615.16</td><td>7876.76</td><td>7615.44</td><td>7877.04</td><td>2010.337018</td><td>219.889088992</td><td>-60.8351886006</td><td>0.206532993812</td><td>-14.4641698335</td><td>5.73062688131</td><td>219.889088992</td><td>-60.8351886006</td><td>HRC-I</td></tr>\n",
       "<tr><td>10981.0</td><td>219.880833</td><td>-60.833611</td><td>126.98297999</td><td>0.00250890161531</td><td>0.0</td><td>0.0</td><td>7638.94</td><td>7834.59</td><td>7639.22</td><td>7834.87</td><td>2010.809946</td><td>219.871931629</td><td>-60.8332280321</td><td>196.582490367</td><td>-14.5737317164</td><td>5.77938669305</td><td>219.871931629</td><td>-60.8332280321</td><td>HRC-I</td></tr>\n",
       "<tr><td>11808.0</td><td>10.684583</td><td>41.269278</td><td>126.98297999</td><td>0.00250890161531</td><td>0.0</td><td>0.0</td><td>7635.66</td><td>7878.25</td><td>7635.94</td><td>7878.53</td><td>2010.129265</td><td>10.6868073077</td><td>41.265356803</td><td>314.832594874</td><td>-14.2542449954</td><td>5.68438598704</td><td>10.6868073077</td><td>41.265356803</td><td>HRC-I</td></tr>\n",
       "<tr><td>11809.0</td><td>10.684583</td><td>41.269278</td><td>126.98297999</td><td>0.00250890161531</td><td>0.0</td><td>0.0</td><td>7628.63</td><td>7855.13</td><td>7628.91</td><td>7855.41</td><td>2010.157781</td><td>10.6874732103</td><td>41.2655837895</td><td>322.265559712</td><td>-14.3240081833</td><td>5.73171324704</td><td>10.6874732103</td><td>41.2655837895</td><td>HRC-I</td></tr>\n",
       "<tr><td>11819.0</td><td>125.489583</td><td>-43.004361</td><td>126.98297999</td><td>0.00250890161531</td><td>0.0</td><td>0.0</td><td>7629.57</td><td>7878.69</td><td>7629.85</td><td>7878.97</td><td>2010.611007</td><td>125.485042345</td><td>-43.0017377626</td><td>163.423426592</td><td>-14.1516322839</td><td>5.64101063257</td><td>125.485042345</td><td>-43.0017377626</td><td>HRC-I</td></tr>\n",
       "<tr><td>11826.0</td><td>83.866667</td><td>-69.269778</td><td>126.985494305</td><td>-5.41368623885e-06</td><td>0.0</td><td>0.0</td><td>7628.62</td><td>7848.94</td><td>7628.62</td><td>7848.94</td><td>2010.631347</td><td>83.8639574792</td><td>-69.2656814583</td><td>124.901975371</td><td>-14.0705501101</td><td>5.60653768138</td><td>83.8639574792</td><td>-69.2656814583</td><td>HRC-I</td></tr>\n",
       "<tr><td>11889.0</td><td>332.17</td><td>45.742306</td><td>126.98297999</td><td>0.00250890161531</td><td>0.0</td><td>0.0</td><td>7613.93</td><td>7852.01</td><td>7614.21</td><td>7852.29</td><td>2010.73513</td><td>332.164330909</td><td>45.7411506149</td><td>218.755646471</td><td>-13.7110923068</td><td>5.67213116934</td><td>332.164330909</td><td>45.7411506149</td><td>HRC-I</td></tr>\n",
       "<tr><td>11934.0</td><td>199.092083</td><td>29.099</td><td>126.98297999</td><td>0.00250890161531</td><td>0.0</td><td>0.0</td><td>7623.78</td><td>7839.79</td><td>7624.06</td><td>7840.07</td><td>2010.219691</td><td>199.090202789</td><td>29.1029448925</td><td>136.905535769</td><td>-14.0214251323</td><td>6.32964086233</td><td>199.090202789</td><td>29.1029448925</td><td>HRC-I</td></tr>\n",
       "<tr><td>11940.0</td><td>279.235</td><td>38.783778</td><td>126.985494305</td><td>-5.41368623885e-06</td><td>0.0</td><td>0.0</td><td>7626.24</td><td>7856.86</td><td>7626.24</td><td>7856.86</td><td>2010.291473</td><td>279.23564536</td><td>38.7880756891</td><td>107.000625911</td><td>-14.2660694138</td><td>6.25554583972</td><td>279.23564536</td><td>38.7880756891</td><td>HRC-I</td></tr>\n",
       "<tr><td>11945.0</td><td>279.235</td><td>38.783778</td><td>126.985494305</td><td>-5.41368623885e-06</td><td>0.0</td><td>0.0</td><td>7633.72</td><td>7809.83</td><td>7633.72</td><td>7809.83</td><td>2010.536882</td><td>279.229630346</td><td>38.7841065924</td><td>195.37634368</td><td>-14.2156917276</td><td>5.1357289999</td><td>279.229630346</td><td>38.7841065924</td><td>HRC-I</td></tr>\n",
       "</table>"
      ],
      "text/plain": [
       "<Table masked=False length=10>\n",
       " obsid   ra_targ    dec_targ  ...     ra_pnt       dec_pnt     detector\n",
       "float64  float64    float64   ...    float64       float64     string48\n",
       "------- ---------- ---------- ... ------------- -------------- --------\n",
       "10980.0 219.880833 -60.833611 ... 219.889088992 -60.8351886006    HRC-I\n",
       "10981.0 219.880833 -60.833611 ... 219.871931629 -60.8332280321    HRC-I\n",
       "11808.0  10.684583  41.269278 ... 10.6868073077   41.265356803    HRC-I\n",
       "11809.0  10.684583  41.269278 ... 10.6874732103  41.2655837895    HRC-I\n",
       "11819.0 125.489583 -43.004361 ... 125.485042345 -43.0017377626    HRC-I\n",
       "11826.0  83.866667 -69.269778 ... 83.8639574792 -69.2656814583    HRC-I\n",
       "11889.0     332.17  45.742306 ... 332.164330909  45.7411506149    HRC-I\n",
       "11934.0 199.092083     29.099 ... 199.090202789  29.1029448925    HRC-I\n",
       "11940.0    279.235  38.783778 ...  279.23564536  38.7880756891    HRC-I\n",
       "11945.0    279.235  38.783778 ... 279.229630346  38.7841065924    HRC-I"
      ]
     },
     "execution_count": 10,
     "metadata": {},
     "output_type": "execute_result"
    }
   ],
   "source": [
    "ok = observations['detector'] == 'HRC-I'\n",
    "observations[ok][:10]"
   ]
  },
  {
   "cell_type": "code",
   "execution_count": 11,
   "metadata": {
    "collapsed": false
   },
   "outputs": [
    {
     "data": {
      "text/html": [
       "&lt;Table masked=False length=293&gt;\n",
       "<table id=\"table139971077594576\">\n",
       "<thead><tr><th>obsid</th><th>ra_targ</th><th>dec_targ</th><th>sim_z</th><th>sim_z_offset</th><th>y_det_offset</th><th>z_det_offset</th><th>dmt_chipx</th><th>dmt_chipy</th><th>ap_chipx</th><th>ap_chipy</th><th>year</th><th>ra_nom</th><th>dec_nom</th><th>roll_nom</th><th>yag</th><th>zag</th><th>ra_pnt</th><th>dec_pnt</th><th>detector</th></tr></thead>\n",
       "<thead><tr><th>float64</th><th>float64</th><th>float64</th><th>float64</th><th>float64</th><th>float64</th><th>float64</th><th>float64</th><th>float64</th><th>float64</th><th>float64</th><th>float64</th><th>float64</th><th>float64</th><th>float64</th><th>float64</th><th>float64</th><th>float64</th><th>float64</th><th>string48</th></tr></thead>\n",
       "<tr><td>12351.0</td><td>134.773333</td><td>-47.511361</td><td>-190.142580365</td><td>0.0100577821656</td><td>0.0</td><td>0.0</td><td>213.15</td><td>481.91</td><td>213.15</td><td>481.49</td><td>2010.749869</td><td>134.772517852</td><td>-47.5069751289</td><td>118.669699202</td><td>-14.8043348396</td><td>5.83588751136</td><td>134.772517852</td><td>-47.5069751289</td><td>ACIS-S</td></tr>\n",
       "<tr><td>12360.0</td><td>217.403933</td><td>-62.677144</td><td>-190.142580365</td><td>0.0100577821656</td><td>0.0</td><td>0.0</td><td>217.53</td><td>482.22</td><td>217.53</td><td>481.8</td><td>2010.952011</td><td>217.401795404</td><td>-62.6728281746</td><td>124.354134058</td><td>-14.8200754265</td><td>5.85158637411</td><td>217.401795404</td><td>-62.6728281746</td><td>ACIS-S</td></tr>\n",
       "<tr><td>15699.0</td><td>283.6127</td><td>-20.1692</td><td>-190.14006605</td><td>0.00754346686406</td><td>0.0</td><td>0.0</td><td>337.38</td><td>585.27</td><td>337.38</td><td>584.96</td><td>2014.152054</td><td>283.596333638</td><td>-20.1466612318</td><td>93.4326778771</td><td>-84.3081866603</td><td>-50.3482344509</td><td>283.596333638</td><td>-20.1466612318</td><td>ACIS-S</td></tr>\n",
       "<tr><td>18144.0</td><td>243.488333</td><td>65.719444</td><td>-190.14006605</td><td>0.00754346686406</td><td>0.0</td><td>0.0</td><td>201.73</td><td>477.22</td><td>201.73</td><td>476.91</td><td>2016.213742</td><td>243.493434519</td><td>65.7208733936</td><td>105.151971758</td><td>-2.99269562581</td><td>8.63437072007</td><td>243.493434519</td><td>65.7208733936</td><td>ACIS-S</td></tr>\n",
       "<tr><td>18145.0</td><td>243.488333</td><td>65.719444</td><td>-190.142580365</td><td>0.0100577821656</td><td>0.0</td><td>0.0</td><td>199.94</td><td>477.1</td><td>199.94</td><td>476.68</td><td>2016.21851</td><td>243.493480326</td><td>65.7208625844</td><td>105.151925759</td><td>-2.93741258254</td><td>8.68964818806</td><td>243.493480326</td><td>65.7208625844</td><td>ACIS-S</td></tr>\n",
       "<tr><td>18799.0</td><td>243.488333</td><td>65.719444</td><td>-190.142580365</td><td>0.0100577821656</td><td>0.0</td><td>0.0</td><td>196.99</td><td>475.36</td><td>196.99</td><td>474.94</td><td>2016.221493</td><td>243.493444934</td><td>65.7208819429</td><td>105.151946389</td><td>-3.0183759657</td><td>8.65729426372</td><td>243.493444934</td><td>65.7208819429</td><td>ACIS-S</td></tr>\n",
       "<tr><td>18814.0</td><td>243.488333</td><td>65.719444</td><td>-190.142580365</td><td>0.0100577821656</td><td>0.0</td><td>0.0</td><td>198.31</td><td>476.16</td><td>198.31</td><td>475.74</td><td>2016.215901</td><td>243.49349518</td><td>65.7208942328</td><td>105.151903918</td><td>-3.04164029261</td><td>8.74065114484</td><td>243.49349518</td><td>65.7208942328</td><td>ACIS-S</td></tr>\n",
       "<tr><td>11613.0</td><td>39.300417</td><td>-25.426611</td><td>-233.587434461</td><td>-0.005018542101</td><td>0.0</td><td>0.0</td><td>933.74</td><td>997.64</td><td>933.95</td><td>997.64</td><td>2010.801175</td><td>39.3056137487</td><td>-25.4263016358</td><td>25.206436069</td><td>-15.7617197746</td><td>6.18778115069</td><td>39.3056137487</td><td>-25.4263016358</td><td>ACIS-I</td></tr>\n",
       "<tr><td>11625.0</td><td>149.894583</td><td>-5.363611</td><td>-233.587434461</td><td>-0.005018542101</td><td>0.0</td><td>0.0</td><td>936.2</td><td>997.74</td><td>936.41</td><td>997.74</td><td>2010.093325</td><td>149.899269411</td><td>-5.36277802322</td><td>31.4488651615</td><td>-15.8943796702</td><td>6.20545496733</td><td>149.899269411</td><td>-5.36277802322</td><td>ACIS-I</td></tr>\n",
       "<tr><td>11629.0</td><td>153.9075</td><td>-5.562111</td><td>-233.587434461</td><td>-0.005018542101</td><td>0.0</td><td>0.0</td><td>938.17</td><td>995.53</td><td>938.38</td><td>995.53</td><td>2010.095863</td><td>153.912046749</td><td>-5.56090042501</td><td>36.9453538507</td><td>-15.639569797</td><td>6.30883493269</td><td>153.912046749</td><td>-5.56090042501</td><td>ACIS-I</td></tr>\n",
       "<tr><td>...</td><td>...</td><td>...</td><td>...</td><td>...</td><td>...</td><td>...</td><td>...</td><td>...</td><td>...</td><td>...</td><td>...</td><td>...</td><td>...</td><td>...</td><td>...</td><td>...</td><td>...</td><td>...</td><td>...</td></tr>\n",
       "<tr><td>17325.0</td><td>279.235833</td><td>38.78475</td><td>126.98297999</td><td>0.00250890161531</td><td>0.0</td><td>0.0</td><td>7615.6</td><td>7882.19</td><td>7615.88</td><td>7882.47</td><td>2015.513992</td><td>279.230465849</td><td>38.7857235159</td><td>186.293044353</td><td>-14.5865259149</td><td>5.13403408674</td><td>279.230465849</td><td>38.7857235159</td><td>HRC-I</td></tr>\n",
       "<tr><td>17351.0</td><td>332.17</td><td>45.742306</td><td>126.98297999</td><td>0.00250890161531</td><td>0.0</td><td>0.0</td><td>7660.94</td><td>7817.29</td><td>7661.22</td><td>7817.57</td><td>2015.73818</td><td>332.164108309</td><td>45.7406376859</td><td>220.064137145</td><td>-15.1945505451</td><td>4.9304796413</td><td>332.164108309</td><td>45.7406376859</td><td>HRC-I</td></tr>\n",
       "<tr><td>17372.0</td><td>332.17</td><td>45.742306</td><td>126.98297999</td><td>0.00250890161531</td><td>0.0</td><td>0.0</td><td>7636.39</td><td>7918.53</td><td>7636.67</td><td>7918.81</td><td>2015.185475</td><td>332.176541572</td><td>45.7422747019</td><td>20.6434448826</td><td>-15.3397827675</td><td>5.90024595969</td><td>332.176541572</td><td>45.7422747019</td><td>HRC-I</td></tr>\n",
       "<tr><td>17378.0</td><td>199.090417</td><td>29.098306</td><td>126.98297999</td><td>0.00250890161531</td><td>0.0</td><td>0.0</td><td>7602.33</td><td>7911.21</td><td>7602.61</td><td>7911.49</td><td>2015.187584</td><td>199.089159563</td><td>29.1025072807</td><td>125.128606554</td><td>-14.6458462075</td><td>5.46789354648</td><td>199.089159563</td><td>29.1025072807</td><td>HRC-I</td></tr>\n",
       "<tr><td>17395.0</td><td>194.95</td><td>27.966667</td><td>126.98297999</td><td>0.00250890161531</td><td>0.0</td><td>0.0</td><td>7635.38</td><td>7904.06</td><td>7635.66</td><td>7904.34</td><td>2014.890784</td><td>194.954378787</td><td>27.9683957961</td><td>44.3718505381</td><td>-14.304331463</td><td>5.28776020535</td><td>194.954378787</td><td>27.9683957961</td><td>HRC-I</td></tr>\n",
       "<tr><td>17396.0</td><td>194.95</td><td>27.966667</td><td>126.98297999</td><td>0.00250890161531</td><td>0.0</td><td>0.0</td><td>7625.57</td><td>7843.69</td><td>7625.85</td><td>7843.97</td><td>2015.396457</td><td>194.945527476</td><td>27.9648413398</td><td>224.376607829</td><td>-14.7611582222</td><td>5.24778488059</td><td>194.945527476</td><td>27.9648413398</td><td>HRC-I</td></tr>\n",
       "<tr><td>17723.0</td><td>51.080833</td><td>49.861111</td><td>126.98297999</td><td>0.00250890161531</td><td>0.0</td><td>0.0</td><td>7627.09</td><td>7892.74</td><td>7627.37</td><td>7893.02</td><td>2015.976956</td><td>51.0759654024</td><td>49.8581830707</td><td>243.615229424</td><td>-14.4629071888</td><td>5.43521290731</td><td>51.0759654024</td><td>49.8581830707</td><td>HRC-I</td></tr>\n",
       "<tr><td>18304.0</td><td>114.822083</td><td>5.220111</td><td>126.98297999</td><td>0.00250890161531</td><td>0.0</td><td>0.0</td><td>7648.54</td><td>7848.9</td><td>7648.82</td><td>7849.18</td><td>2016.184705</td><td>114.820743318</td><td>5.2161533988</td><td>272.297293957</td><td>-14.0433982834</td><td>5.37009139171</td><td>114.820743318</td><td>5.2161533988</td><td>HRC-I</td></tr>\n",
       "<tr><td>18408.0</td><td>332.17</td><td>45.742306</td><td>126.98297999</td><td>0.00250890161531</td><td>0.0</td><td>0.0</td><td>7658.86</td><td>7873.32</td><td>7659.14</td><td>7873.6</td><td>2016.236853</td><td>332.175238011</td><td>45.7440187543</td><td>44.2191705943</td><td>-13.731267785</td><td>4.75914213825</td><td>332.175238011</td><td>45.7440187543</td><td>HRC-I</td></tr>\n",
       "<tr><td>18414.0</td><td>199.090417</td><td>29.098306</td><td>126.98297999</td><td>0.00250890161531</td><td>0.0</td><td>0.0</td><td>7631.69</td><td>7891.59</td><td>7631.97</td><td>7891.87</td><td>2016.015248</td><td>199.093885388</td><td>29.1014095786</td><td>68.4695509748</td><td>-14.3971410592</td><td>6.0486403219</td><td>199.093885388</td><td>29.1014095786</td><td>HRC-I</td></tr>\n",
       "</table>"
      ],
      "text/plain": [
       "<Table masked=False length=293>\n",
       " obsid   ra_targ    dec_targ  ...     ra_pnt       dec_pnt     detector\n",
       "float64  float64    float64   ...    float64       float64     string48\n",
       "------- ---------- ---------- ... ------------- -------------- --------\n",
       "12351.0 134.773333 -47.511361 ... 134.772517852 -47.5069751289   ACIS-S\n",
       "12360.0 217.403933 -62.677144 ... 217.401795404 -62.6728281746   ACIS-S\n",
       "15699.0   283.6127   -20.1692 ... 283.596333638 -20.1466612318   ACIS-S\n",
       "18144.0 243.488333  65.719444 ... 243.493434519  65.7208733936   ACIS-S\n",
       "18145.0 243.488333  65.719444 ... 243.493480326  65.7208625844   ACIS-S\n",
       "18799.0 243.488333  65.719444 ... 243.493444934  65.7208819429   ACIS-S\n",
       "18814.0 243.488333  65.719444 ...  243.49349518  65.7208942328   ACIS-S\n",
       "11613.0  39.300417 -25.426611 ... 39.3056137487 -25.4263016358   ACIS-I\n",
       "11625.0 149.894583  -5.363611 ... 149.899269411 -5.36277802322   ACIS-I\n",
       "11629.0   153.9075  -5.562111 ... 153.912046749 -5.56090042501   ACIS-I\n",
       "    ...        ...        ... ...           ...            ...      ...\n",
       "17325.0 279.235833   38.78475 ... 279.230465849  38.7857235159    HRC-I\n",
       "17351.0     332.17  45.742306 ... 332.164108309  45.7406376859    HRC-I\n",
       "17372.0     332.17  45.742306 ... 332.176541572  45.7422747019    HRC-I\n",
       "17378.0 199.090417  29.098306 ... 199.089159563  29.1025072807    HRC-I\n",
       "17395.0     194.95  27.966667 ... 194.954378787  27.9683957961    HRC-I\n",
       "17396.0     194.95  27.966667 ... 194.945527476  27.9648413398    HRC-I\n",
       "17723.0  51.080833  49.861111 ... 51.0759654024  49.8581830707    HRC-I\n",
       "18304.0 114.822083   5.220111 ... 114.820743318   5.2161533988    HRC-I\n",
       "18408.0     332.17  45.742306 ... 332.175238011  45.7440187543    HRC-I\n",
       "18414.0 199.090417  29.098306 ... 199.093885388  29.1014095786    HRC-I"
      ]
     },
     "execution_count": 11,
     "metadata": {},
     "output_type": "execute_result"
    }
   ],
   "source": [
    "observations"
   ]
  },
  {
   "cell_type": "code",
   "execution_count": 12,
   "metadata": {
    "collapsed": false
   },
   "outputs": [
    {
     "data": {
      "text/html": [
       "&lt;Table masked=False length=5&gt;\n",
       "<table id=\"table139971507898640\">\n",
       "<thead><tr><th>obsid</th><th>ra_targ</th><th>dec_targ</th><th>ra_pnt</th><th>dec_pnt</th><th>ra_nom</th><th>dec_nom</th><th>roll_nom</th><th>yag</th><th>zag</th></tr></thead>\n",
       "<thead><tr><th>float64</th><th>float64</th><th>float64</th><th>float64</th><th>float64</th><th>float64</th><th>float64</th><th>float64</th><th>float64</th><th>float64</th></tr></thead>\n",
       "<tr><td>12351.0</td><td>134.773333</td><td>-47.511361</td><td>134.772517852</td><td>-47.5069751289</td><td>134.772517852</td><td>-47.5069751289</td><td>118.669699202</td><td>-14.8043348396</td><td>5.83588751136</td></tr>\n",
       "<tr><td>12360.0</td><td>217.403933</td><td>-62.677144</td><td>217.401795404</td><td>-62.6728281746</td><td>217.401795404</td><td>-62.6728281746</td><td>124.354134058</td><td>-14.8200754265</td><td>5.85158637411</td></tr>\n",
       "<tr><td>15699.0</td><td>283.6127</td><td>-20.1692</td><td>283.596333638</td><td>-20.1466612318</td><td>283.596333638</td><td>-20.1466612318</td><td>93.4326778771</td><td>-84.3081866603</td><td>-50.3482344509</td></tr>\n",
       "<tr><td>18144.0</td><td>243.488333</td><td>65.719444</td><td>243.493434519</td><td>65.7208733936</td><td>243.493434519</td><td>65.7208733936</td><td>105.151971758</td><td>-2.99269562581</td><td>8.63437072007</td></tr>\n",
       "<tr><td>18145.0</td><td>243.488333</td><td>65.719444</td><td>243.493480326</td><td>65.7208625844</td><td>243.493480326</td><td>65.7208625844</td><td>105.151925759</td><td>-2.93741258254</td><td>8.68964818806</td></tr>\n",
       "</table>"
      ],
      "text/plain": [
       "<Table masked=False length=5>\n",
       " obsid   ra_targ    dec_targ  ...    roll_nom        yag            zag      \n",
       "float64  float64    float64   ...    float64       float64        float64    \n",
       "------- ---------- ---------- ... ------------- -------------- --------------\n",
       "12351.0 134.773333 -47.511361 ... 118.669699202 -14.8043348396  5.83588751136\n",
       "12360.0 217.403933 -62.677144 ... 124.354134058 -14.8200754265  5.85158637411\n",
       "15699.0   283.6127   -20.1692 ... 93.4326778771 -84.3081866603 -50.3482344509\n",
       "18144.0 243.488333  65.719444 ... 105.151971758 -2.99269562581  8.63437072007\n",
       "18145.0 243.488333  65.719444 ... 105.151925759 -2.93741258254  8.68964818806"
      ]
     },
     "execution_count": 12,
     "metadata": {},
     "output_type": "execute_result"
    }
   ],
   "source": [
    "# Look at key columns for the first few obsids\n",
    "\n",
    "observations[('obsid', 'ra_targ', 'dec_targ') +\n",
    "             ('ra_pnt', 'dec_pnt') +\n",
    "             noms + ('yag', 'zag')][:5]"
   ]
  },
  {
   "cell_type": "code",
   "execution_count": 13,
   "metadata": {
    "collapsed": false
   },
   "outputs": [],
   "source": [
    "def plot_yag_zag(observations, det):\n",
    "    \"\"\"\n",
    "    Plot the local target position in Yag, Zag coordinates\n",
    "    (referenced to the nominal frame).\n",
    "    \"\"\"\n",
    "    ok = observations['detector'] == det\n",
    "    plt.plot(observations['yag'][ok], observations['zag'][ok], '.')\n",
    "    plt.xlim(-18, -12)\n",
    "    plt.ylim(4, 8)\n",
    "    plt.grid()\n",
    "    plt.title(det)\n",
    "    plt.ylabel('zag (arcsec)')\n",
    "    plt.xlabel('yag (arcsec)')"
   ]
  },
  {
   "cell_type": "code",
   "execution_count": 14,
   "metadata": {
    "collapsed": false
   },
   "outputs": [
    {
     "data": {
      "image/png": "[encoded data removed]",
      "text/plain": [
       "<matplotlib.figure.Figure at 0x7f4da801c110>"
      ]
     },
     "metadata": {},
     "output_type": "display_data"
    }
   ],
   "source": [
    "# Now we are convinced that there is a predictable offset\n",
    "# between the target coordinate and the nominal frame.\n",
    "\n",
    "plt.figure(figsize=(12,4))\n",
    "plt.subplot(1, 2, 1)\n",
    "plot_yag_zag(observations, 'ACIS-S')\n",
    "plt.subplot(1, 2, 2)\n",
    "plot_yag_zag(observations, 'ACIS-I')\n"
   ]
  },
  {
   "cell_type": "code",
   "execution_count": 15,
   "metadata": {
    "collapsed": false
   },
   "outputs": [
    {
     "data": {
      "text/plain": [
       "array([-15.5       ,   6.00000002])"
      ]
     },
     "execution_count": 15,
     "metadata": {},
     "output_type": "execute_result"
    }
   ],
   "source": [
    "# Define a fake nominal frame as ra, dec, roll = 0.\n",
    "# Then define a \"zero\" target location ra0, dec0 that has\n",
    "# the same Yag, Zag values \n",
    "\n",
    "q0 = Quat([0, 0, 0])\n",
    "ra0, dec0 = -15.5 / 3600., 6.0 / 3600.\n",
    "np.array(radec2yagzag(ra0, dec0, q0)) * 3600."
   ]
  },
  {
   "cell_type": "markdown",
   "metadata": {},
   "source": [
    "### Where does this -15, 6 arcsec offset come from?\n",
    "\n",
    "It's basically the difference between two rotation matrices in our system:\n",
    "\n",
    "- `ACA_MISALIGN`: MNC (HRMA optical axis) to ACA frame misalignment.\n",
    "- `ODB_SI_ALIGN`: Misalignment used to transform from science target coordinates to ACA (PCAD) pointing direction that gets used on-board.\n",
    "\n",
    "My recollection is that the fact that these are not the same is a relic of a decision during OAC, but I'm not entirely certain of that."
   ]
  },
  {
   "cell_type": "code",
   "execution_count": 16,
   "metadata": {
    "collapsed": false
   },
   "outputs": [],
   "source": [
    "\n",
    "calalign = Table.read('/soft/ciao/CALDB/data/chandra/pcad/align/pcadD2012-09-13alignN0009.fits',\n",
    "                     hdu='CALALIGN')"
   ]
  },
  {
   "cell_type": "code",
   "execution_count": 17,
   "metadata": {
    "collapsed": false,
    "scrolled": true
   },
   "outputs": [
    {
     "data": {
      "text/html": [
       "&lt;Table masked=False length=4&gt;\n",
       "<table id=\"table139971074084368\">\n",
       "<thead><tr><th>INSTR_ID</th><th>ACA_SC_ALIGN [3,3]</th><th>ACA_MISALIGN [3,3]</th><th>FTS_MISALIGN [3,3]</th><th>LSI0_STT [3]</th><th>RRC0_FC_X</th></tr></thead>\n",
       "<thead><tr><th></th><th></th><th></th><th></th><th>mm</th><th>mm</th></tr></thead>\n",
       "<thead><tr><th>string72</th><th>float64</th><th>float64</th><th>float64</th><th>float64</th><th>float64</th></tr></thead>\n",
       "<tr><td>ACIS-S</td><td>1.0 .. 1.0</td><td>0.999999885766 .. 0.999996233612</td><td>0.999999987092 .. 0.999995726325</td><td>0.0 .. 190.5</td><td>10065.5117188</td></tr>\n",
       "<tr><td>ACIS-I</td><td>1.0 .. 1.0</td><td>0.999999884457 .. 0.999993337636</td><td>0.99999998528 .. 0.999989507649</td><td>0.0 .. 237.4</td><td>10065.5117188</td></tr>\n",
       "<tr><td>HRC-S</td><td>1.0 .. 1.0</td><td>0.999999873574 .. 0.999999272401</td><td>0.99999998383 .. 0.99999703533</td><td>0.0 .. -250.1</td><td>10065.5117188</td></tr>\n",
       "<tr><td>HRC-I</td><td>1.0 .. 1.0</td><td>0.999999886877 .. 0.999998580823</td><td>0.999999980036 .. 0.999996258348</td><td>0.0 .. -126.6</td><td>10065.5117188</td></tr>\n",
       "</table>"
      ],
      "text/plain": [
       "<Table masked=False length=4>\n",
       " INSTR_ID ACA_SC_ALIGN [3,3] ...  LSI0_STT [3]   RRC0_FC_X  \n",
       "                             ...       mm            mm     \n",
       " string72      float64       ...    float64       float64   \n",
       "--------- ------------------ ... ------------- -------------\n",
       "ACIS-S            1.0 .. 1.0 ...  0.0 .. 190.5 10065.5117188\n",
       "ACIS-I            1.0 .. 1.0 ...  0.0 .. 237.4 10065.5117188\n",
       "HRC-S             1.0 .. 1.0 ... 0.0 .. -250.1 10065.5117188\n",
       "HRC-I             1.0 .. 1.0 ... 0.0 .. -126.6 10065.5117188"
      ]
     },
     "execution_count": 17,
     "metadata": {},
     "output_type": "execute_result"
    }
   ],
   "source": [
    "calalign"
   ]
  },
  {
   "cell_type": "code",
   "execution_count": 18,
   "metadata": {
    "collapsed": false
   },
   "outputs": [
    {
     "name": "stdout",
     "output_type": "stream",
     "text": [
      "dy = -84.76 arcsec, dz = -50.36 arcsec\n"
     ]
    }
   ],
   "source": [
    "# ACIS-S misalign in arcsec (pay attention to elements in row 0, columns 1 & 2)\n",
    "dy, dz = np.degrees(calalign['ACA_MISALIGN'][0][0, [1,2]]) * 3600\n",
    "print('dy = {:.2f} arcsec, dz = {:.2f} arcsec'.format(dy, dz))"
   ]
  },
  {
   "cell_type": "code",
   "execution_count": 19,
   "metadata": {
    "collapsed": false
   },
   "outputs": [
    {
     "name": "stdout",
     "output_type": "stream",
     "text": [
      "dy = -85.73 arcsec, dz = -49.82 arcsec\n"
     ]
    }
   ],
   "source": [
    "# ACIS-I misalign in arcsec (pay attention to elements in row 0, columns 1 & 2)\n",
    "dy, dz = np.degrees(calalign['ACA_MISALIGN'][1][0, [1,2]]) * 3600\n",
    "print('dy = {:.2f} arcsec, dz = {:.2f} arcsec'.format(dy, dz))"
   ]
  },
  {
   "cell_type": "markdown",
   "metadata": {},
   "source": [
    "### Residual of ACA_MISALIGN * ODB_SI_ALIGN matches observed Yag, Zag values!\n",
    "\n",
    "(Reasonably well)."
   ]
  },
  {
   "cell_type": "code",
   "execution_count": 20,
   "metadata": {
    "collapsed": false
   },
   "outputs": [],
   "source": [
    "ODB_SI_ALIGN  = np.array([[1.0, 3.3742E-4, 2.7344E-4],                    \n",
    "                          [-3.3742E-4, 1.0, 0.0],          \n",
    "                          [-2.7344E-4, 0.0, 1.0]])"
   ]
  },
  {
   "cell_type": "code",
   "execution_count": 21,
   "metadata": {
    "collapsed": false
   },
   "outputs": [
    {
     "name": "stdout",
     "output_type": "stream",
     "text": [
      "dy = -15.16 arcsec, dz = 6.04 arcsec\n"
     ]
    }
   ],
   "source": [
    "# ACA_MISALIGN * ODB_SI_ALIGN delta alignment (ACIS-S)\n",
    "dy, dz = np.degrees(calalign['ACA_MISALIGN'][0].dot(ODB_SI_ALIGN)[0, [1,2]]) * 3600\n",
    "print('dy = {:.2f} arcsec, dz = {:.2f} arcsec'.format(dy, dz))"
   ]
  },
  {
   "cell_type": "code",
   "execution_count": 22,
   "metadata": {
    "collapsed": false
   },
   "outputs": [
    {
     "name": "stdout",
     "output_type": "stream",
     "text": [
      "dy = -16.13 arcsec, dz = 6.58 arcsec\n"
     ]
    }
   ],
   "source": [
    "# ACA_MISALIGN * ODB_SI_ALIGN delta alignment (ACIS-I)\n",
    "dy, dz = np.degrees(calalign['ACA_MISALIGN'][1].dot(ODB_SI_ALIGN)[0, [1,2]]) * 3600\n",
    "print('dy = {:.2f} arcsec, dz = {:.2f} arcsec'.format(dy, dz))"
   ]
  },
  {
   "cell_type": "code",
   "execution_count": 23,
   "metadata": {
    "collapsed": false
   },
   "outputs": [
    {
     "data": {
      "text/plain": [
       "[<matplotlib.lines.Line2D at 0x7f4d8e1a7910>]"
      ]
     },
     "execution_count": 23,
     "metadata": {},
     "output_type": "execute_result"
    },
    {
     "data": {
      "image/png": "[encoded data removed]",
      "text/plain": [
       "<matplotlib.figure.Figure at 0x7f4d8e465290>"
      ]
     },
     "metadata": {},
     "output_type": "display_data"
    }
   ],
   "source": [
    "plt.figure(figsize=(12,4))\n",
    "plt.subplot(1, 2, 1)\n",
    "plot_yag_zag(observations, 'ACIS-S')\n",
    "plt.plot([-15.16], [6.04], 'or')\n",
    "plt.subplot(1, 2, 2)\n",
    "plot_yag_zag(observations, 'ACIS-I')\n",
    "plt.plot([-16.13], [6.58], 'or')\n"
   ]
  },
  {
   "cell_type": "markdown",
   "metadata": {},
   "source": [
    "### Use dmcoords to relate detector, dy, dz to chipx, chipy\n",
    "\n",
    "This will be an approximation that applies over small displacements (of order 100 pixels)."
   ]
  },
  {
   "cell_type": "code",
   "execution_count": 24,
   "metadata": {
    "collapsed": true
   },
   "outputs": [],
   "source": [
    "ciaoenv = Ska.Shell.getenv('source /soft/ciao/bin/ciao.sh')"
   ]
  },
  {
   "cell_type": "code",
   "execution_count": 25,
   "metadata": {
    "collapsed": true
   },
   "outputs": [],
   "source": [
    "dmcoords_cmd = ['dmcoords', 'none',\n",
    "                'asolfile=none',\n",
    "                'detector=\"{detector}\"',\n",
    "                'opt=cel',\n",
    "                'ra={ra}', \n",
    "                'dec={dec}',\n",
    "                'celfmt=deg', \n",
    "                'ra_nom=0',\n",
    "                'dec_nom=0',\n",
    "                'roll_nom=0',  \n",
    "                'ra_asp=\")ra_nom\"',\n",
    "                'dec_asp=\")dec_nom\"',\n",
    "                'roll_asp=\")roll_nom\"',      \n",
    "                'sim=\"{simx} 0 {simz}\"',\n",
    "                'displace=\"0 {dy} {dz} 0 0 0\"',       \n",
    "                'verbose=0']\n",
    "dmcoords_cmd = ' '.join(dmcoords_cmd)"
   ]
  },
  {
   "cell_type": "code",
   "execution_count": 26,
   "metadata": {
    "collapsed": true
   },
   "outputs": [],
   "source": [
    "ciaorun = functools.partial(Ska.Shell.bash, env=ciaoenv)"
   ]
  },
  {
   "cell_type": "code",
   "execution_count": 96,
   "metadata": {
    "collapsed": false
   },
   "outputs": [],
   "source": [
    "def dmcoords_chipx_chipy(det, dy, dz):\n",
    "    \"\"\"\n",
    "    Get the dmcoords-computed chipx and chipy for given detector and\n",
    "    aspect solution DY and DZ values.  NOTE: the ``dy`` and ``dz`` inputs\n",
    "    to dmcoords are flipped in sign from the ASOL values.  Generally the\n",
    "    ASOL DY/DZ are positive and dmcoord input values are negative.  This\n",
    "    sign flip is handled *here*, so input to this is ASOL DY/DZ.\n",
    "    \n",
    "    :param det: detector (ACIS-S, ACIS-I, HRC-S, HRC-I)\n",
    "    :param dy: aspect solution DY value (mm)\n",
    "    :param dz: aspect solution DZ value (mm)\n",
    "    \"\"\"\n",
    "    ra0, dec0 = -15.5 / 3600., 6.0 / 3600.\n",
    "    ciaorun('punlearn dmcoords')\n",
    "    cmd = dmcoords_cmd.format(ra=ra0, dec=dec0,\n",
    "                                detector=(det if det.startswith('HRC') else 'ACIS'),\n",
    "                                simx=sim_x_nom[det], simz=sim_z_nom[det],\n",
    "                                dy=-dy, dz=-dz)\n",
    "    print(cmd)\n",
    "    ciaorun(cmd)\n",
    "    return [float(x) for x in ciaorun('pget dmcoords chipx chipy chip_id')]"
   ]
  },
  {
   "cell_type": "code",
   "execution_count": 28,
   "metadata": {
    "collapsed": true
   },
   "outputs": [],
   "source": [
    "def get_dy_dz(obsid):\n",
    "    asolfiles = asp_l1.get_files(obsid=obsid, content=['ASPSOL'])\n",
    "    asol = Table.read(asolfiles[0])\n",
    "    min_dy, median_dy, max_dy = (np.min(asol['dy']), \n",
    "                              np.median(asol['dy']),\n",
    "                              np.max(asol['dy']))\n",
    "    min_dz, median_dz, max_dz = (np.min(asol['dz']), \n",
    "                              np.median(asol['dz']),\n",
    "                              np.max(asol['dz']))\n",
    "    return min_dy, median_dy, max_dy, min_dz, median_dz, max_dz                                 "
   ]
  },
  {
   "cell_type": "code",
   "execution_count": 92,
   "metadata": {
    "collapsed": false
   },
   "outputs": [
    {
     "name": "stdout",
     "output_type": "stream",
     "text": [
      "dmcoords none asolfile=none detector=\"HRC-I\" opt=cel ra=-0.00430555555556 dec=0.00166666666667 celfmt=deg ra_nom=0 dec_nom=0 roll_nom=0 ra_asp=\")ra_nom\" dec_asp=\")dec_nom\" roll_asp=\")roll_nom\" sim=\"-0.68 0 126.98297999\" displace=\"0 0 0 0 0 0\" verbose=0\n"
     ]
    },
    {
     "data": {
      "text/plain": [
       "[-9830.77011598587, 7730.981441112255, 0.0]"
      ]
     },
     "execution_count": 92,
     "metadata": {},
     "output_type": "execute_result"
    }
   ],
   "source": [
    "dmcoords_chipx_chipy('HRC-I', 0, 0)"
   ]
  },
  {
   "cell_type": "code",
   "execution_count": 30,
   "metadata": {
    "collapsed": false
   },
   "outputs": [
    {
     "data": {
      "text/html": [
       "&lt;Table masked=False length=4&gt;\n",
       "<table id=\"table139971074970448\">\n",
       "<thead><tr><th>obsid</th><th>year</th></tr></thead>\n",
       "<thead><tr><th>float64</th><th>float64</th></tr></thead>\n",
       "<tr><td>11613.0</td><td>2010.801175</td></tr>\n",
       "<tr><td>11625.0</td><td>2010.093325</td></tr>\n",
       "<tr><td>11629.0</td><td>2010.095863</td></tr>\n",
       "<tr><td>11637.0</td><td>2010.096049</td></tr>\n",
       "</table>"
      ],
      "text/plain": [
       "<Table masked=False length=4>\n",
       " obsid      year   \n",
       "float64   float64  \n",
       "------- -----------\n",
       "11613.0 2010.801175\n",
       "11625.0 2010.093325\n",
       "11629.0 2010.095863\n",
       "11637.0 2010.096049"
      ]
     },
     "execution_count": 30,
     "metadata": {},
     "output_type": "execute_result"
    }
   ],
   "source": [
    "dati['obsid', 'year'][:4]"
   ]
  },
  {
   "cell_type": "code",
   "execution_count": 95,
   "metadata": {
    "collapsed": false,
    "scrolled": true
   },
   "outputs": [
    {
     "name": "stdout",
     "output_type": "stream",
     "text": [
      "dmcoords none asolfile=none detector=\"ACIS\" opt=cel ra=-0.00430555555556 dec=0.00166666666667 celfmt=deg ra_nom=0 dec_nom=0 roll_nom=0 ra_asp=\")ra_nom\" dec_asp=\")dec_nom\" roll_asp=\")roll_nom\" sim=\"-0.68 0 -233.587434461\" displace=\"0 -0.420609921217 -0.598723948002 0 0 0\" verbose=0\n",
      "[946.9212165278603, 980.6656784373248, 3.0]\n"
     ]
    }
   ],
   "source": [
    "min_dy, median_dy, max_dy, min_dz, median_dz, max_dz = get_dy_dz(5480)\n",
    "print dmcoords_chipx_chipy(det='ACIS-I', dy=median_dy, dz=median_dz)"
   ]
  },
  {
   "cell_type": "code",
   "execution_count": 35,
   "metadata": {
    "collapsed": false
   },
   "outputs": [
    {
     "data": {
      "text/html": [
       "&lt;Table masked=False length=4&gt;\n",
       "<table id=\"table139971069216016\">\n",
       "<thead><tr><th>obsid</th><th>year</th></tr></thead>\n",
       "<thead><tr><th>float64</th><th>float64</th></tr></thead>\n",
       "<tr><td>12351.0</td><td>2010.749869</td></tr>\n",
       "<tr><td>12360.0</td><td>2010.952011</td></tr>\n",
       "<tr><td>15699.0</td><td>2014.152054</td></tr>\n",
       "<tr><td>18144.0</td><td>2016.213742</td></tr>\n",
       "</table>"
      ],
      "text/plain": [
       "<Table masked=False length=4>\n",
       " obsid      year   \n",
       "float64   float64  \n",
       "------- -----------\n",
       "12351.0 2010.749869\n",
       "12360.0 2010.952011\n",
       "15699.0 2014.152054\n",
       "18144.0 2016.213742"
      ]
     },
     "execution_count": 35,
     "metadata": {},
     "output_type": "execute_result"
    }
   ],
   "source": [
    "dats['obsid', 'year'][:4]"
   ]
  },
  {
   "cell_type": "code",
   "execution_count": 36,
   "metadata": {
    "collapsed": false
   },
   "outputs": [
    {
     "name": "stdout",
     "output_type": "stream",
     "text": [
      "dmcoords none asolfile=none detector=\"ACIS\" opt=cel ra=-0.00430555555556 dec=0.00166666666667 celfmt=deg ra_nom=0 dec_nom=0 roll_nom=0 ra_asp=\")ra_nom\" dec_asp=\")dec_nom\" roll_asp=\")roll_nom\" sim=\"-0.68 0 -190.142580365\" displace=\"0 -0.436500787735 -0.647037029266 0 0 0\" verbose=0\n",
      "[234.0630026018012, 493.0024392046939, 7.0]\n"
     ]
    }
   ],
   "source": [
    "min_dy, median_dy, max_dy, min_dz, median_dz, max_dz = get_dy_dz(6730)\n",
    "print dmcoords_chipx_chipy(det='ACIS-S', dy=median_dy, dz=median_dz)"
   ]
  },
  {
   "cell_type": "markdown",
   "metadata": {},
   "source": [
    "### DY and DZ correspond to adding values to Y_A and Z_A\n",
    "\n",
    "<img src=\"http://cxc.harvard.edu/proposer/POG/html/images/simc.png\">"
   ]
  },
  {
   "cell_type": "code",
   "execution_count": 97,
   "metadata": {
    "collapsed": false
   },
   "outputs": [
    {
     "name": "stdout",
     "output_type": "stream",
     "text": [
      "dmcoords none asolfile=none detector=\"ACIS\" opt=cel ra=-0.00430555555556 dec=0.00166666666667 celfmt=deg ra_nom=0 dec_nom=0 roll_nom=0 ra_asp=\")ra_nom\" dec_asp=\")dec_nom\" roll_asp=\")roll_nom\" sim=\"-0.68 0 -233.587434461\" displace=\"0 10.0 10.0 0 0 0\" verbose=0\n"
     ]
    },
    {
     "data": {
      "text/plain": [
       "[342.3181282064434, 545.2645632588228, 1.0]"
      ]
     },
     "execution_count": 97,
     "metadata": {},
     "output_type": "execute_result"
    }
   ],
   "source": [
    "dmcoords_chipx_chipy(det='ACIS-I', dy=-10.0, dz=-10.0)"
   ]
  },
  {
   "cell_type": "code",
   "execution_count": 98,
   "metadata": {
    "collapsed": false
   },
   "outputs": [
    {
     "name": "stdout",
     "output_type": "stream",
     "text": [
      "dmcoords none asolfile=none detector=\"ACIS\" opt=cel ra=-0.00430555555556 dec=0.00166666666667 celfmt=deg ra_nom=0 dec_nom=0 roll_nom=0 ra_asp=\")ra_nom\" dec_asp=\")dec_nom\" roll_asp=\")roll_nom\" sim=\"-0.68 0 -233.587434461\" displace=\"0 -10.0 -10.0 0 0 0\" verbose=0\n"
     ]
    },
    {
     "data": {
      "text/plain": [
       "[470.7569583523996, 690.4237024391731, 2.0]"
      ]
     },
     "execution_count": 98,
     "metadata": {},
     "output_type": "execute_result"
    }
   ],
   "source": [
    "dmcoords_chipx_chipy(det='ACIS-I', dy=10.0, dz=10.0)"
   ]
  },
  {
   "cell_type": "code",
   "execution_count": 99,
   "metadata": {
    "collapsed": false
   },
   "outputs": [
    {
     "name": "stdout",
     "output_type": "stream",
     "text": [
      "dmcoords none asolfile=none detector=\"ACIS\" opt=cel ra=-0.00430555555556 dec=0.00166666666667 celfmt=deg ra_nom=0 dec_nom=0 roll_nom=0 ra_asp=\")ra_nom\" dec_asp=\")dec_nom\" roll_asp=\")roll_nom\" sim=\"-0.68 0 -233.587434461\" displace=\"0 -10.0 10.0 0 0 0\" verbose=0\n"
     ]
    },
    {
     "data": {
      "text/plain": [
       "[682.2762748605664, 690.5169906148068, 0.0]"
      ]
     },
     "execution_count": 99,
     "metadata": {},
     "output_type": "execute_result"
    }
   ],
   "source": [
    "dmcoords_chipx_chipy(det='ACIS-I', dy=10.0, dz=-10.0)"
   ]
  },
  {
   "cell_type": "code",
   "execution_count": 100,
   "metadata": {
    "collapsed": false
   },
   "outputs": [
    {
     "name": "stdout",
     "output_type": "stream",
     "text": [
      "dmcoords none asolfile=none detector=\"ACIS\" opt=cel ra=-0.00430555555556 dec=0.00166666666667 celfmt=deg ra_nom=0 dec_nom=0 roll_nom=0 ra_asp=\")ra_nom\" dec_asp=\")dec_nom\" roll_asp=\")roll_nom\" sim=\"-0.68 0 -233.587434461\" displace=\"0 10.0 -10.0 0 0 0\" verbose=0\n"
     ]
    },
    {
     "data": {
      "text/plain": [
       "[554.5065731372622, 544.7118661806131, 3.0]"
      ]
     },
     "execution_count": 100,
     "metadata": {},
     "output_type": "execute_result"
    }
   ],
   "source": [
    "dmcoords_chipx_chipy(det='ACIS-I', dy=-10.0, dz=10.0)"
   ]
  },
  {
   "cell_type": "code",
   "execution_count": 46,
   "metadata": {
    "collapsed": true
   },
   "outputs": [],
   "source": [
    "def xform(pars, x):\n",
    "    c0x, c0y, cyx, czx, cyy, czy = pars\n",
    "    c0 = np.array([[c0x],\n",
    "                   [c0y]])\n",
    "    cyz = np.array([[cyx, czx],\n",
    "                    [cyy, czy]])\n",
    "    x = np.array(x).reshape(-1, 2).transpose()\n",
    "    y = c0 + cyz.dot(x)\n",
    "    return y.transpose().flatten()"
   ]
  },
  {
   "cell_type": "code",
   "execution_count": 47,
   "metadata": {
    "collapsed": false
   },
   "outputs": [
    {
     "name": "stdout",
     "output_type": "stream",
     "text": [
      "[  930.17  1004.81   930.17   963.07   888.43  1004.81]\n"
     ]
    }
   ],
   "source": [
    "pars = [971.91, 963.07, 0.0, +41.74, -41.74, 0.0]\n",
    "x = [-1, -1, 0, -1, -1, -2.0]\n",
    "# x = [-1, -1]\n",
    "print xform(pars, x)"
   ]
  },
  {
   "cell_type": "code",
   "execution_count": 48,
   "metadata": {
    "collapsed": true
   },
   "outputs": [],
   "source": [
    "from sherpa import ui\n",
    "import logging\n",
    "logging.disable(50)"
   ]
  },
  {
   "cell_type": "code",
   "execution_count": 76,
   "metadata": {
    "collapsed": false
   },
   "outputs": [],
   "source": [
    "def fit_xform(det, chip_id, dy0, dz0):\n",
    "    det = det.upper()\n",
    "    x = []\n",
    "    y = []\n",
    "    for ddy, ddz in ((0, 0), (1, 0), (0, 1)):\n",
    "        dy = dy0 + ddy\n",
    "        dz = dz0 + ddz\n",
    "        cx, cy, cid = dmcoords_chipx_chipy(det, dy, dz)\n",
    "        if cid != chip_id:\n",
    "            raise ValueError('Chip mismatch {} != {}'.format(cid, chip_id))\n",
    "        x.extend([dy, dz])\n",
    "        y.extend([cx, cy])\n",
    "    ui.load_arrays(1, np.array(x), np.array(y))\n",
    "    ui.load_user_model(xform, 'xform_mdl')\n",
    "    ui.add_user_pars('xform_mdl', ['c0x', 'c0y', 'cyx', 'czx', 'cyy', 'czy'])\n",
    "    ui.set_model(xform_mdl)\n",
    "    ui.fit()\n",
    "    \n",
    "    return ui.get_fit_results()"
   ]
  },
  {
   "cell_type": "code",
   "execution_count": 101,
   "metadata": {
    "collapsed": false
   },
   "outputs": [
    {
     "name": "stdout",
     "output_type": "stream",
     "text": [
      "dmcoords none asolfile=none detector=\"ACIS\" opt=cel ra=-0.00430555555556 dec=0.00166666666667 celfmt=deg ra_nom=0 dec_nom=0 roll_nom=0 ra_asp=\")ra_nom\" dec_asp=\")dec_nom\" roll_asp=\")roll_nom\" sim=\"-0.68 0 -233.587434461\" displace=\"0 -0.0 -0.0 0 0 0\" verbose=0\n",
      "dmcoords none asolfile=none detector=\"ACIS\" opt=cel ra=-0.00430555555556 dec=0.00166666666667 celfmt=deg ra_nom=0 dec_nom=0 roll_nom=0 ra_asp=\")ra_nom\" dec_asp=\")dec_nom\" roll_asp=\")roll_nom\" sim=\"-0.68 0 -233.587434461\" displace=\"0 -1.0 -0.0 0 0 0\" verbose=0\n",
      "dmcoords none asolfile=none detector=\"ACIS\" opt=cel ra=-0.00430555555556 dec=0.00166666666667 celfmt=deg ra_nom=0 dec_nom=0 roll_nom=0 ra_asp=\")ra_nom\" dec_asp=\")dec_nom\" roll_asp=\")roll_nom\" sim=\"-0.68 0 -233.587434461\" displace=\"0 -0.0 -1.0 0 0 0\" verbose=0\n"
     ]
    }
   ],
   "source": [
    "fr = fit_xform('ACIS-I', 3, 0.0, 0.0)"
   ]
  },
  {
   "cell_type": "code",
   "execution_count": 103,
   "metadata": {
    "collapsed": false
   },
   "outputs": [
    {
     "data": {
      "text/plain": [
       "(971.91338185545169,\n",
       " 963.17127135867679,\n",
       " -0.0010007356321284501,\n",
       " -41.741681607451795,\n",
       " 41.741548160198207,\n",
       " -0.10439235760838411)"
      ]
     },
     "execution_count": 103,
     "metadata": {},
     "output_type": "execute_result"
    }
   ],
   "source": [
    "fr.parvals"
   ]
  },
  {
   "cell_type": "code",
   "execution_count": 52,
   "metadata": {
    "collapsed": false
   },
   "outputs": [
    {
     "name": "stdout",
     "output_type": "stream",
     "text": [
      "dmcoords none asolfile=none detector=\"HRC-I\" opt=cel ra=-0.00430555555556 dec=0.00166666666667 celfmt=deg ra_nom=0 dec_nom=0 roll_nom=0 ra_asp=\")ra_nom\" dec_asp=\")dec_nom\" roll_asp=\")roll_nom\" sim=\"-0.68 0 126.98297999\" displace=\"0 0.0 0.0 0 0 0\" verbose=0\n",
      "dmcoords none asolfile=none detector=\"HRC-I\" opt=cel ra=-0.00430555555556 dec=0.00166666666667 celfmt=deg ra_nom=0 dec_nom=0 roll_nom=0 ra_asp=\")ra_nom\" dec_asp=\")dec_nom\" roll_asp=\")roll_nom\" sim=\"-0.68 0 126.98297999\" displace=\"0 1.0 0.0 0 0 0\" verbose=0\n",
      "dmcoords none asolfile=none detector=\"HRC-I\" opt=cel ra=-0.00430555555556 dec=0.00166666666667 celfmt=deg ra_nom=0 dec_nom=0 roll_nom=0 ra_asp=\")ra_nom\" dec_asp=\")dec_nom\" roll_asp=\")roll_nom\" sim=\"-0.68 0 126.98297999\" displace=\"0 0.0 1.0 0 0 0\" verbose=0\n"
     ]
    }
   ],
   "source": [
    "fr = fit_xform(det='HRC-I', chip_id=0, dy0=0.0, dz0=0.0)"
   ]
  },
  {
   "cell_type": "code",
   "execution_count": 53,
   "metadata": {
    "collapsed": false
   },
   "outputs": [
    {
     "data": {
      "text/plain": [
       "(-9830.7701159858698,\n",
       " 7730.9814411122552,\n",
       " 109.98021295500075,\n",
       " -109.98021295782792,\n",
       " -109.98021295713124,\n",
       " -109.98021295713124)"
      ]
     },
     "execution_count": 53,
     "metadata": {},
     "output_type": "execute_result"
    }
   ],
   "source": [
    "fr.parvals"
   ]
  },
  {
   "cell_type": "code",
   "execution_count": 104,
   "metadata": {
    "collapsed": true
   },
   "outputs": [],
   "source": [
    "xforms = {}"
   ]
  },
  {
   "cell_type": "code",
   "execution_count": 105,
   "metadata": {
    "collapsed": true
   },
   "outputs": [],
   "source": [
    "det_ids = (('acis-i', 3, 0, 0),\n",
    "          ('acis-i', 0, 10, -10),\n",
    "          ('acis-i', 1, -10, -10),\n",
    "          ('acis-i', 2, 10, 10),\n",
    "          ('acis-s', 7, 0, 0),\n",
    "          ('acis-s', 6, 25, 0),\n",
    "          ('acis-s', 5, 50, 0),\n",
    "          ('acis-s', 4, 75, 0),\n",
    "          ('acis-s', 8, -25, 0),\n",
    "          ('acis-s', 9, -50, 0))"
   ]
  },
  {
   "cell_type": "code",
   "execution_count": 106,
   "metadata": {
    "collapsed": false
   },
   "outputs": [
    {
     "name": "stdout",
     "output_type": "stream",
     "text": [
      "dmcoords none asolfile=none detector=\"ACIS\" opt=cel ra=-0.00430555555556 dec=0.00166666666667 celfmt=deg ra_nom=0 dec_nom=0 roll_nom=0 ra_asp=\")ra_nom\" dec_asp=\")dec_nom\" roll_asp=\")roll_nom\" sim=\"-0.68 0 -233.587434461\" displace=\"0 0 0 0 0 0\" verbose=0\n",
      "dmcoords none asolfile=none detector=\"ACIS\" opt=cel ra=-0.00430555555556 dec=0.00166666666667 celfmt=deg ra_nom=0 dec_nom=0 roll_nom=0 ra_asp=\")ra_nom\" dec_asp=\")dec_nom\" roll_asp=\")roll_nom\" sim=\"-0.68 0 -233.587434461\" displace=\"0 -1 0 0 0 0\" verbose=0\n",
      "dmcoords none asolfile=none detector=\"ACIS\" opt=cel ra=-0.00430555555556 dec=0.00166666666667 celfmt=deg ra_nom=0 dec_nom=0 roll_nom=0 ra_asp=\")ra_nom\" dec_asp=\")dec_nom\" roll_asp=\")roll_nom\" sim=\"-0.68 0 -233.587434461\" displace=\"0 0 -1 0 0 0\" verbose=0\n",
      "dmcoords none asolfile=none detector=\"ACIS\" opt=cel ra=-0.00430555555556 dec=0.00166666666667 celfmt=deg ra_nom=0 dec_nom=0 roll_nom=0 ra_asp=\")ra_nom\" dec_asp=\")dec_nom\" roll_asp=\")roll_nom\" sim=\"-0.68 0 -233.587434461\" displace=\"0 -10 10 0 0 0\" verbose=0\n",
      "dmcoords none asolfile=none detector=\"ACIS\" opt=cel ra=-0.00430555555556 dec=0.00166666666667 celfmt=deg ra_nom=0 dec_nom=0 roll_nom=0 ra_asp=\")ra_nom\" dec_asp=\")dec_nom\" roll_asp=\")roll_nom\" sim=\"-0.68 0 -233.587434461\" displace=\"0 -11 10 0 0 0\" verbose=0\n",
      "dmcoords none asolfile=none detector=\"ACIS\" opt=cel ra=-0.00430555555556 dec=0.00166666666667 celfmt=deg ra_nom=0 dec_nom=0 roll_nom=0 ra_asp=\")ra_nom\" dec_asp=\")dec_nom\" roll_asp=\")roll_nom\" sim=\"-0.68 0 -233.587434461\" displace=\"0 -10 9 0 0 0\" verbose=0\n",
      "dmcoords none asolfile=none detector=\"ACIS\" opt=cel ra=-0.00430555555556 dec=0.00166666666667 celfmt=deg ra_nom=0 dec_nom=0 roll_nom=0 ra_asp=\")ra_nom\" dec_asp=\")dec_nom\" roll_asp=\")roll_nom\" sim=\"-0.68 0 -233.587434461\" displace=\"0 10 10 0 0 0\" verbose=0\n",
      "dmcoords none asolfile=none detector=\"ACIS\" opt=cel ra=-0.00430555555556 dec=0.00166666666667 celfmt=deg ra_nom=0 dec_nom=0 roll_nom=0 ra_asp=\")ra_nom\" dec_asp=\")dec_nom\" roll_asp=\")roll_nom\" sim=\"-0.68 0 -233.587434461\" displace=\"0 9 10 0 0 0\" verbose=0\n",
      "dmcoords none asolfile=none detector=\"ACIS\" opt=cel ra=-0.00430555555556 dec=0.00166666666667 celfmt=deg ra_nom=0 dec_nom=0 roll_nom=0 ra_asp=\")ra_nom\" dec_asp=\")dec_nom\" roll_asp=\")roll_nom\" sim=\"-0.68 0 -233.587434461\" displace=\"0 10 9 0 0 0\" verbose=0\n",
      "dmcoords none asolfile=none detector=\"ACIS\" opt=cel ra=-0.00430555555556 dec=0.00166666666667 celfmt=deg ra_nom=0 dec_nom=0 roll_nom=0 ra_asp=\")ra_nom\" dec_asp=\")dec_nom\" roll_asp=\")roll_nom\" sim=\"-0.68 0 -233.587434461\" displace=\"0 -10 -10 0 0 0\" verbose=0\n",
      "dmcoords none asolfile=none detector=\"ACIS\" opt=cel ra=-0.00430555555556 dec=0.00166666666667 celfmt=deg ra_nom=0 dec_nom=0 roll_nom=0 ra_asp=\")ra_nom\" dec_asp=\")dec_nom\" roll_asp=\")roll_nom\" sim=\"-0.68 0 -233.587434461\" displace=\"0 -11 -10 0 0 0\" verbose=0\n",
      "dmcoords none asolfile=none detector=\"ACIS\" opt=cel ra=-0.00430555555556 dec=0.00166666666667 celfmt=deg ra_nom=0 dec_nom=0 roll_nom=0 ra_asp=\")ra_nom\" dec_asp=\")dec_nom\" roll_asp=\")roll_nom\" sim=\"-0.68 0 -233.587434461\" displace=\"0 -10 -11 0 0 0\" verbose=0\n",
      "dmcoords none asolfile=none detector=\"ACIS\" opt=cel ra=-0.00430555555556 dec=0.00166666666667 celfmt=deg ra_nom=0 dec_nom=0 roll_nom=0 ra_asp=\")ra_nom\" dec_asp=\")dec_nom\" roll_asp=\")roll_nom\" sim=\"-0.68 0 -190.142580365\" displace=\"0 0 0 0 0 0\" verbose=0\n",
      "dmcoords none asolfile=none detector=\"ACIS\" opt=cel ra=-0.00430555555556 dec=0.00166666666667 celfmt=deg ra_nom=0 dec_nom=0 roll_nom=0 ra_asp=\")ra_nom\" dec_asp=\")dec_nom\" roll_asp=\")roll_nom\" sim=\"-0.68 0 -190.142580365\" displace=\"0 -1 0 0 0 0\" verbose=0\n",
      "dmcoords none asolfile=none detector=\"ACIS\" opt=cel ra=-0.00430555555556 dec=0.00166666666667 celfmt=deg ra_nom=0 dec_nom=0 roll_nom=0 ra_asp=\")ra_nom\" dec_asp=\")dec_nom\" roll_asp=\")roll_nom\" sim=\"-0.68 0 -190.142580365\" displace=\"0 0 -1 0 0 0\" verbose=0\n",
      "dmcoords none asolfile=none detector=\"ACIS\" opt=cel ra=-0.00430555555556 dec=0.00166666666667 celfmt=deg ra_nom=0 dec_nom=0 roll_nom=0 ra_asp=\")ra_nom\" dec_asp=\")dec_nom\" roll_asp=\")roll_nom\" sim=\"-0.68 0 -190.142580365\" displace=\"0 -25 0 0 0 0\" verbose=0\n",
      "dmcoords none asolfile=none detector=\"ACIS\" opt=cel ra=-0.00430555555556 dec=0.00166666666667 celfmt=deg ra_nom=0 dec_nom=0 roll_nom=0 ra_asp=\")ra_nom\" dec_asp=\")dec_nom\" roll_asp=\")roll_nom\" sim=\"-0.68 0 -190.142580365\" displace=\"0 -26 0 0 0 0\" verbose=0\n",
      "dmcoords none asolfile=none detector=\"ACIS\" opt=cel ra=-0.00430555555556 dec=0.00166666666667 celfmt=deg ra_nom=0 dec_nom=0 roll_nom=0 ra_asp=\")ra_nom\" dec_asp=\")dec_nom\" roll_asp=\")roll_nom\" sim=\"-0.68 0 -190.142580365\" displace=\"0 -25 -1 0 0 0\" verbose=0\n",
      "dmcoords none asolfile=none detector=\"ACIS\" opt=cel ra=-0.00430555555556 dec=0.00166666666667 celfmt=deg ra_nom=0 dec_nom=0 roll_nom=0 ra_asp=\")ra_nom\" dec_asp=\")dec_nom\" roll_asp=\")roll_nom\" sim=\"-0.68 0 -190.142580365\" displace=\"0 -50 0 0 0 0\" verbose=0\n",
      "dmcoords none asolfile=none detector=\"ACIS\" opt=cel ra=-0.00430555555556 dec=0.00166666666667 celfmt=deg ra_nom=0 dec_nom=0 roll_nom=0 ra_asp=\")ra_nom\" dec_asp=\")dec_nom\" roll_asp=\")roll_nom\" sim=\"-0.68 0 -190.142580365\" displace=\"0 -51 0 0 0 0\" verbose=0\n",
      "dmcoords none asolfile=none detector=\"ACIS\" opt=cel ra=-0.00430555555556 dec=0.00166666666667 celfmt=deg ra_nom=0 dec_nom=0 roll_nom=0 ra_asp=\")ra_nom\" dec_asp=\")dec_nom\" roll_asp=\")roll_nom\" sim=\"-0.68 0 -190.142580365\" displace=\"0 -50 -1 0 0 0\" verbose=0\n",
      "dmcoords none asolfile=none detector=\"ACIS\" opt=cel ra=-0.00430555555556 dec=0.00166666666667 celfmt=deg ra_nom=0 dec_nom=0 roll_nom=0 ra_asp=\")ra_nom\" dec_asp=\")dec_nom\" roll_asp=\")roll_nom\" sim=\"-0.68 0 -190.142580365\" displace=\"0 -75 0 0 0 0\" verbose=0\n",
      "dmcoords none asolfile=none detector=\"ACIS\" opt=cel ra=-0.00430555555556 dec=0.00166666666667 celfmt=deg ra_nom=0 dec_nom=0 roll_nom=0 ra_asp=\")ra_nom\" dec_asp=\")dec_nom\" roll_asp=\")roll_nom\" sim=\"-0.68 0 -190.142580365\" displace=\"0 -76 0 0 0 0\" verbose=0\n",
      "dmcoords none asolfile=none detector=\"ACIS\" opt=cel ra=-0.00430555555556 dec=0.00166666666667 celfmt=deg ra_nom=0 dec_nom=0 roll_nom=0 ra_asp=\")ra_nom\" dec_asp=\")dec_nom\" roll_asp=\")roll_nom\" sim=\"-0.68 0 -190.142580365\" displace=\"0 -75 -1 0 0 0\" verbose=0\n",
      "dmcoords none asolfile=none detector=\"ACIS\" opt=cel ra=-0.00430555555556 dec=0.00166666666667 celfmt=deg ra_nom=0 dec_nom=0 roll_nom=0 ra_asp=\")ra_nom\" dec_asp=\")dec_nom\" roll_asp=\")roll_nom\" sim=\"-0.68 0 -190.142580365\" displace=\"0 25 0 0 0 0\" verbose=0\n",
      "dmcoords none asolfile=none detector=\"ACIS\" opt=cel ra=-0.00430555555556 dec=0.00166666666667 celfmt=deg ra_nom=0 dec_nom=0 roll_nom=0 ra_asp=\")ra_nom\" dec_asp=\")dec_nom\" roll_asp=\")roll_nom\" sim=\"-0.68 0 -190.142580365\" displace=\"0 24 0 0 0 0\" verbose=0\n",
      "dmcoords none asolfile=none detector=\"ACIS\" opt=cel ra=-0.00430555555556 dec=0.00166666666667 celfmt=deg ra_nom=0 dec_nom=0 roll_nom=0 ra_asp=\")ra_nom\" dec_asp=\")dec_nom\" roll_asp=\")roll_nom\" sim=\"-0.68 0 -190.142580365\" displace=\"0 25 -1 0 0 0\" verbose=0\n",
      "dmcoords none asolfile=none detector=\"ACIS\" opt=cel ra=-0.00430555555556 dec=0.00166666666667 celfmt=deg ra_nom=0 dec_nom=0 roll_nom=0 ra_asp=\")ra_nom\" dec_asp=\")dec_nom\" roll_asp=\")roll_nom\" sim=\"-0.68 0 -190.142580365\" displace=\"0 50 0 0 0 0\" verbose=0\n",
      "dmcoords none asolfile=none detector=\"ACIS\" opt=cel ra=-0.00430555555556 dec=0.00166666666667 celfmt=deg ra_nom=0 dec_nom=0 roll_nom=0 ra_asp=\")ra_nom\" dec_asp=\")dec_nom\" roll_asp=\")roll_nom\" sim=\"-0.68 0 -190.142580365\" displace=\"0 49 0 0 0 0\" verbose=0\n",
      "dmcoords none asolfile=none detector=\"ACIS\" opt=cel ra=-0.00430555555556 dec=0.00166666666667 celfmt=deg ra_nom=0 dec_nom=0 roll_nom=0 ra_asp=\")ra_nom\" dec_asp=\")dec_nom\" roll_asp=\")roll_nom\" sim=\"-0.68 0 -190.142580365\" displace=\"0 50 -1 0 0 0\" verbose=0\n"
     ]
    }
   ],
   "source": [
    "for det, chip_id, dy0, dz0 in det_ids:\n",
    "    key = det.upper(), chip_id\n",
    "    if key in xforms:\n",
    "        continue\n",
    "    fr = fit_xform(det, chip_id, dy0, dz0)\n",
    "    xforms[key] = fr.parvals"
   ]
  },
  {
   "cell_type": "code",
   "execution_count": 107,
   "metadata": {
    "collapsed": false
   },
   "outputs": [
    {
     "name": "stdout",
     "output_type": "stream",
     "text": [
      "[ 342.31812821  545.26456326]\n",
      "dmcoords none asolfile=none detector=\"ACIS\" opt=cel ra=-0.00430555555556 dec=0.00166666666667 celfmt=deg ra_nom=0 dec_nom=0 roll_nom=0 ra_asp=\")ra_nom\" dec_asp=\")dec_nom\" roll_asp=\")roll_nom\" sim=\"-0.68 0 -233.587434461\" displace=\"0 10.0 10.0 0 0 0\" verbose=0\n",
      "[342.3181282064434, 545.2645632588228, 1.0]\n"
     ]
    }
   ],
   "source": [
    "print xform(xforms['ACIS-I', 1], [-10, -10])\n",
    "print dmcoords_chipx_chipy(det='ACIS-I', dy=-10.0, dz=-10.0)"
   ]
  },
  {
   "cell_type": "code",
   "execution_count": 108,
   "metadata": {
    "collapsed": false
   },
   "outputs": [
    {
     "name": "stdout",
     "output_type": "stream",
     "text": [
      "[ 252.27470319  519.96727988]\n",
      "dmcoords none asolfile=none detector=\"ACIS\" opt=cel ra=-0.00430555555556 dec=0.00166666666667 celfmt=deg ra_nom=0 dec_nom=0 roll_nom=0 ra_asp=\")ra_nom\" dec_asp=\")dec_nom\" roll_asp=\")roll_nom\" sim=\"-0.68 0 -190.142580365\" displace=\"0 -0.0 -0.0 0 0 0\" verbose=0\n",
      "[252.2747031852626, 519.9672798776261, 7.0]\n"
     ]
    }
   ],
   "source": [
    "print xform(xforms['ACIS-S', 7], [0, 0])\n",
    "print dmcoords_chipx_chipy(det='ACIS-S', dy=0.0, dz=0.0)"
   ]
  },
  {
   "cell_type": "code",
   "execution_count": 110,
   "metadata": {
    "collapsed": false
   },
   "outputs": [],
   "source": [
    "xforms_out = {}\n",
    "for key, val in xforms.items():\n",
    "    vals = [round(x, 3) for x in val]\n",
    "    xforms_out[key] = {'c0': [vals[0], vals[1]],\n",
    "                      'cyz': [[vals[2], vals[3]],\n",
    "                              [vals[4], vals[5]]]}"
   ]
  },
  {
   "cell_type": "code",
   "execution_count": 111,
   "metadata": {
    "collapsed": false
   },
   "outputs": [
    {
     "name": "stdout",
     "output_type": "stream",
     "text": [
      "{('ACIS-I', 0): {'c0': [1099.688, 1108.984],\n",
      "                 'cyz': [[0.001, 41.742], [-41.742, 0.105]]},\n",
      " ('ACIS-I', 1): {'c0': [-75.089, 963.721],\n",
      "                 'cyz': [[0.001, -41.742], [41.741, 0.104]]},\n",
      " ('ACIS-I', 2): {'c0': [53.349, 1108.888],\n",
      "                 'cyz': [[-0.001, 41.742], [-41.742, -0.105]]},\n",
      " ('ACIS-I', 3): {'c0': [971.913, 963.171],\n",
      "                 'cyz': [[-0.001, -41.742], [41.742, -0.104]]},\n",
      " ('ACIS-S', 4): {'c0': [3383.032, 520.173],\n",
      "                 'cyz': [[-41.695, -0.021], [0.021, -41.689]]},\n",
      " ('ACIS-S', 5): {'c0': [2339.627, 519.299],\n",
      "                 'cyz': [[-41.691, -0.031], [0.037, -41.689]]},\n",
      " ('ACIS-S', 6): {'c0': [1296.718, 519.682],\n",
      "                 'cyz': [[-41.69, -0.031], [0.036, -41.689]]},\n",
      " ('ACIS-S', 7): {'c0': [252.275, 519.967],\n",
      "                 'cyz': [[-41.689, -0.022], [0.022, -41.689]]},\n",
      " ('ACIS-S', 8): {'c0': [-789.536, 519.933],\n",
      "                 'cyz': [[-41.69, -0.02], [0.02, -41.689]]},\n",
      " ('ACIS-S', 9): {'c0': [-1831.755, 519.696],\n",
      "                 'cyz': [[-41.693, -0.017], [0.017, -41.689]]}}\n"
     ]
    }
   ],
   "source": [
    "from pprint import pprint\n",
    "pprint(xforms_out)"
   ]
  },
  {
   "cell_type": "code",
   "execution_count": null,
   "metadata": {
    "collapsed": true
   },
   "outputs": [],
   "source": []
  }
 ],
 "metadata": {
  "kernelspec": {
   "display_name": "Python 2",
   "language": "python",
   "name": "python2"
  },
  "language_info": {
   "codemirror_mode": {
    "name": "ipython",
    "version": 2
   },
   "file_extension": ".py",
   "mimetype": "text/x-python",
   "name": "python",
   "nbconvert_exporter": "python",
   "pygments_lexer": "ipython2",
   "version": "2.7.9"
  }
 },
 "nbformat": 4,
 "nbformat_minor": 0
}
