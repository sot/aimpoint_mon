{
 "cells": [
  {
   "cell_type": "markdown",
   "metadata": {},
   "source": [
    "# Compute transforms from aspect solution DY/DZ to CHIPX/CHIPY\n",
    "\n",
    "A key part of the process to apply dynamic ACA offsets to each observation is\n",
    "computing the required DY/DZ aspect solution value to move the aimpoint to the\n",
    "specified CHIPX/CHIPY coordinate.  This notebook computes these transforms\n",
    "for each ACIS and HRC chip.\n",
    "\n",
    "The final results are used in the `chandra_aca.drift` module.\n",
    "\n",
    "This notebook was originally based on the `absolute_pointing_uncertainty` notebook\n",
    "in this repository."
   ]
  },
  {
   "cell_type": "code",
   "execution_count": 1,
   "metadata": {
    "collapsed": false
   },
   "outputs": [],
   "source": [
    "import argparse\n",
    "import re\n",
    "import time\n",
    "from itertools import izip, cycle\n",
    "import functools\n",
    "\n",
    "import numpy as np\n",
    "import Ska.DBI\n",
    "from astropy.table import Table, vstack\n",
    "from astropy.time import Time\n",
    "import mica.archive.obspar\n",
    "from mica.archive import asp_l1\n",
    "import Ska.Shell\n",
    "from Ska.quatutil import yagzag2radec\n",
    "from Quaternion import Quat\n",
    "from Ska.quatutil import radec2yagzag\n",
    "from sherpa import ui\n",
    "\n",
    "import matplotlib.pyplot as plt\n",
    "%matplotlib inline"
   ]
  },
  {
   "cell_type": "code",
   "execution_count": 2,
   "metadata": {
    "collapsed": true
   },
   "outputs": [],
   "source": [
    "# Sherpa is too chatty so just turn off all logging (attempts to do this more selectively\n",
    "# did not work on first try)\n",
    "import logging\n",
    "logging.disable(50)"
   ]
  },
  {
   "cell_type": "code",
   "execution_count": 3,
   "metadata": {
    "collapsed": true
   },
   "outputs": [],
   "source": [
    "# Nominal SIM focus and TSC positions.  This is run once with cell below and values\n",
    "# are filled in to avoid repeating this exercise.  Originally use:\n",
    "# sim_x_nom = {}\n",
    "# sim_z_nom = {}\n",
    "sim_x_nom = {\n",
    "     'ACIS-I': -0.78090834371672724,\n",
    "     'ACIS-S': -0.68282252473119054,\n",
    "     'HRC-I': -1.0388663562382989,\n",
    "     'HRC-S': -1.526339935833849}\n",
    "sim_z_nom = {\n",
    "     'ACIS-I': -233.58743446082869,\n",
    "     'ACIS-S': -190.1400660498719,\n",
    "     'HRC-I': 126.98297998998621,\n",
    "     'HRC-S': 250.46603308020099}"
   ]
  },
  {
   "cell_type": "code",
   "execution_count": 4,
   "metadata": {
    "collapsed": false
   },
   "outputs": [],
   "source": [
    "if not sim_x_nom or not sim_z_nom:\n",
    "    from Ska.DBI import DBI\n",
    "    db = DBI(server='sybase', dbi='sybase', user='aca_read')\n",
    "    dat = db.fetchall('select detector, sim_x, sim_z from obspar where obsid>12000 and obsid<18000')\n",
    "    for det in ('ACIS-S', 'ACIS-I', 'HRC-S', 'HRC-I'):\n",
    "        ok = dat['detector'] == det\n",
    "        sim_x_nom[det] = np.median(dat['sim_x'][ok])\n",
    "        sim_z_nom[det] = np.median(dat['sim_z'][ok])\n",
    "    db.conn.close()\n",
    "    from pprint import pprint\n",
    "    pprint(sim_x_nom)\n",
    "    pprint(sim_z_nom)"
   ]
  },
  {
   "cell_type": "code",
   "execution_count": 5,
   "metadata": {
    "collapsed": false
   },
   "outputs": [],
   "source": [
    "aimpoint_data_cache = {}\n",
    "acis_pixscale = 0.492  # arcsec / pixel\n",
    "\n",
    "def get_aimpoint_data(det):\n",
    "    \"\"\"\n",
    "    Read aimpoint data provided by P. Zhao and define additional columns\n",
    "    that make it easier to compare with fid light drift data.\n",
    "    \"\"\"\n",
    "    if det not in aimpoint_data_cache:\n",
    "        filename = 'optics_aimpoint/{}_ap_pos.rdb'.format(re.sub(r'-', '', det).lower())\n",
    "        dat = Table.read(filename, format='ascii.rdb')\n",
    "        y_off = dat['y_det_offset'] * 60 / acis_pixscale  # pix / arcmin\n",
    "        z_off = dat['z_det_offset'] * 60 / acis_pixscale  # pix / arcmin\n",
    "\n",
    "        aimpoint_data_cache[det] = dat\n",
    "    return aimpoint_data_cache[det]    "
   ]
  },
  {
   "cell_type": "code",
   "execution_count": 6,
   "metadata": {
    "collapsed": false,
    "scrolled": true
   },
   "outputs": [],
   "source": [
    "def get_zero_offset_aimpoint_data(det, min_year=2010):\n",
    "    \"\"\"\n",
    "    Return aimpoint data for observations with zero target offset.\n",
    "    This simplifies the correlation of aspect solution and dmcoords\n",
    "    results with the published POG plots (chapter 4) of aimpoint drift.\n",
    "    \"\"\"\n",
    "    dat = get_aimpoint_data(det)\n",
    "    ok = (dat['y_det_offset'] == 0) & (dat['z_det_offset'] == 0) & (dat['year'] > min_year)\n",
    "    return dat[ok]"
   ]
  },
  {
   "cell_type": "code",
   "execution_count": 7,
   "metadata": {
    "collapsed": false,
    "scrolled": true
   },
   "outputs": [],
   "source": [
    "dats = get_zero_offset_aimpoint_data('ACIS-S', 2010)\n",
    "dati = get_zero_offset_aimpoint_data('ACIS-I', 2010)\n",
    "hrcs = get_zero_offset_aimpoint_data('HRC-S', 2010)\n",
    "hrci = get_zero_offset_aimpoint_data('HRC-I', 2010)\n",
    "\n",
    "observations = vstack([dats, dati, hrcs, hrci])"
   ]
  },
  {
   "cell_type": "code",
   "execution_count": 8,
   "metadata": {
    "collapsed": false
   },
   "outputs": [],
   "source": [
    "# Use the obspar for each obsid to fill in some additional\n",
    "# columns.  Yag and Zag represent the local frame position\n",
    "# (arcsec) of the target in the nominal frame.\n",
    "\n",
    "noms = ('ra_nom', 'dec_nom', 'roll_nom')\n",
    "for nom in noms:\n",
    "    observations[nom] = 0.0\n",
    "observations['yag'] = 0.0\n",
    "observations['zag'] = 0.0\n",
    "observations['ra_pnt'] = 0.0\n",
    "observations['dec_pnt'] = 0.0\n",
    "observations['detector'] = 'ACIS-S'\n",
    "\n",
    "for obs in observations:\n",
    "    obspar = mica.archive.obspar.get_obspar(obs['obsid'])\n",
    "    for nom in noms:\n",
    "        obs[nom] = obspar[nom]\n",
    "    obs['ra_targ'] = obspar['ra_targ']\n",
    "    obs['dec_targ'] = obspar['dec_targ']\n",
    "    obs['ra_pnt'] = obspar['ra_pnt']\n",
    "    obs['dec_pnt'] = obspar['dec_pnt']\n",
    "    obs['detector'] = obspar['detector']\n",
    "    q_nom = Quat([obs[nom] for nom in noms])\n",
    "    obs['yag'], obs['zag'] = radec2yagzag(obspar['ra_targ'], obspar['dec_targ'], q_nom)\n",
    "\n",
    "observations['yag'] *= 3600\n",
    "observations['zag'] *= 3600"
   ]
  },
  {
   "cell_type": "code",
   "execution_count": 9,
   "metadata": {
    "collapsed": false
   },
   "outputs": [
    {
     "data": {
      "text/html": [
       "&lt;Table masked=False length=5&gt;\n",
       "<table id=\"table139901722152016\">\n",
       "<thead><tr><th>obsid</th><th>ra_targ</th><th>dec_targ</th><th>sim_z</th><th>sim_z_offset</th><th>y_det_offset</th><th>z_det_offset</th><th>dmt_chipx</th><th>dmt_chipy</th><th>ap_chipx</th><th>ap_chipy</th><th>year</th><th>ra_nom</th><th>dec_nom</th><th>roll_nom</th><th>yag</th><th>zag</th><th>ra_pnt</th><th>dec_pnt</th><th>detector</th></tr></thead>\n",
       "<thead><tr><th>float64</th><th>float64</th><th>float64</th><th>float64</th><th>float64</th><th>float64</th><th>float64</th><th>float64</th><th>float64</th><th>float64</th><th>float64</th><th>float64</th><th>float64</th><th>float64</th><th>float64</th><th>float64</th><th>float64</th><th>float64</th><th>float64</th><th>string48</th></tr></thead>\n",
       "<tr><td>10980.0</td><td>219.880833</td><td>-60.833611</td><td>126.98297999</td><td>0.00250890161531</td><td>0.0</td><td>0.0</td><td>7615.16</td><td>7876.76</td><td>7615.44</td><td>7877.04</td><td>2010.337018</td><td>219.889088992</td><td>-60.8351886006</td><td>0.206532993812</td><td>-14.4641698335</td><td>5.73062688131</td><td>219.889088992</td><td>-60.8351886006</td><td>HRC-I</td></tr>\n",
       "<tr><td>10981.0</td><td>219.880833</td><td>-60.833611</td><td>126.98297999</td><td>0.00250890161531</td><td>0.0</td><td>0.0</td><td>7638.94</td><td>7834.59</td><td>7639.22</td><td>7834.87</td><td>2010.809946</td><td>219.871931629</td><td>-60.8332280321</td><td>196.582490367</td><td>-14.5737317164</td><td>5.77938669305</td><td>219.871931629</td><td>-60.8332280321</td><td>HRC-I</td></tr>\n",
       "<tr><td>11808.0</td><td>10.684583</td><td>41.269278</td><td>126.98297999</td><td>0.00250890161531</td><td>0.0</td><td>0.0</td><td>7635.66</td><td>7878.25</td><td>7635.94</td><td>7878.53</td><td>2010.129265</td><td>10.6868073077</td><td>41.265356803</td><td>314.832594874</td><td>-14.2542449954</td><td>5.68438598704</td><td>10.6868073077</td><td>41.265356803</td><td>HRC-I</td></tr>\n",
       "<tr><td>11809.0</td><td>10.684583</td><td>41.269278</td><td>126.98297999</td><td>0.00250890161531</td><td>0.0</td><td>0.0</td><td>7628.63</td><td>7855.13</td><td>7628.91</td><td>7855.41</td><td>2010.157781</td><td>10.6874732103</td><td>41.2655837895</td><td>322.265559712</td><td>-14.3240081833</td><td>5.73171324704</td><td>10.6874732103</td><td>41.2655837895</td><td>HRC-I</td></tr>\n",
       "<tr><td>11819.0</td><td>125.489583</td><td>-43.004361</td><td>126.98297999</td><td>0.00250890161531</td><td>0.0</td><td>0.0</td><td>7629.57</td><td>7878.69</td><td>7629.85</td><td>7878.97</td><td>2010.611007</td><td>125.485042345</td><td>-43.0017377626</td><td>163.423426592</td><td>-14.1516322839</td><td>5.64101063257</td><td>125.485042345</td><td>-43.0017377626</td><td>HRC-I</td></tr>\n",
       "</table>"
      ],
      "text/plain": [
       "<Table masked=False length=5>\n",
       " obsid   ra_targ    dec_targ  ...     ra_pnt       dec_pnt     detector\n",
       "float64  float64    float64   ...    float64       float64     string48\n",
       "------- ---------- ---------- ... ------------- -------------- --------\n",
       "10980.0 219.880833 -60.833611 ... 219.889088992 -60.8351886006    HRC-I\n",
       "10981.0 219.880833 -60.833611 ... 219.871931629 -60.8332280321    HRC-I\n",
       "11808.0  10.684583  41.269278 ... 10.6868073077   41.265356803    HRC-I\n",
       "11809.0  10.684583  41.269278 ... 10.6874732103  41.2655837895    HRC-I\n",
       "11819.0 125.489583 -43.004361 ... 125.485042345 -43.0017377626    HRC-I"
      ]
     },
     "execution_count": 9,
     "metadata": {},
     "output_type": "execute_result"
    }
   ],
   "source": [
    "ok = observations['detector'] == 'HRC-I'\n",
    "observations[ok][:5]"
   ]
  },
  {
   "cell_type": "markdown",
   "metadata": {},
   "source": [
    "### Use dmcoords to relate detector, dy, dz to chipx, chipy\n",
    "\n",
    "This will be an approximation that applies over small displacements (of order 100 pixels)."
   ]
  },
  {
   "cell_type": "code",
   "execution_count": 10,
   "metadata": {
    "collapsed": true
   },
   "outputs": [],
   "source": [
    "ciaoenv = Ska.Shell.getenv('source /soft/ciao/bin/ciao.sh')"
   ]
  },
  {
   "cell_type": "code",
   "execution_count": 11,
   "metadata": {
    "collapsed": true
   },
   "outputs": [],
   "source": [
    "dmcoords_cmd = ['dmcoords', 'none',\n",
    "                'asolfile=none',\n",
    "                'detector=\"{detector}\"',\n",
    "                'opt=cel',\n",
    "                'ra={ra}', \n",
    "                'dec={dec}',\n",
    "                'celfmt=deg', \n",
    "                'ra_nom=0',\n",
    "                'dec_nom=0',\n",
    "                'roll_nom=0',  \n",
    "                'ra_asp=\")ra_nom\"',\n",
    "                'dec_asp=\")dec_nom\"',\n",
    "                'roll_asp=\")roll_nom\"',      \n",
    "                'sim=\"{simx} 0 {simz}\"',\n",
    "                'displace=\"0 {dy} {dz} 0 0 0\"',       \n",
    "                'verbose=0']\n",
    "dmcoords_cmd = ' '.join(dmcoords_cmd)"
   ]
  },
  {
   "cell_type": "code",
   "execution_count": 12,
   "metadata": {
    "collapsed": true
   },
   "outputs": [],
   "source": [
    "ciaorun = functools.partial(Ska.Shell.bash, env=ciaoenv)"
   ]
  },
  {
   "cell_type": "code",
   "execution_count": 13,
   "metadata": {
    "collapsed": false
   },
   "outputs": [],
   "source": [
    "def dmcoords_chipx_chipy(det, dy, dz):\n",
    "    \"\"\"\n",
    "    Get the dmcoords-computed chipx and chipy for given detector and\n",
    "    aspect solution DY and DZ values.  NOTE: the ``dy`` and ``dz`` inputs\n",
    "    to dmcoords are flipped in sign from the ASOL values.  Generally the\n",
    "    ASOL DY/DZ are positive and dmcoord input values are negative.  This\n",
    "    sign flip is handled *here*, so input to this is ASOL DY/DZ.\n",
    "    \n",
    "    :param det: detector (ACIS-S, ACIS-I, HRC-S, HRC-I)\n",
    "    :param dy: aspect solution DY value (mm)\n",
    "    :param dz: aspect solution DZ value (mm)\n",
    "    \"\"\"\n",
    "    # See the absolute_pointing_uncertainty notebook in this repo for the\n",
    "    # detailed derivation of this -15.5, 6.0 arcsec offset factor.  See the\n",
    "    # cell below for the summary version.\n",
    "    ra0, dec0 = -15.5 / 3600., 6.0 / 3600.\n",
    "    ciaorun('punlearn dmcoords')\n",
    "    cmd = dmcoords_cmd.format(ra=ra0, dec=dec0,\n",
    "                                detector=(det if det.startswith('HRC') else 'ACIS'),\n",
    "                                simx=sim_x_nom[det], simz=sim_z_nom[det],\n",
    "                                dy=-dy, dz=-dz)\n",
    "    ciaorun(cmd)\n",
    "    return [float(x) for x in ciaorun('pget dmcoords chipx chipy chip_id')]"
   ]
  },
  {
   "cell_type": "markdown",
   "metadata": {},
   "source": [
    "### Where does this -15.5, 6 arcsec offset come from?\n",
    "\n",
    "It's basically the difference between two rotation matrices in our system:\n",
    "\n",
    "- `ACA_MISALIGN`: MNC (HRMA optical axis) to ACA frame misalignment.\n",
    "- `ODB_SI_ALIGN`: Misalignment used to transform from science target coordinates to ACA (PCAD) pointing direction that gets used on-board.\n",
    "\n",
    "My recollection is that the fact that these are not the same is a relic of a decision during OAC, but I'm not entirely certain of that."
   ]
  },
  {
   "cell_type": "code",
   "execution_count": 14,
   "metadata": {
    "collapsed": true
   },
   "outputs": [],
   "source": [
    "def get_dy_dz(obsid):\n",
    "    \"\"\"\n",
    "    Get statistical summary data for aspect solution DY/DZ for ``obsid``.\n",
    "    \n",
    "    :param obsid: ObsID\n",
    "    :returns: min_dy, median_dy, max_dy, min_dz, median_dz, max_dz (mm)\n",
    "    \"\"\"\n",
    "    asolfiles = asp_l1.get_files(obsid=obsid, content=['ASPSOL'])\n",
    "    asol = Table.read(asolfiles[0])\n",
    "    min_dy, median_dy, max_dy = (np.min(asol['dy']), \n",
    "                              np.median(asol['dy']),\n",
    "                              np.max(asol['dy']))\n",
    "    min_dz, median_dz, max_dz = (np.min(asol['dz']), \n",
    "                              np.median(asol['dz']),\n",
    "                              np.max(asol['dz']))\n",
    "    return min_dy, median_dy, max_dy, min_dz, median_dz, max_dz                                 "
   ]
  },
  {
   "cell_type": "markdown",
   "metadata": {},
   "source": [
    "### Do some exploration / validation of methods"
   ]
  },
  {
   "cell_type": "code",
   "execution_count": 15,
   "metadata": {
    "collapsed": false
   },
   "outputs": [
    {
     "data": {
      "text/plain": [
       "[-9831.388809890115, 7730.980954116741, 0.0]"
      ]
     },
     "execution_count": 15,
     "metadata": {},
     "output_type": "execute_result"
    }
   ],
   "source": [
    "# What are CHIPX/Y for HRC-I at DY/Z = 0, 0\n",
    "dmcoords_chipx_chipy('HRC-I', 0, 0)"
   ]
  },
  {
   "cell_type": "markdown",
   "metadata": {},
   "source": [
    "#### Compare P. Zhao values to expected from dmcoords_chipx_chipy for ACIS-S and ACIS-I obsids\n",
    "\n",
    "This is not incredibly independent since Zhao values also use dmcoords, but in a slightly different way."
   ]
  },
  {
   "cell_type": "code",
   "execution_count": 16,
   "metadata": {
    "collapsed": false
   },
   "outputs": [
    {
     "data": {
      "text/html": [
       "&lt;Table masked=False length=1&gt;\n",
       "<table id=\"table139901722151056\">\n",
       "<thead><tr><th>obsid</th><th>ap_chipx</th><th>ap_chipy</th></tr></thead>\n",
       "<thead><tr><th>float64</th><th>float64</th><th>float64</th></tr></thead>\n",
       "<tr><td>11613.0</td><td>933.95</td><td>997.64</td></tr>\n",
       "</table>"
      ],
      "text/plain": [
       "<Table masked=False length=1>\n",
       " obsid  ap_chipx ap_chipy\n",
       "float64 float64  float64 \n",
       "------- -------- --------\n",
       "11613.0   933.95   997.64"
      ]
     },
     "execution_count": 16,
     "metadata": {},
     "output_type": "execute_result"
    }
   ],
   "source": [
    "dati['obsid', 'ap_chipx', 'ap_chipy'][:1]"
   ]
  },
  {
   "cell_type": "code",
   "execution_count": 17,
   "metadata": {
    "collapsed": false,
    "scrolled": true
   },
   "outputs": [
    {
     "name": "stdout",
     "output_type": "stream",
     "text": [
      "[934.1506010657735, 998.1400542414366, 3.0]\n"
     ]
    }
   ],
   "source": [
    "min_dy, median_dy, max_dy, min_dz, median_dz, max_dz = get_dy_dz(11613)\n",
    "print dmcoords_chipx_chipy(det='ACIS-I', dy=median_dy, dz=median_dz)"
   ]
  },
  {
   "cell_type": "code",
   "execution_count": 18,
   "metadata": {
    "collapsed": false
   },
   "outputs": [
    {
     "data": {
      "text/html": [
       "&lt;Table masked=False length=1&gt;\n",
       "<table id=\"table139901965389328\">\n",
       "<thead><tr><th>obsid</th><th>ap_chipx</th><th>ap_chipy</th></tr></thead>\n",
       "<thead><tr><th>float64</th><th>float64</th><th>float64</th></tr></thead>\n",
       "<tr><td>12351.0</td><td>213.15</td><td>481.49</td></tr>\n",
       "</table>"
      ],
      "text/plain": [
       "<Table masked=False length=1>\n",
       " obsid  ap_chipx ap_chipy\n",
       "float64 float64  float64 \n",
       "------- -------- --------\n",
       "12351.0   213.15   481.49"
      ]
     },
     "execution_count": 18,
     "metadata": {},
     "output_type": "execute_result"
    }
   ],
   "source": [
    "dats['obsid', 'ap_chipx', 'ap_chipy'][:1]"
   ]
  },
  {
   "cell_type": "code",
   "execution_count": 19,
   "metadata": {
    "collapsed": false
   },
   "outputs": [
    {
     "name": "stdout",
     "output_type": "stream",
     "text": [
      "[214.6393905516338, 480.61949999585, 7.0]\n"
     ]
    }
   ],
   "source": [
    "min_dy, median_dy, max_dy, min_dz, median_dz, max_dz = get_dy_dz(12351)\n",
    "print dmcoords_chipx_chipy(det='ACIS-S', dy=median_dy, dz=median_dz)"
   ]
  },
  {
   "cell_type": "markdown",
   "metadata": {},
   "source": [
    "### DY and DZ correspond to adding values to Y_A and Z_A\n",
    "\n",
    "<img src=\"http://cxc.harvard.edu/proposer/POG/html/images/simc.png\">"
   ]
  },
  {
   "cell_type": "markdown",
   "metadata": {},
   "source": [
    "### Find DY/DZ values corresponding to each ACIS-I chip"
   ]
  },
  {
   "cell_type": "code",
   "execution_count": 20,
   "metadata": {
    "collapsed": false,
    "scrolled": true
   },
   "outputs": [
    {
     "data": {
      "text/plain": [
       "[342.318005673565, 545.2642470411855, 1.0]"
      ]
     },
     "execution_count": 20,
     "metadata": {},
     "output_type": "execute_result"
    }
   ],
   "source": [
    "# The third number of the output is the chip_id\n",
    "dmcoords_chipx_chipy(det='ACIS-I', dy=-10.0, dz=-10.0)"
   ]
  },
  {
   "cell_type": "code",
   "execution_count": 21,
   "metadata": {
    "collapsed": false
   },
   "outputs": [
    {
     "data": {
      "text/plain": [
       "[470.757080884857, 690.424018657772, 2.0]"
      ]
     },
     "execution_count": 21,
     "metadata": {},
     "output_type": "execute_result"
    }
   ],
   "source": [
    "dmcoords_chipx_chipy(det='ACIS-I', dy=10.0, dz=10.0)"
   ]
  },
  {
   "cell_type": "code",
   "execution_count": 22,
   "metadata": {
    "collapsed": false
   },
   "outputs": [
    {
     "data": {
      "text/plain": [
       "[682.2763973803094, 690.5173074492176, 0.0]"
      ]
     },
     "execution_count": 22,
     "metadata": {},
     "output_type": "execute_result"
    }
   ],
   "source": [
    "dmcoords_chipx_chipy(det='ACIS-I', dy=10.0, dz=-10.0)"
   ]
  },
  {
   "cell_type": "code",
   "execution_count": 23,
   "metadata": {
    "collapsed": false
   },
   "outputs": [
    {
     "data": {
      "text/plain": [
       "[554.5064506202966, 544.7115493499787, 3.0]"
      ]
     },
     "execution_count": 23,
     "metadata": {},
     "output_type": "execute_result"
    }
   ],
   "source": [
    "dmcoords_chipx_chipy(det='ACIS-I', dy=-10.0, dz=10.0)"
   ]
  },
  {
   "cell_type": "markdown",
   "metadata": {},
   "source": [
    "### Use Sherpa and dmcoords to empirically determine the transformation DY/Z to CHIPX/Y for each chip"
   ]
  },
  {
   "cell_type": "code",
   "execution_count": 24,
   "metadata": {
    "collapsed": true
   },
   "outputs": [],
   "source": [
    "def dyz_to_chipxy(pars, x):\n",
    "    \"\"\"\n",
    "    Define a function to transform from DY/Z to CHIPX/Y\n",
    "    CHIPX, CHIPY = c0 + cyz * [DY, DZ]  (dot product)\n",
    "    \"\"\"\n",
    "    c0x, c0y, cyx, czx, cyy, czy = pars\n",
    "    c0 = np.array([[c0x],\n",
    "                   [c0y]])\n",
    "    cyz = np.array([[cyx, czx],\n",
    "                    [cyy, czy]])\n",
    "    x = np.array(x).reshape(-1, 2).transpose()\n",
    "    y = c0 + cyz.dot(x)\n",
    "    return y.transpose().flatten()"
   ]
  },
  {
   "cell_type": "code",
   "execution_count": 25,
   "metadata": {
    "collapsed": false
   },
   "outputs": [
    {
     "name": "stdout",
     "output_type": "stream",
     "text": [
      "[  930.17  1004.81   930.17   963.07   888.43  1004.81]\n"
     ]
    }
   ],
   "source": [
    "pars = [971.91, 963.07, 0.0, +41.74, -41.74, 0.0]\n",
    "x = [-1, -1, 0, -1, -1, -2.0]\n",
    "# x = [-1, -1]\n",
    "print dyz_to_chipxy(pars, x)"
   ]
  },
  {
   "cell_type": "code",
   "execution_count": 28,
   "metadata": {
    "collapsed": false
   },
   "outputs": [],
   "source": [
    "def fit_xform(det, chip_id, dy0, dz0):\n",
    "    \"\"\"\n",
    "    Fit the transform model to 3 points forming an \"L\" on the chip around\n",
    "    the ``dy0`` and ``dz0`` DY/Z values.\n",
    "    \n",
    "    :param det: detector (can be lower case)\n",
    "    :param chip_id: numerical chip ID using dmcoord convention (ACIS=0 to 9, HRC=0 to 3)\n",
    "    :param dy0: asol DY center value (mm)\n",
    "    :param dz0: asol DZ center value (mm)\n",
    "    \n",
    "    :returns: sherpa fit_results() object\n",
    "    \"\"\"\n",
    "    det = det.upper()\n",
    "    x = []\n",
    "    y = []\n",
    "    for ddy, ddz in ((0, 0), (1, 0), (0, 1)):\n",
    "        dy = dy0 + ddy\n",
    "        dz = dz0 + ddz\n",
    "        cx, cy, cid = dmcoords_chipx_chipy(det, dy, dz)\n",
    "        if cid != chip_id:\n",
    "            raise ValueError('Chip mismatch {} != {}'.format(cid, chip_id))\n",
    "        x.extend([dy, dz])\n",
    "        y.extend([cx, cy])\n",
    "    ui.load_arrays(1, np.array(x), np.array(y))\n",
    "    ui.load_user_model(dyz_to_chipxy, 'xform_mdl')\n",
    "    ui.add_user_pars('xform_mdl', ['c0x', 'c0y', 'cyx', 'czx', 'cyy', 'czy'])\n",
    "    ui.set_model(xform_mdl)\n",
    "    ui.fit()\n",
    "    \n",
    "    return ui.get_fit_results()"
   ]
  },
  {
   "cell_type": "code",
   "execution_count": 29,
   "metadata": {
    "collapsed": false
   },
   "outputs": [
    {
     "data": {
      "text/plain": [
       "(971.91325933848623,\n",
       " 963.17095452804222,\n",
       " -0.0010007356323315576,\n",
       " -41.741681607455625,\n",
       " 41.741548160198832,\n",
       " -0.10439235761225273)"
      ]
     },
     "execution_count": 29,
     "metadata": {},
     "output_type": "execute_result"
    }
   ],
   "source": [
    "fr = fit_xform('ACIS-I', 3, 0.0, 0.0)\n",
    "fr.parvals"
   ]
  },
  {
   "cell_type": "code",
   "execution_count": 30,
   "metadata": {
    "collapsed": false,
    "scrolled": true
   },
   "outputs": [
    {
     "data": {
      "text/plain": [
       "(-9831.3888098901152,\n",
       " 7730.9809541167406,\n",
       " -109.98021295500075,\n",
       " 109.9802129578411,\n",
       " 109.98021295712488,\n",
       " 109.98021295712579)"
      ]
     },
     "execution_count": 30,
     "metadata": {},
     "output_type": "execute_result"
    }
   ],
   "source": [
    "fr = fit_xform(det='HRC-I', chip_id=0, dy0=0.0, dz0=0.0)\n",
    "fr.parvals"
   ]
  },
  {
   "cell_type": "markdown",
   "metadata": {},
   "source": [
    "### Do the fitting for each chip on ACIS and (eventually) HRC"
   ]
  },
  {
   "cell_type": "code",
   "execution_count": 31,
   "metadata": {
    "collapsed": true
   },
   "outputs": [],
   "source": [
    "det_ids = (('acis-i', 3, 0, 0),\n",
    "          ('acis-i', 0, 10, -10),\n",
    "          ('acis-i', 1, -10, -10),\n",
    "          ('acis-i', 2, 10, 10),\n",
    "          ('acis-s', 7, 0, 0),\n",
    "          ('acis-s', 6, 25, 0),\n",
    "          ('acis-s', 5, 50, 0),\n",
    "          ('acis-s', 4, 75, 0),\n",
    "          ('acis-s', 8, -25, 0),\n",
    "          ('acis-s', 9, -50, 0))"
   ]
  },
  {
   "cell_type": "code",
   "execution_count": 32,
   "metadata": {
    "collapsed": true
   },
   "outputs": [],
   "source": [
    "xforms = {}"
   ]
  },
  {
   "cell_type": "code",
   "execution_count": 33,
   "metadata": {
    "collapsed": false
   },
   "outputs": [
    {
     "name": "stdout",
     "output_type": "stream",
     "text": [
      "('ACIS-I', 3)\n",
      "('ACIS-I', 0)\n",
      "('ACIS-I', 1)\n",
      "('ACIS-I', 2)\n",
      "('ACIS-S', 7)\n",
      "('ACIS-S', 6)\n",
      "('ACIS-S', 5)\n",
      "('ACIS-S', 4)\n",
      "('ACIS-S', 8)\n",
      "('ACIS-S', 9)\n"
     ]
    }
   ],
   "source": [
    "for det, chip_id, dy0, dz0 in det_ids:\n",
    "    key = det.upper(), chip_id\n",
    "    if key in xforms:\n",
    "        continue\n",
    "    print(key)\n",
    "    fr = fit_xform(det, chip_id, dy0, dz0)\n",
    "    xforms[key] = fr.parvals"
   ]
  },
  {
   "cell_type": "markdown",
   "metadata": {},
   "source": [
    "### Compare model prediction to actual"
   ]
  },
  {
   "cell_type": "code",
   "execution_count": 34,
   "metadata": {
    "collapsed": false
   },
   "outputs": [
    {
     "name": "stdout",
     "output_type": "stream",
     "text": [
      "[ 342.31800567  545.26424704]\n",
      "[342.318005673565, 545.2642470411855, 1.0]\n"
     ]
    }
   ],
   "source": [
    "print dyz_to_chipxy(xforms['ACIS-I', 1], [-10, -10])\n",
    "print dmcoords_chipx_chipy(det='ACIS-I', dy=-10.0, dz=-10.0)"
   ]
  },
  {
   "cell_type": "code",
   "execution_count": 35,
   "metadata": {
    "collapsed": false
   },
   "outputs": [
    {
     "name": "stdout",
     "output_type": "stream",
     "text": [
      "[ 252.27465647  519.86245656]\n",
      "[252.2746564698478, 519.8624565623606, 7.0]\n"
     ]
    }
   ],
   "source": [
    "print dyz_to_chipxy(xforms['ACIS-S', 7], [0, 0])\n",
    "print dmcoords_chipx_chipy(det='ACIS-S', dy=0.0, dz=0.0)"
   ]
  },
  {
   "cell_type": "markdown",
   "metadata": {},
   "source": [
    "### Make a nicer format to copy into chandra_aca.drift module"
   ]
  },
  {
   "cell_type": "code",
   "execution_count": 36,
   "metadata": {
    "collapsed": false
   },
   "outputs": [],
   "source": [
    "xforms_out = {}\n",
    "for key, val in xforms.items():\n",
    "    vals = [round(x, 3) for x in val]\n",
    "    xforms_out[key] = {'c0': [vals[0], vals[1]],\n",
    "                      'cyz': [[vals[2], vals[3]],\n",
    "                              [vals[4], vals[5]]]}"
   ]
  },
  {
   "cell_type": "code",
   "execution_count": 37,
   "metadata": {
    "collapsed": false
   },
   "outputs": [
    {
     "name": "stdout",
     "output_type": "stream",
     "text": [
      "{('ACIS-I', 0): {'c0': [1099.688, 1108.985],\n",
      "                 'cyz': [[0.001, 41.742], [-41.742, 0.105]]},\n",
      " ('ACIS-I', 1): {'c0': [-75.09, 963.721],\n",
      "                 'cyz': [[0.001, -41.742], [41.741, 0.104]]},\n",
      " ('ACIS-I', 2): {'c0': [53.35, 1108.889],\n",
      "                 'cyz': [[-0.001, 41.742], [-41.742, -0.105]]},\n",
      " ('ACIS-I', 3): {'c0': [971.913, 963.171],\n",
      "                 'cyz': [[-0.001, -41.742], [41.742, -0.104]]},\n",
      " ('ACIS-S', 4): {'c0': [3383.032, 520.069],\n",
      "                 'cyz': [[-41.695, -0.021], [0.021, -41.689]]},\n",
      " ('ACIS-S', 5): {'c0': [2339.627, 519.194],\n",
      "                 'cyz': [[-41.691, -0.031], [0.037, -41.689]]},\n",
      " ('ACIS-S', 6): {'c0': [1296.718, 519.577],\n",
      "                 'cyz': [[-41.69, -0.031], [0.036, -41.689]]},\n",
      " ('ACIS-S', 7): {'c0': [252.275, 519.862],\n",
      "                 'cyz': [[-41.689, -0.022], [0.022, -41.689]]},\n",
      " ('ACIS-S', 8): {'c0': [-789.536, 519.829],\n",
      "                 'cyz': [[-41.69, -0.02], [0.02, -41.689]]},\n",
      " ('ACIS-S', 9): {'c0': [-1831.755, 519.591],\n",
      "                 'cyz': [[-41.693, -0.017], [0.017, -41.689]]}}\n"
     ]
    }
   ],
   "source": [
    "from pprint import pprint\n",
    "pprint(xforms_out)"
   ]
  }
 ],
 "metadata": {
  "kernelspec": {
   "display_name": "Python 2",
   "language": "python",
   "name": "python2"
  },
  "language_info": {
   "codemirror_mode": {
    "name": "ipython",
    "version": 2
   },
   "file_extension": ".py",
   "mimetype": "text/x-python",
   "name": "python",
   "nbconvert_exporter": "python",
   "pygments_lexer": "ipython2",
   "version": "2.7.9"
  }
 },
 "nbformat": 4,
 "nbformat_minor": 0
}
